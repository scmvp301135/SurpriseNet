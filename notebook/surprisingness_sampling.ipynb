{
 "cells": [
  {
   "cell_type": "code",
   "execution_count": null,
   "metadata": {},
   "outputs": [],
   "source": [
    "## Clear all package\n",
    "import sys\n",
    "del sys.modules"
   ]
  },
  {
   "cell_type": "code",
   "execution_count": 2,
   "metadata": {},
   "outputs": [],
   "source": [
    "import os\n",
    "os.chdir('..')"
   ]
  },
  {
   "cell_type": "code",
   "execution_count": 3,
   "metadata": {},
   "outputs": [
    {
     "data": {
      "text/plain": [
       "'/mnt/md1/user_victor/automatic_melody_harmonization'"
      ]
     },
     "execution_count": 3,
     "metadata": {},
     "output_type": "execute_result"
    }
   ],
   "source": [
    "pwd"
   ]
  },
  {
   "cell_type": "code",
   "execution_count": 11,
   "metadata": {},
   "outputs": [],
   "source": []
  },
  {
   "cell_type": "code",
   "execution_count": 4,
   "metadata": {},
   "outputs": [],
   "source": [
    "import numpy as np\n",
    "import torch\n",
    "from torch.utils.data import DataLoader, Dataset\n",
    "import torch.nn as nn\n",
    "import torch.nn.functional as F\n",
    "import torch.optim as optim\n",
    "from torch.nn.utils.rnn import pack_padded_sequence, pad_packed_sequence\n",
    "import pickle\n",
    "from model.SurpriseNet import CVAE\n",
    "from decode import *\n",
    "import matplotlib.pyplot as plt\n",
    "import math\n",
    "from constants import CVAE_Constants, CVAE_All_Chords_Constants\n",
    "import math\n",
    "from create_surprisingness import markov_chain\n",
    "import statsmodels.api as sm\n",
    "from statsmodels.tsa.stattools import grangercausalitytests\n",
    "import pandas as pd\n",
    "from utils import *"
   ]
  },
  {
   "cell_type": "code",
   "execution_count": 41,
   "metadata": {},
   "outputs": [],
   "source": []
  },
  {
   "cell_type": "code",
   "execution_count": 5,
   "metadata": {},
   "outputs": [],
   "source": [
    "import numpy as np\n",
    "\n",
    "__all__ = ['frdist']\n",
    "\n",
    "\n",
    "def _c(ca, i, j, p, q):\n",
    "\n",
    "    if ca[i, j] > -1:\n",
    "        return ca[i, j]\n",
    "    elif i == 0 and j == 0:\n",
    "        ca[i, j] = np.linalg.norm(p[i]-q[j])\n",
    "    elif i > 0 and j == 0:\n",
    "        ca[i, j] = max(_c(ca, i-1, 0, p, q), np.linalg.norm(p[i]-q[j]))\n",
    "    elif i == 0 and j > 0:\n",
    "        ca[i, j] = max(_c(ca, 0, j-1, p, q), np.linalg.norm(p[i]-q[j]))\n",
    "    elif i > 0 and j > 0:\n",
    "        ca[i, j] = max(\n",
    "            min(\n",
    "                _c(ca, i-1, j, p, q),\n",
    "                _c(ca, i-1, j-1, p, q),\n",
    "                _c(ca, i, j-1, p, q)\n",
    "            ),\n",
    "            np.linalg.norm(p[i]-q[j])\n",
    "            )\n",
    "    else:\n",
    "        ca[i, j] = float('inf')\n",
    "\n",
    "    return ca[i, j]\n",
    "\n",
    "\n",
    "def frdist(p, q):\n",
    "    \"\"\"\n",
    "    Computes the discrete Fréchet distance between\n",
    "    two curves. The Fréchet distance between two curves in a\n",
    "    metric space is a measure of the similarity between the curves.\n",
    "    The discrete Fréchet distance may be used for approximately computing\n",
    "    the Fréchet distance between two arbitrary curves,\n",
    "    as an alternative to using the exact Fréchet distance between a polygonal\n",
    "    approximation of the curves or an approximation of this value.\n",
    "    This is a Python 3.* implementation of the algorithm produced\n",
    "    in Eiter, T. and Mannila, H., 1994. Computing discrete Fréchet distance.\n",
    "    Tech. Report CD-TR 94/64, Information Systems Department, Technical\n",
    "    University of Vienna.\n",
    "    http://www.kr.tuwien.ac.at/staff/eiter/et-archive/cdtr9464.pdf\n",
    "    Function dF(P, Q): real;\n",
    "        input: polygonal curves P = (u1, . . . , up) and Q = (v1, . . . , vq).\n",
    "        return: δdF (P, Q)\n",
    "        ca : array [1..p, 1..q] of real;\n",
    "        function c(i, j): real;\n",
    "            begin\n",
    "                if ca(i, j) > −1 then return ca(i, j)\n",
    "                elsif i = 1 and j = 1 then ca(i, j) := d(u1, v1)\n",
    "                elsif i > 1 and j = 1 then ca(i, j) := max{ c(i − 1, 1), d(ui, v1) }\n",
    "                elsif i = 1 and j > 1 then ca(i, j) := max{ c(1, j − 1), d(u1, vj) }\n",
    "                elsif i > 1 and j > 1 then ca(i, j) :=\n",
    "                max{ min(c(i − 1, j), c(i − 1, j − 1), c(i, j − 1)), d(ui, vj ) }\n",
    "                else ca(i, j) = ∞\n",
    "                return ca(i, j);\n",
    "            end; /* function c */\n",
    "        begin\n",
    "            for i = 1 to p do for j = 1 to q do ca(i, j) := −1.0;\n",
    "            return c(p, q);\n",
    "        end.\n",
    "    Parameters\n",
    "    ----------\n",
    "    P : Input curve - two dimensional array of points\n",
    "    Q : Input curve - two dimensional array of points\n",
    "    Returns\n",
    "    -------\n",
    "    dist: float64\n",
    "        The discrete Fréchet distance between curves `P` and `Q`.\n",
    "    Examples\n",
    "    --------\n",
    "    >>> from frechetdist import frdist\n",
    "    >>> P=[[1,1], [2,1], [2,2]]\n",
    "    >>> Q=[[2,2], [0,1], [2,4]]\n",
    "    >>> frdist(P,Q)\n",
    "    >>> 2.0\n",
    "    >>> P=[[1,1], [2,1], [2,2]]\n",
    "    >>> Q=[[1,1], [2,1], [2,2]]\n",
    "    >>> frdist(P,Q)\n",
    "    >>> 0\n",
    "    \"\"\"\n",
    "    p = np.array(p, np.float64)\n",
    "    q = np.array(q, np.float64)\n",
    "\n",
    "    len_p = len(p)\n",
    "    len_q = len(q)\n",
    "\n",
    "    if len_p == 0 or len_q == 0:\n",
    "        raise ValueError('Input curves are empty.')\n",
    "\n",
    "    if len_p != len_q or len(p[0]) != len(q[0]):\n",
    "        raise ValueError('Input curves do not have the same dimensions.')\n",
    "\n",
    "    ca = (np.ones((len_p, len_q), dtype=np.float64) * -1)\n",
    "\n",
    "    dist = _c(ca, len_p-1, len_q-1, p, q)\n",
    "    return dist"
   ]
  },
  {
   "cell_type": "code",
   "execution_count": 185,
   "metadata": {},
   "outputs": [],
   "source": [
    "# chord = np.load('./data/number_96_2_beat.npy')\n",
    "# chord_onehot = np.load('./data/onehot_96_2_beat.npy')"
   ]
  },
  {
   "cell_type": "code",
   "execution_count": 7,
   "metadata": {},
   "outputs": [],
   "source": [
    "melody_framewise = np.load('./data/melody_midi.npy')\n",
    "chord_groundtruth_idx = np.load('./data/chord_midi.npy')\n",
    "\n",
    "melody = np.load('./data/melody_aligned.npy')\n",
    "chord = np.load('./data/chord_indices.npy')\n",
    "chord_onehot = np.load('./data/chord_onehot.npy')\n",
    "length = np.load('./data/length.npy')\n",
    "\n",
    "f = open('./data/tempos', 'rb')\n",
    "tempos = pickle.load(f)\n",
    "f.close()\n",
    "f = open('./data/downbeats', 'rb')\n",
    "downbeats = pickle.load(f)\n",
    "f.close()"
   ]
  },
  {
   "cell_type": "code",
   "execution_count": 8,
   "metadata": {},
   "outputs": [
    {
     "name": "stdout",
     "output_type": "stream",
     "text": [
      "splitting testing set...\n"
     ]
    }
   ],
   "source": [
    "val_size = 500\n",
    "print('splitting testing set...')\n",
    "val_melody_framewise = melody_framewise[:val_size]\n",
    "val_chord_groundtruth_idx = chord_groundtruth_idx[:val_size]\n",
    "\n",
    "val_chord = torch.from_numpy(chord_onehot[:val_size]).float()\n",
    "val_melody = torch.from_numpy(melody[:val_size]).float()\n",
    "val_length = torch.from_numpy(length[:val_size])\n"
   ]
  },
  {
   "cell_type": "code",
   "execution_count": 51,
   "metadata": {},
   "outputs": [
    {
     "name": "stdout",
     "output_type": "stream",
     "text": [
      "building model...\n",
      "CVAE(\n",
      "  (surprise_prenet): LSTM(1, 256, num_layers=2, batch_first=True, dropout=0.2, bidirectional=True)\n",
      "  (encoder): LSTM(1721, 512, num_layers=2, batch_first=True, dropout=0.2, bidirectional=True)\n",
      "  (encoder_output2mean): Linear(in_features=1024, out_features=64, bias=True)\n",
      "  (encoder_output2logv): Linear(in_features=1024, out_features=64, bias=True)\n",
      "  (latent2decoder_input): Linear(in_features=1152, out_features=256, bias=True)\n",
      "  (decoder): LSTM(256, 512, num_layers=2, batch_first=True, dropout=0.2, bidirectional=True)\n",
      "  (outputs2chord): Linear(in_features=1024, out_features=633, bias=True)\n",
      ")\n"
     ]
    }
   ],
   "source": [
    "# Load model\n",
    "device = 'cpu'\n",
    "print('building model...')\n",
    "model_surp = CVAE(model_type = 'SurpriseNet',\n",
    "                  params = CVAE_All_Chords_Constants,\n",
    "                  device = device).to(device)\n",
    "\n",
    "model_surp.load_state_dict(torch.load('output_models/model_weight_surprisenet.pth'))\n",
    "\n",
    "print(model_surp)\n",
    "model_surp.eval()\n",
    "val_length, val_melody = val_length.to(device), val_melody.to(device)"
   ]
  },
  {
   "cell_type": "code",
   "execution_count": 10,
   "metadata": {},
   "outputs": [
    {
     "data": {
      "text/plain": [
       "'SurpriseNet'"
      ]
     },
     "execution_count": 10,
     "metadata": {},
     "output_type": "execute_result"
    }
   ],
   "source": [
    "model_surp.model_type"
   ]
  },
  {
   "cell_type": "code",
   "execution_count": 44,
   "metadata": {},
   "outputs": [
    {
     "data": {
      "text/plain": [
       "(17430,)"
      ]
     },
     "execution_count": 44,
     "metadata": {},
     "output_type": "execute_result"
    }
   ],
   "source": [
    "length.shape"
   ]
  },
  {
   "cell_type": "code",
   "execution_count": 50,
   "metadata": {},
   "outputs": [
    {
     "data": {
      "text/plain": [
       "(1,)"
      ]
     },
     "execution_count": 50,
     "metadata": {},
     "output_type": "execute_result"
    }
   ],
   "source": [
    "np.expand_dims(length[70],axis=-1).shape"
   ]
  },
  {
   "cell_type": "code",
   "execution_count": 35,
   "metadata": {},
   "outputs": [
    {
     "data": {
      "text/plain": [
       "array([17, 19, 17, 19,  8,  8, 16, 20, 45, 49, 32, 33, 17, 33, 16, 17, 16,\n",
       "       33, 16, 33, 33,  9, 17, 16, 16, 14,  8, 17, 16, 12, 16, 17, 16, 32,\n",
       "       29,  8, 16, 35, 16,  8, 24, 16, 16, 15, 13,  4,  8, 16,  8, 16, 16,\n",
       "       33, 18, 38, 32, 33, 32, 24, 24, 16, 17, 16,  8, 17, 19, 17, 32, 16,\n",
       "       32, 19])"
      ]
     },
     "execution_count": 35,
     "metadata": {},
     "output_type": "execute_result"
    }
   ],
   "source": [
    "length[:70]"
   ]
  },
  {
   "cell_type": "code",
   "execution_count": 40,
   "metadata": {},
   "outputs": [
    {
     "data": {
      "text/plain": [
       "[4,\n",
       " 5,\n",
       " 26,\n",
       " 35,\n",
       " 39,\n",
       " 46,\n",
       " 48,\n",
       " 62,\n",
       " 107,\n",
       " 122,\n",
       " 123,\n",
       " 124,\n",
       " 140,\n",
       " 142,\n",
       " 143,\n",
       " 160,\n",
       " 161,\n",
       " 167,\n",
       " 198,\n",
       " 202,\n",
       " 215,\n",
       " 287,\n",
       " 350,\n",
       " 366,\n",
       " 374,\n",
       " 388,\n",
       " 389,\n",
       " 396,\n",
       " 475]"
      ]
     },
     "execution_count": 40,
     "metadata": {},
     "output_type": "execute_result"
    }
   ],
   "source": [
    "[x for x in range(500) if length[x] == 8 ]"
   ]
  },
  {
   "cell_type": "code",
   "execution_count": 38,
   "metadata": {},
   "outputs": [
    {
     "data": {
      "text/plain": [
       "8"
      ]
     },
     "execution_count": 38,
     "metadata": {},
     "output_type": "execute_result"
    }
   ],
   "source": [
    "length[62]"
   ]
  },
  {
   "cell_type": "code",
   "execution_count": 128,
   "metadata": {},
   "outputs": [],
   "source": [
    "## Profile function\n",
    "# norm = np.max(surp)\n",
    "norm = -np.log(1e-4)\n",
    "\n",
    "class profile_type():\n",
    "    def __init__(self,type_num,length,norm):\n",
    "        \n",
    "        self.norm = norm\n",
    "        self.length = length\n",
    "        self.profile = None\n",
    "        \n",
    "        if type_num == 1:\n",
    "            self.profile = self.type1()\n",
    "            \n",
    "        if type_num == 2:\n",
    "            self.profile = self.type2()\n",
    "            \n",
    "        if type_num == 3:\n",
    "            self.profile = self.type3()\n",
    "            \n",
    "        if type_num == 4:\n",
    "            self.profile = self.type4()\n",
    "            \n",
    "        if type_num == 5:\n",
    "            self.profile = self.type5()\n",
    "            \n",
    "        if type_num == 6:\n",
    "            self.profile = self.type6()\n",
    "            \n",
    "        if type_num == 7:\n",
    "            self.profile = self.type7()\n",
    "        \n",
    "    def type1(self):\n",
    "        \n",
    "#         x = torch.arange(0,self.length,1) * norm\n",
    "#         x1 = torch.Tensor([0] * (self.length / 2))\n",
    "#         x2 = torch.Tensor([self.norm] * (self.length / 2)) \n",
    "#         x = torch.cat([x1,x2])\n",
    "        x = torch.arange(0,self.length,1)\n",
    "        y = self.norm / (1 + torch.exp(-( x - self.length / 2 )))\n",
    "#         y[:5] = self.norm\n",
    "        return y\n",
    "\n",
    "    def type2(self):   \n",
    "#         x = torch.arange(self.length,0,-1) * norm\n",
    "#         x1 = torch.Tensor([self.norm] * (self.length / 2))\n",
    "#         x2 = torch.Tensor([0] * (self.length / 2 )) \n",
    "#         x = torch.cat([x1,x2])\n",
    "\n",
    "        x = torch.arange(0,self.length,1)\n",
    "        y = - self.norm / (1 + torch.exp(-( x - self.length / 2 ))) + self.norm\n",
    "#         y[:5] = self.norm\n",
    "        return y\n",
    "\n",
    "    def type3(self):   \n",
    "        x = torch.Tensor([0] * self.length)\n",
    "#         x[5:] = 0\n",
    "        return x\n",
    "\n",
    "    def type4(self):   \n",
    "        x = torch.Tensor([self.norm] * self.length)\n",
    "        return x\n",
    "\n",
    "    def type5(self):   \n",
    "#         x1 = torch.arange(0,self.length // 2,1) * self.norm\n",
    "#         x2 = torch.arange(self.length // 2,0,-1) * self.norm\n",
    "#         x = torch.cat([x1,x2])\n",
    "        mu, sigma = self.length / 2, self.length / 8 # mean and standard deviation\n",
    "        x = torch.arange(0,self.length + 1,1)\n",
    "        y = 1 / (sigma * math.sqrt(2 * math.pi)) * torch.exp(- (x - mu) ** 2 / (2 * sigma ** 2))\n",
    "        max_value = max(y)\n",
    "        ratio = self.norm / max_value\n",
    "        y *= ratio\n",
    "#         y[:5] = self.norm\n",
    "        return y\n",
    "\n",
    "    def type6(self):   \n",
    "#         factor = self.length // 4\n",
    "#         x = torch.Tensor([0,0,norm,norm] * factor) \n",
    "        mu, sigma = self.length / 2, self.length / 8 # mean and standard deviation\n",
    "        x = torch.arange(0,self.length + 1,1)\n",
    "        y = 1 / (sigma * math.sqrt(2 * math.pi)) * torch.exp(- (x - mu) ** 2 / (2 * sigma ** 2))\n",
    "        max_value = max(y)\n",
    "        ratio = self.norm / max_value\n",
    "        y = -y * ratio + self.norm\n",
    "#         y[:5] = self.norm\n",
    "        return y\n",
    "    \n",
    "    def type7(self):   \n",
    "        x = torch.Tensor([0.8] * self.length)\n",
    "        return x\n",
    "\n",
    "# def write_pianoroll(chord_pred,song_index,type_num):\n",
    "#     ########## Random sampling ###########\n",
    "#     # Proceed chord decode\n",
    "#     print('proceed chord decode...')\n",
    "#     joint_prob = chord_pred.cpu().detach().numpy()\n",
    "\n",
    "#     # Append argmax index to get pianoroll array\n",
    "#     accompany_pianoroll = argmax2pianoroll(joint_prob)\n",
    "\n",
    "#     # augment chord into frame base\n",
    "#     BEAT_RESOLUTION = 24\n",
    "#     BEAT_PER_CHORD = 2\n",
    "\n",
    "#     accompany_pianoroll_framewise, sample_chord_groundtruth_framewise = sequence2frame(accompany_pianoroll, sample_chord_groundtruth_idx)\n",
    "\n",
    "#     # length into frame base\n",
    "#     sample_length_framewise = sample_length * BEAT_RESOLUTION * BEAT_PER_CHORD\n",
    "\n",
    "#     # write pianoroll\n",
    "#     result_dir = 'results/surprising_cvae_all_chords'\n",
    "#     filename = str(song_index) + '-surprisingness-type-' + str(type_num)\n",
    "#     write_one_pianoroll(result_dir, filename, sample_melody_framewise, accompany_pianoroll_framewise, sample_chord_groundtruth_framewise, sample_length_framewise, sample_tempo, sample_downbeat)\n"
   ]
  },
  {
   "cell_type": "code",
   "execution_count": 132,
   "metadata": {},
   "outputs": [
    {
     "name": "stdout",
     "output_type": "stream",
     "text": [
      "torch.Size([8])\n"
     ]
    },
    {
     "name": "stderr",
     "output_type": "stream",
     "text": [
      "  0%|          | 0/1 [00:00<?, ?it/s]"
     ]
    },
    {
     "name": "stdout",
     "output_type": "stream",
     "text": [
      "tensor([115, 256, 256, 529, 135, 595,   0,   0])\n",
      "['C | E (add9)', 'Fmaj7', 'Fmaj7', 'em | B', 'Cmaj7 | E', 'gbø7 | A', '', '']\n"
     ]
    },
    {
     "name": "stderr",
     "output_type": "stream",
     "text": [
      "100%|██████████| 1/1 [00:09<00:00,  9.92s/it]\n"
     ]
    },
    {
     "name": "stdout",
     "output_type": "stream",
     "text": [
      "proceed chord decode...\n",
      "generate_pianoroll shape (1, 272, 128)\n",
      "augment chord into frame base...\n",
      "accompany_pianoroll frame shape: (1, 13056, 128)\n",
      "groundtruth_pianoroll frame shape: (1, 13056, 128)\n",
      "write pianoroll...\n",
      "Finished!\n",
      "torch.Size([8])\n"
     ]
    },
    {
     "name": "stderr",
     "output_type": "stream",
     "text": [
      "  0%|          | 0/1 [00:00<?, ?it/s]"
     ]
    },
    {
     "name": "stdout",
     "output_type": "stream",
     "text": [
      "tensor([115, 115, 115, 148, 135, 115, 478,   0])\n",
      "['C | E (add9)', 'C | E (add9)', 'C | E (add9)', 'D7', 'Cmaj7 | E', 'C | E (add9)', 'dm7', '']\n"
     ]
    },
    {
     "name": "stderr",
     "output_type": "stream",
     "text": [
      "100%|██████████| 1/1 [00:10<00:00, 10.16s/it]\n"
     ]
    },
    {
     "name": "stdout",
     "output_type": "stream",
     "text": [
      "proceed chord decode...\n",
      "generate_pianoroll shape (1, 272, 128)\n",
      "augment chord into frame base...\n",
      "accompany_pianoroll frame shape: (1, 13056, 128)\n",
      "groundtruth_pianoroll frame shape: (1, 13056, 128)\n",
      "write pianoroll...\n",
      "Finished!\n",
      "torch.Size([8])\n"
     ]
    },
    {
     "name": "stderr",
     "output_type": "stream",
     "text": [
      "  0%|          | 0/1 [00:00<?, ?it/s]"
     ]
    },
    {
     "name": "stdout",
     "output_type": "stream",
     "text": [
      "tensor([256, 256, 256,   0,   0,   0,   0,   0])\n",
      "['Fmaj7', 'Fmaj7', 'Fmaj7', '', '', '', '', '']\n"
     ]
    },
    {
     "name": "stderr",
     "output_type": "stream",
     "text": [
      "100%|██████████| 1/1 [00:10<00:00, 10.08s/it]\n"
     ]
    },
    {
     "name": "stdout",
     "output_type": "stream",
     "text": [
      "proceed chord decode...\n",
      "generate_pianoroll shape (1, 272, 128)\n",
      "augment chord into frame base...\n",
      "accompany_pianoroll frame shape: (1, 13056, 128)\n",
      "groundtruth_pianoroll frame shape: (1, 13056, 128)\n",
      "write pianoroll...\n",
      "Finished!\n",
      "torch.Size([8])\n",
      "tensor([115, 115, 115, 115, 115, 478, 478,   0])\n",
      "['C | E (add9)', 'C | E (add9)', 'C | E (add9)', 'C | E (add9)', 'C | E (add9)', 'dm7', 'dm7', '']\n"
     ]
    },
    {
     "name": "stderr",
     "output_type": "stream",
     "text": [
      "100%|██████████| 1/1 [00:09<00:00,  9.80s/it]\n"
     ]
    },
    {
     "name": "stdout",
     "output_type": "stream",
     "text": [
      "proceed chord decode...\n",
      "generate_pianoroll shape (1, 272, 128)\n",
      "augment chord into frame base...\n",
      "accompany_pianoroll frame shape: (1, 13056, 128)\n",
      "groundtruth_pianoroll frame shape: (1, 13056, 128)\n",
      "write pianoroll...\n",
      "Finished!\n",
      "torch.Size([8])\n"
     ]
    },
    {
     "name": "stderr",
     "output_type": "stream",
     "text": [
      "  0%|          | 0/1 [00:00<?, ?it/s]"
     ]
    },
    {
     "name": "stdout",
     "output_type": "stream",
     "text": [
      "tensor([256, 256, 256, 138, 135, 341, 256,   0])\n",
      "['Fmaj7', 'Fmaj7', 'Fmaj7', 'D', 'Cmaj7 | E', 'am', 'Fmaj7', '']\n"
     ]
    },
    {
     "name": "stderr",
     "output_type": "stream",
     "text": [
      "100%|██████████| 1/1 [00:09<00:00,  9.75s/it]\n"
     ]
    },
    {
     "name": "stdout",
     "output_type": "stream",
     "text": [
      "proceed chord decode...\n",
      "generate_pianoroll shape (1, 272, 128)\n",
      "augment chord into frame base...\n",
      "accompany_pianoroll frame shape: (1, 13056, 128)\n",
      "groundtruth_pianoroll frame shape: (1, 13056, 128)\n",
      "write pianoroll...\n",
      "Finished!\n",
      "torch.Size([8])\n"
     ]
    },
    {
     "name": "stderr",
     "output_type": "stream",
     "text": [
      "  0%|          | 0/1 [00:00<?, ?it/s]"
     ]
    },
    {
     "name": "stdout",
     "output_type": "stream",
     "text": [
      "tensor([115, 115, 256, 148, 135, 478, 478,   0])\n",
      "['C | E (add9)', 'C | E (add9)', 'Fmaj7', 'D7', 'Cmaj7 | E', 'dm7', 'dm7', '']\n"
     ]
    },
    {
     "name": "stderr",
     "output_type": "stream",
     "text": [
      "100%|██████████| 1/1 [00:10<00:00, 10.04s/it]\n"
     ]
    },
    {
     "name": "stdout",
     "output_type": "stream",
     "text": [
      "proceed chord decode...\n",
      "generate_pianoroll shape (1, 272, 128)\n",
      "augment chord into frame base...\n",
      "accompany_pianoroll frame shape: (1, 13056, 128)\n",
      "groundtruth_pianoroll frame shape: (1, 13056, 128)\n",
      "write pianoroll...\n",
      "Finished!\n"
     ]
    },
    {
     "data": {
      "image/png": "[encoded data removed]",
      "text/plain": [
       "<Figure size 432x288 with 1 Axes>"
      ]
     },
     "metadata": {
      "needs_background": "light"
     },
     "output_type": "display_data"
    },
    {
     "data": {
      "image/png": "[encoded data removed]",
      "text/plain": [
       "<Figure size 432x288 with 1 Axes>"
      ]
     },
     "metadata": {
      "needs_background": "light"
     },
     "output_type": "display_data"
    },
    {
     "data": {
      "image/png": "[encoded data removed]",
      "text/plain": [
       "<Figure size 432x288 with 1 Axes>"
      ]
     },
     "metadata": {
      "needs_background": "light"
     },
     "output_type": "display_data"
    },
    {
     "data": {
      "image/png": "[encoded data removed]",
      "text/plain": [
       "<Figure size 432x288 with 1 Axes>"
      ]
     },
     "metadata": {
      "needs_background": "light"
     },
     "output_type": "display_data"
    },
    {
     "data": {
      "image/png": "[encoded data removed]",
      "text/plain": [
       "<Figure size 432x288 with 1 Axes>"
      ]
     },
     "metadata": {
      "needs_background": "light"
     },
     "output_type": "display_data"
    },
    {
     "data": {
      "image/png": "[encoded data removed]",
      "text/plain": [
       "<Figure size 432x288 with 1 Axes>"
      ]
     },
     "metadata": {
      "needs_background": "light"
     },
     "output_type": "display_data"
    }
   ],
   "source": [
    "# Sampling\n",
    "# torch.manual_seed(0)\n",
    "song_index = 4\n",
    "sample_melody = val_melody[song_index].unsqueeze(0)\n",
    "sample_length = val_length[song_index]\n",
    "sample_melody_framewise = np.expand_dims(val_melody_framewise[song_index],axis=0)\n",
    "sample_chord_groundtruth_idx = np.expand_dims(val_chord_groundtruth_idx[song_index],axis=0)\n",
    "sample_tempo = [tempos[song_index]]\n",
    "sample_downbeat = [downbeats[song_index]]\n",
    "\n",
    "true_surprise = np.array([])\n",
    "pred_surprise = np.array([])\n",
    "\n",
    "## Surprising profile\n",
    "for type_num in range(1,7):\n",
    "    s = profile_type(type_num,sample_length.item(),norm).profile[:sample_length]\n",
    "    print(s.shape)\n",
    "    true_surprise = np.concatenate((true_surprise,s.numpy()))\n",
    "\n",
    "    pad = nn.ConstantPad2d((0, 272 - s.shape[0]), 0)\n",
    "    surprise = pad(s).unsqueeze(0).unsqueeze(2)\n",
    "    surprise = model_surp.surprise_embedding(surprise,sample_length.unsqueeze(0))\n",
    "    latent_size = 16 * 4\n",
    "\n",
    "    decoder_input = torch.cat([sample_melody, surprise],dim=-1)\n",
    "\n",
    "    # for k in range(10):\n",
    "    z = torch.randn(1,272,latent_size)\n",
    "#     z = torch.cat([z,sample_melody,surprise], dim=-1)\n",
    "    output, chord_pred = model_surp.decode(z,decoder_input)\n",
    "#     output, chord_pred = model_surp.decode(z)\n",
    "    gen_chord_index = torch.max(chord_pred[0],-1).indices[:sample_length]\n",
    "\n",
    "    print(gen_chord_index)\n",
    "    #     print(gen_chord_index.shape)\n",
    "    print([INDICES_TO_SYMBOL[x] for x in gen_chord_index.numpy()])\n",
    "\n",
    "    gen_chord_seq = torch.max(chord_pred[0],-1).indices.unsqueeze(0).unsqueeze(-1)\n",
    "    ########## Surprise contours ###########\n",
    "    all_chords = True\n",
    "    surprisingness_seq, TM = markov_chain(gen_chord_seq,all_chords).create_surprisingness_seqs()\n",
    "    surprisingness_seq[0][1] = 0\n",
    "    pred_surprise = np.concatenate((pred_surprise,surprisingness_seq[0][:sample_length].squeeze()))\n",
    "\n",
    "    fig, ax = plt.subplots()\n",
    "    ax.plot(surprisingness_seq[0][:sample_length],'.',markersize=12)\n",
    "    ax.plot(s,'k',linewidth=5)\n",
    "\n",
    "    ########## Random sampling ###########\n",
    "    # Proceed chord decode\n",
    "    print('proceed chord decode...')\n",
    "    joint_prob = chord_pred.cpu().detach().numpy()\n",
    "\n",
    "    # Append argmax index to get pianoroll array\n",
    "#     accompany_pianoroll = argmax2pianoroll(joint_prob)\n",
    "    accompany_pianoroll = argmax2pianoroll_all(joint_prob)\n",
    "\n",
    "    # augment chord into frame base\n",
    "    BEAT_RESOLUTION = 24\n",
    "    BEAT_PER_CHORD = 2\n",
    "\n",
    "    accompany_pianoroll_framewise, sample_chord_groundtruth_framewise = sequence2frame(accompany_pianoroll, sample_chord_groundtruth_idx)\n",
    "\n",
    "    # length into frame base\n",
    "    sample_length_framewise = sample_length * BEAT_RESOLUTION * BEAT_PER_CHORD\n",
    "\n",
    "    # write pianoroll\n",
    "    result_dir = 'results/weight_surprising_cvae_all_chords'\n",
    "    filename = str(song_index) + '-surprisingness-function-type-' + str(type_num)\n",
    "    write_one_pianoroll(result_dir, filename, sample_melody_framewise, accompany_pianoroll_framewise, sample_chord_groundtruth_framewise, sample_length_framewise, sample_tempo, sample_downbeat)\n",
    "\n",
    "# ########## granger causality ###########\n",
    "# data = pd.DataFrame({\n",
    "#                  'true_surprise': true_surprise, \n",
    "#                  'pred_surprise': pred_surprise\n",
    "#                 }\n",
    "#                )\n",
    "# gc_res = grangercausalitytests(data, 4)"
   ]
  },
  {
   "cell_type": "markdown",
   "metadata": {},
   "source": [
    "\n"
   ]
  }
 ],
 "metadata": {
  "kernelspec": {
   "display_name": "Python 3",
   "language": "python",
   "name": "python3"
  },
  "language_info": {
   "codemirror_mode": {
    "name": "ipython",
    "version": 3
   },
   "file_extension": ".py",
   "mimetype": "text/x-python",
   "name": "python",
   "nbconvert_exporter": "python",
   "pygments_lexer": "ipython3",
   "version": "3.7.9"
  }
 },
 "nbformat": 4,
 "nbformat_minor": 4
}

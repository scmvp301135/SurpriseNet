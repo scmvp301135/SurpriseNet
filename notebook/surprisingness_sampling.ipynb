{
 "cells": [
  {
   "cell_type": "code",
   "execution_count": 2,
   "metadata": {},
   "outputs": [],
   "source": [
    "import os\n",
    "os.chdir('..')"
   ]
  },
  {
   "cell_type": "code",
   "execution_count": 3,
   "metadata": {},
   "outputs": [
    {
     "data": {
      "text/plain": [
       "'/mnt/md1/user_victor/automatic_melody_harmonization'"
      ]
     },
     "execution_count": 3,
     "metadata": {},
     "output_type": "execute_result"
    }
   ],
   "source": [
    "pwd"
   ]
  },
  {
   "cell_type": "code",
   "execution_count": 23,
   "metadata": {},
   "outputs": [],
   "source": [
    "from tonal import pianoroll2number, joint_prob2pianoroll96\n",
    "from tonal import tonal_centroid, chord482note, chord962note, note2number\n",
    "import numpy as np\n",
    "import torch\n",
    "from torch.utils.data import DataLoader, Dataset\n",
    "import torch.nn as nn\n",
    "import torch.nn.functional as F\n",
    "import torch.optim as optim\n",
    "from torch.nn.utils.rnn import pack_padded_sequence, pad_packed_sequence\n",
    "import pickle\n",
    "from model.surprise_CVAE_all_chords import CVAE\n",
    "from decode import *\n",
    "import matplotlib.pyplot as plt\n",
    "import math\n",
    "from create_surprisingness import markov_chain\n",
    "import statsmodels.api as sm\n",
    "from statsmodels.tsa.stattools import grangercausalitytests\n",
    "import pandas as pd\n",
    "from utils import *"
   ]
  },
  {
   "cell_type": "code",
   "execution_count": 29,
   "metadata": {},
   "outputs": [],
   "source": []
  },
  {
   "cell_type": "code",
   "execution_count": 5,
   "metadata": {},
   "outputs": [],
   "source": [
    "import numpy as np\n",
    "\n",
    "__all__ = ['frdist']\n",
    "\n",
    "\n",
    "def _c(ca, i, j, p, q):\n",
    "\n",
    "    if ca[i, j] > -1:\n",
    "        return ca[i, j]\n",
    "    elif i == 0 and j == 0:\n",
    "        ca[i, j] = np.linalg.norm(p[i]-q[j])\n",
    "    elif i > 0 and j == 0:\n",
    "        ca[i, j] = max(_c(ca, i-1, 0, p, q), np.linalg.norm(p[i]-q[j]))\n",
    "    elif i == 0 and j > 0:\n",
    "        ca[i, j] = max(_c(ca, 0, j-1, p, q), np.linalg.norm(p[i]-q[j]))\n",
    "    elif i > 0 and j > 0:\n",
    "        ca[i, j] = max(\n",
    "            min(\n",
    "                _c(ca, i-1, j, p, q),\n",
    "                _c(ca, i-1, j-1, p, q),\n",
    "                _c(ca, i, j-1, p, q)\n",
    "            ),\n",
    "            np.linalg.norm(p[i]-q[j])\n",
    "            )\n",
    "    else:\n",
    "        ca[i, j] = float('inf')\n",
    "\n",
    "    return ca[i, j]\n",
    "\n",
    "\n",
    "def frdist(p, q):\n",
    "    \"\"\"\n",
    "    Computes the discrete Fréchet distance between\n",
    "    two curves. The Fréchet distance between two curves in a\n",
    "    metric space is a measure of the similarity between the curves.\n",
    "    The discrete Fréchet distance may be used for approximately computing\n",
    "    the Fréchet distance between two arbitrary curves,\n",
    "    as an alternative to using the exact Fréchet distance between a polygonal\n",
    "    approximation of the curves or an approximation of this value.\n",
    "    This is a Python 3.* implementation of the algorithm produced\n",
    "    in Eiter, T. and Mannila, H., 1994. Computing discrete Fréchet distance.\n",
    "    Tech. Report CD-TR 94/64, Information Systems Department, Technical\n",
    "    University of Vienna.\n",
    "    http://www.kr.tuwien.ac.at/staff/eiter/et-archive/cdtr9464.pdf\n",
    "    Function dF(P, Q): real;\n",
    "        input: polygonal curves P = (u1, . . . , up) and Q = (v1, . . . , vq).\n",
    "        return: δdF (P, Q)\n",
    "        ca : array [1..p, 1..q] of real;\n",
    "        function c(i, j): real;\n",
    "            begin\n",
    "                if ca(i, j) > −1 then return ca(i, j)\n",
    "                elsif i = 1 and j = 1 then ca(i, j) := d(u1, v1)\n",
    "                elsif i > 1 and j = 1 then ca(i, j) := max{ c(i − 1, 1), d(ui, v1) }\n",
    "                elsif i = 1 and j > 1 then ca(i, j) := max{ c(1, j − 1), d(u1, vj) }\n",
    "                elsif i > 1 and j > 1 then ca(i, j) :=\n",
    "                max{ min(c(i − 1, j), c(i − 1, j − 1), c(i, j − 1)), d(ui, vj ) }\n",
    "                else ca(i, j) = ∞\n",
    "                return ca(i, j);\n",
    "            end; /* function c */\n",
    "        begin\n",
    "            for i = 1 to p do for j = 1 to q do ca(i, j) := −1.0;\n",
    "            return c(p, q);\n",
    "        end.\n",
    "    Parameters\n",
    "    ----------\n",
    "    P : Input curve - two dimensional array of points\n",
    "    Q : Input curve - two dimensional array of points\n",
    "    Returns\n",
    "    -------\n",
    "    dist: float64\n",
    "        The discrete Fréchet distance between curves `P` and `Q`.\n",
    "    Examples\n",
    "    --------\n",
    "    >>> from frechetdist import frdist\n",
    "    >>> P=[[1,1], [2,1], [2,2]]\n",
    "    >>> Q=[[2,2], [0,1], [2,4]]\n",
    "    >>> frdist(P,Q)\n",
    "    >>> 2.0\n",
    "    >>> P=[[1,1], [2,1], [2,2]]\n",
    "    >>> Q=[[1,1], [2,1], [2,2]]\n",
    "    >>> frdist(P,Q)\n",
    "    >>> 0\n",
    "    \"\"\"\n",
    "    p = np.array(p, np.float64)\n",
    "    q = np.array(q, np.float64)\n",
    "\n",
    "    len_p = len(p)\n",
    "    len_q = len(q)\n",
    "\n",
    "    if len_p == 0 or len_q == 0:\n",
    "        raise ValueError('Input curves are empty.')\n",
    "\n",
    "    if len_p != len_q or len(p[0]) != len(q[0]):\n",
    "        raise ValueError('Input curves do not have the same dimensions.')\n",
    "\n",
    "    ca = (np.ones((len_p, len_q), dtype=np.float64) * -1)\n",
    "\n",
    "    dist = _c(ca, len_p-1, len_q-1, p, q)\n",
    "    return dist"
   ]
  },
  {
   "cell_type": "code",
   "execution_count": 185,
   "metadata": {},
   "outputs": [],
   "source": [
    "# chord = np.load('./data/number_96_2_beat.npy')\n",
    "# chord_onehot = np.load('./data/onehot_96_2_beat.npy')"
   ]
  },
  {
   "cell_type": "code",
   "execution_count": 6,
   "metadata": {},
   "outputs": [],
   "source": [
    "melody_framewise = np.load('./data/melody_data.npy')\n",
    "chord_groundtruth_idx = np.load('./data/chord_groundtruth.npy')\n",
    "\n",
    "melody = np.load('./data/melody_baseline.npy')\n",
    "chord = np.load('./data/chord_indices.npy')\n",
    "chord_onehot = np.load('./data/chord_onehot.npy')\n",
    "length = np.load('./data/length.npy')\n",
    "\n",
    "f = open('./data/tempos', 'rb')\n",
    "tempos = pickle.load(f)\n",
    "f.close()\n",
    "f = open('./data/downbeats', 'rb')\n",
    "downbeats = pickle.load(f)\n",
    "f.close()"
   ]
  },
  {
   "cell_type": "code",
   "execution_count": 7,
   "metadata": {},
   "outputs": [
    {
     "name": "stdout",
     "output_type": "stream",
     "text": [
      "splitting testing set...\n"
     ]
    }
   ],
   "source": [
    "val_size = 500\n",
    "print('splitting testing set...')\n",
    "val_melody_framewise = melody_framewise[:val_size]\n",
    "val_chord_groundtruth_idx = chord_groundtruth_idx[:val_size]\n",
    "\n",
    "val_chord = torch.from_numpy(chord_onehot[:val_size]).float()\n",
    "val_melody = torch.from_numpy(melody[:val_size]).float()\n",
    "val_length = torch.from_numpy(length[:val_size])\n"
   ]
  },
  {
   "cell_type": "code",
   "execution_count": 30,
   "metadata": {},
   "outputs": [
    {
     "name": "stdout",
     "output_type": "stream",
     "text": [
      "building model...\n",
      "CVAE(\n",
      "  (surprise_prenet): LSTM(1, 256, num_layers=2, batch_first=True, dropout=0.2, bidirectional=True)\n",
      "  (encoder): LSTM(1721, 512, num_layers=2, batch_first=True, dropout=0.2, bidirectional=True)\n",
      "  (encoder_output2mean): Linear(in_features=1024, out_features=64, bias=True)\n",
      "  (encoder_output2logv): Linear(in_features=1024, out_features=64, bias=True)\n",
      "  (latent2decoder_input): Linear(in_features=1152, out_features=256, bias=True)\n",
      "  (decoder): LSTM(256, 512, num_layers=2, batch_first=True, dropout=0.2, bidirectional=True)\n",
      "  (outputs2chord): Linear(in_features=1024, out_features=633, bias=True)\n",
      ")\n"
     ]
    }
   ],
   "source": [
    "# Load model\n",
    "device = 'cpu'\n",
    "print('building model...')\n",
    "model_surp = CVAE(device = device,\n",
    "                  hidden_size_factor = 2,\n",
    "                  latent_size_factor = 4,\n",
    "                  prenet_size_factor = 1).to(device)\n",
    "# model_surp.load_state_dict(torch.load('output_models/model_surprise_cvae_prenet128.pth',map_location='cpu'))\n",
    "model_surp.load_state_dict(torch.load('output_models/model_weight_surprise_cvae_all_chords_latent64_hidden512_lstmprenet256.pth'))\n",
    "print(model_surp)\n",
    "model_surp.eval()\n",
    "val_length, val_melody = val_length.to(device), val_melody.to(device)"
   ]
  },
  {
   "cell_type": "code",
   "execution_count": 16,
   "metadata": {},
   "outputs": [
    {
     "data": {
      "text/plain": [
       "array([17, 19, 17, 19,  8,  8, 16, 20, 45, 49])"
      ]
     },
     "execution_count": 16,
     "metadata": {},
     "output_type": "execute_result"
    }
   ],
   "source": [
    "length[:10]"
   ]
  },
  {
   "cell_type": "code",
   "execution_count": 9,
   "metadata": {},
   "outputs": [],
   "source": [
    "## Profile function\n",
    "# norm = np.max(surp)\n",
    "norm = -np.log(1e-4)\n",
    "\n",
    "class profile_type():\n",
    "    def __init__(self,type_num,length,norm):\n",
    "        \n",
    "        self.norm = norm\n",
    "        self.length = length\n",
    "        self.profile = None\n",
    "        \n",
    "        if type_num == 1:\n",
    "            self.profile = self.type1()\n",
    "            \n",
    "        if type_num == 2:\n",
    "            self.profile = self.type2()\n",
    "            \n",
    "        if type_num == 3:\n",
    "            self.profile = self.type3()\n",
    "            \n",
    "        if type_num == 4:\n",
    "            self.profile = self.type4()\n",
    "            \n",
    "        if type_num == 5:\n",
    "            self.profile = self.type5()\n",
    "            \n",
    "        if type_num == 6:\n",
    "            self.profile = self.type6()\n",
    "            \n",
    "        if type_num == 7:\n",
    "            self.profile = self.type7()\n",
    "        \n",
    "    def type1(self):\n",
    "        \n",
    "#         x = torch.arange(0,self.length,1) * norm\n",
    "#         x1 = torch.Tensor([0] * (self.length / 2))\n",
    "#         x2 = torch.Tensor([self.norm] * (self.length / 2)) \n",
    "#         x = torch.cat([x1,x2])\n",
    "        x = torch.arange(0,self.length,1)\n",
    "        y = self.norm / (1 + torch.exp(-( x - self.length / 2 )))\n",
    "#         y[:5] = self.norm\n",
    "        return y\n",
    "\n",
    "    def type2(self):   \n",
    "#         x = torch.arange(self.length,0,-1) * norm\n",
    "#         x1 = torch.Tensor([self.norm] * (self.length / 2))\n",
    "#         x2 = torch.Tensor([0] * (self.length / 2 )) \n",
    "#         x = torch.cat([x1,x2])\n",
    "\n",
    "        x = torch.arange(0,self.length,1)\n",
    "        y = - self.norm / (1 + torch.exp(-( x - self.length / 2 ))) + self.norm\n",
    "#         y[:5] = self.norm\n",
    "        return y\n",
    "\n",
    "    def type3(self):   \n",
    "        x = torch.Tensor([0] * self.length)\n",
    "#         x[:10] = self.norm\n",
    "        return x\n",
    "\n",
    "    def type4(self):   \n",
    "        x = torch.Tensor([self.norm] * self.length)\n",
    "        return x\n",
    "\n",
    "    def type5(self):   \n",
    "#         x1 = torch.arange(0,self.length // 2,1) * self.norm\n",
    "#         x2 = torch.arange(self.length // 2,0,-1) * self.norm\n",
    "#         x = torch.cat([x1,x2])\n",
    "        mu, sigma = self.length / 2, self.length / 8 # mean and standard deviation\n",
    "        x = torch.arange(0,self.length + 1,1)\n",
    "        y = 1 / (sigma * math.sqrt(2 * math.pi)) * torch.exp(- (x - mu) ** 2 / (2 * sigma ** 2))\n",
    "        max_value = max(y)\n",
    "        ratio = self.norm / max_value\n",
    "        y *= ratio\n",
    "#         y[:5] = self.norm\n",
    "        return y\n",
    "\n",
    "    def type6(self):   \n",
    "#         factor = self.length // 4\n",
    "#         x = torch.Tensor([0,0,norm,norm] * factor) \n",
    "        mu, sigma = self.length / 2, self.length / 8 # mean and standard deviation\n",
    "        x = torch.arange(0,self.length + 1,1)\n",
    "        y = 1 / (sigma * math.sqrt(2 * math.pi)) * torch.exp(- (x - mu) ** 2 / (2 * sigma ** 2))\n",
    "        max_value = max(y)\n",
    "        ratio = self.norm / max_value\n",
    "        y = -y * ratio + self.norm\n",
    "#         y[:5] = self.norm\n",
    "        return y\n",
    "    \n",
    "    def type7(self):   \n",
    "        x = torch.Tensor([0.8] * self.length)\n",
    "        return x\n",
    "\n",
    "def write_pianoroll(chord_pred,song_index,type_num):\n",
    "    ########## Random sampling ###########\n",
    "    # Proceed chord decode\n",
    "    print('proceed chord decode...')\n",
    "    joint_prob = chord_pred.cpu().detach().numpy()\n",
    "\n",
    "    # Append argmax index to get pianoroll array\n",
    "    accompany_pianoroll = argmax2pianoroll(joint_prob)\n",
    "\n",
    "    # augment chord into frame base\n",
    "    BEAT_RESOLUTION = 24\n",
    "    BEAT_PER_CHORD = 2\n",
    "\n",
    "    accompany_pianoroll_framewise, sample_chord_groundtruth_framewise = sequence2frame(accompany_pianoroll, sample_chord_groundtruth_idx)\n",
    "\n",
    "    # length into frame base\n",
    "    sample_length_framewise = sample_length * BEAT_RESOLUTION * BEAT_PER_CHORD\n",
    "\n",
    "    # write pianoroll\n",
    "    result_dir = 'results/surprising_cvae_all_chords'\n",
    "    filename = str(song_index) + '-surprisingness-type-' + str(type_num)\n",
    "    write_one_pianoroll(result_dir, filename, sample_melody_framewise, accompany_pianoroll_framewise, sample_chord_groundtruth_framewise, sample_length_framewise, sample_tempo, sample_downbeat)\n"
   ]
  },
  {
   "cell_type": "code",
   "execution_count": 31,
   "metadata": {},
   "outputs": [
    {
     "name": "stdout",
     "output_type": "stream",
     "text": [
      "torch.Size([9])\n"
     ]
    },
    {
     "name": "stderr",
     "output_type": "stream",
     "text": [
      "  0%|          | 0/1 [00:00<?, ?it/s]"
     ]
    },
    {
     "name": "stdout",
     "output_type": "stream",
     "text": [
      "tensor([107, 124, 124, 124, 483, 357, 357, 275,   0])\n",
      "['C', 'C7 | Bb', 'C7 | Bb', 'C7 | Bb', 'dm7 | C', 'am7 | G', 'am7 | G', 'G | D', '']\n"
     ]
    },
    {
     "name": "stderr",
     "output_type": "stream",
     "text": [
      "100%|██████████| 1/1 [00:10<00:00, 10.87s/it]\n"
     ]
    },
    {
     "name": "stdout",
     "output_type": "stream",
     "text": [
      "6.071902625556623\n",
      "proceed chord decode...\n",
      "generate_pianoroll shape (1, 272, 128)\n",
      "augment chord into frame base...\n",
      "accompany_pianoroll frame shape: (1, 13056, 128)\n",
      "groundtruth_pianoroll frame shape: (1, 13056, 128)\n",
      "write pianoroll...\n",
      "Finished!\n",
      "torch.Size([9])\n"
     ]
    },
    {
     "name": "stderr",
     "output_type": "stream",
     "text": [
      "  0%|          | 0/1 [00:00<?, ?it/s]"
     ]
    },
    {
     "name": "stdout",
     "output_type": "stream",
     "text": [
      "tensor([468, 124, 124, 124, 483, 115, 278, 268,   0])\n",
      "['dm (add9)', 'C7 | Bb', 'C7 | Bb', 'C7 | Bb', 'dm7 | C', 'C | E (add9)', 'G11', 'G sus2', '']\n"
     ]
    },
    {
     "name": "stderr",
     "output_type": "stream",
     "text": [
      "100%|██████████| 1/1 [00:10<00:00, 10.83s/it]\n"
     ]
    },
    {
     "name": "stdout",
     "output_type": "stream",
     "text": [
      "9.109147071838379\n",
      "proceed chord decode...\n",
      "generate_pianoroll shape (1, 272, 128)\n",
      "augment chord into frame base...\n",
      "accompany_pianoroll frame shape: (1, 13056, 128)\n",
      "groundtruth_pianoroll frame shape: (1, 13056, 128)\n",
      "write pianoroll...\n",
      "Finished!\n",
      "torch.Size([9])\n"
     ]
    },
    {
     "name": "stderr",
     "output_type": "stream",
     "text": [
      "  0%|          | 0/1 [00:00<?, ?it/s]"
     ]
    },
    {
     "name": "stdout",
     "output_type": "stream",
     "text": [
      "tensor([355, 355,   0,   0,   0,   0,   0,   0,   0])\n",
      "['am7 | C', 'am7 | C', '', '', '', '', '', '', '']\n"
     ]
    },
    {
     "name": "stderr",
     "output_type": "stream",
     "text": [
      "100%|██████████| 1/1 [00:10<00:00, 10.57s/it]\n"
     ]
    },
    {
     "name": "stdout",
     "output_type": "stream",
     "text": [
      "9.210340371976182\n",
      "proceed chord decode...\n",
      "generate_pianoroll shape (1, 272, 128)\n",
      "augment chord into frame base...\n",
      "accompany_pianoroll frame shape: (1, 13056, 128)\n",
      "groundtruth_pianoroll frame shape: (1, 13056, 128)\n",
      "write pianoroll...\n",
      "Finished!\n",
      "torch.Size([9])\n"
     ]
    },
    {
     "name": "stderr",
     "output_type": "stream",
     "text": [
      "  0%|          | 0/1 [00:00<?, ?it/s]"
     ]
    },
    {
     "name": "stdout",
     "output_type": "stream",
     "text": [
      "tensor([534, 534, 124, 124, 483, 115, 281, 282,   0])\n",
      "['em7', 'em7', 'C7 | Bb', 'C7 | Bb', 'dm7 | C', 'C | E (add9)', 'G7 sus2', 'G7 sus4', '']\n"
     ]
    },
    {
     "name": "stderr",
     "output_type": "stream",
     "text": [
      "100%|██████████| 1/1 [00:10<00:00, 10.75s/it]\n"
     ]
    },
    {
     "name": "stdout",
     "output_type": "stream",
     "text": [
      "9.21034049987793\n",
      "proceed chord decode...\n",
      "generate_pianoroll shape (1, 272, 128)\n",
      "augment chord into frame base...\n",
      "accompany_pianoroll frame shape: (1, 13056, 128)\n",
      "groundtruth_pianoroll frame shape: (1, 13056, 128)\n",
      "write pianoroll...\n",
      "Finished!\n",
      "torch.Size([9])\n"
     ]
    },
    {
     "name": "stderr",
     "output_type": "stream",
     "text": [
      "  0%|          | 0/1 [00:00<?, ?it/s]"
     ]
    },
    {
     "name": "stdout",
     "output_type": "stream",
     "text": [
      "tensor([355, 124, 124, 124, 483, 478, 148, 268,   0])\n",
      "['am7 | C', 'C7 | Bb', 'C7 | Bb', 'C7 | Bb', 'dm7 | C', 'dm7', 'D7', 'G sus2', '']\n"
     ]
    },
    {
     "name": "stderr",
     "output_type": "stream",
     "text": [
      "100%|██████████| 1/1 [00:10<00:00, 10.62s/it]\n"
     ]
    },
    {
     "name": "stdout",
     "output_type": "stream",
     "text": [
      "9.129914058993146\n",
      "proceed chord decode...\n",
      "generate_pianoroll shape (1, 272, 128)\n",
      "augment chord into frame base...\n",
      "accompany_pianoroll frame shape: (1, 13056, 128)\n",
      "groundtruth_pianoroll frame shape: (1, 13056, 128)\n",
      "write pianoroll...\n",
      "Finished!\n",
      "torch.Size([9])\n"
     ]
    },
    {
     "name": "stderr",
     "output_type": "stream",
     "text": [
      "  0%|          | 0/1 [00:00<?, ?it/s]"
     ]
    },
    {
     "name": "stdout",
     "output_type": "stream",
     "text": [
      "tensor([468, 124, 124, 124, 483, 483, 134, 275,   0])\n",
      "['dm (add9)', 'C7 | Bb', 'C7 | Bb', 'C7 | Bb', 'dm7 | C', 'dm7 | C', 'Cmaj7 | B', 'G | D', '']\n"
     ]
    },
    {
     "name": "stderr",
     "output_type": "stream",
     "text": [
      "100%|██████████| 1/1 [00:10<00:00, 10.43s/it]\n"
     ]
    },
    {
     "name": "stdout",
     "output_type": "stream",
     "text": [
      "9.206930160522461\n",
      "proceed chord decode...\n",
      "generate_pianoroll shape (1, 272, 128)\n",
      "augment chord into frame base...\n",
      "accompany_pianoroll frame shape: (1, 13056, 128)\n",
      "groundtruth_pianoroll frame shape: (1, 13056, 128)\n",
      "write pianoroll...\n",
      "Finished!\n"
     ]
    },
    {
     "data": {
      "image/png": "[encoded data removed]",
      "text/plain": [
       "<Figure size 432x288 with 1 Axes>"
      ]
     },
     "metadata": {
      "needs_background": "light"
     },
     "output_type": "display_data"
    },
    {
     "data": {
      "image/png": "[encoded data removed]",
      "text/plain": [
       "<Figure size 432x288 with 1 Axes>"
      ]
     },
     "metadata": {
      "needs_background": "light"
     },
     "output_type": "display_data"
    },
    {
     "data": {
      "image/png": "[encoded data removed]",
      "text/plain": [
       "<Figure size 432x288 with 1 Axes>"
      ]
     },
     "metadata": {
      "needs_background": "light"
     },
     "output_type": "display_data"
    },
    {
     "data": {
      "image/png": "[encoded data removed]",
      "text/plain": [
       "<Figure size 432x288 with 1 Axes>"
      ]
     },
     "metadata": {
      "needs_background": "light"
     },
     "output_type": "display_data"
    },
    {
     "data": {
      "image/png": "[encoded data removed]",
      "text/plain": [
       "<Figure size 432x288 with 1 Axes>"
      ]
     },
     "metadata": {
      "needs_background": "light"
     },
     "output_type": "display_data"
    },
    {
     "data": {
      "image/png": "[encoded data removed]",
      "text/plain": [
       "<Figure size 432x288 with 1 Axes>"
      ]
     },
     "metadata": {
      "needs_background": "light"
     },
     "output_type": "display_data"
    }
   ],
   "source": [
    "# Sampling\n",
    "# torch.manual_seed(0)\n",
    "song_index = 81\n",
    "sample_melody = val_melody[song_index].unsqueeze(0)\n",
    "sample_length = val_length[song_index]\n",
    "sample_melody_framewise = np.expand_dims(val_melody_framewise[song_index],axis=0)\n",
    "sample_chord_groundtruth_idx = np.expand_dims(val_chord_groundtruth_idx[song_index],axis=0)\n",
    "sample_tempo = [tempos[song_index]]\n",
    "sample_downbeat = [downbeats[song_index]]\n",
    "\n",
    "true_surprise = np.array([])\n",
    "pred_surprise = np.array([])\n",
    "\n",
    "## Surprising profile\n",
    "for type_num in range(1,7):\n",
    "    s = profile_type(type_num,sample_length.item(),norm).profile[:sample_length]\n",
    "    print(s.shape)\n",
    "    true_surprise = np.concatenate((true_surprise,s.numpy()))\n",
    "    \n",
    "    pad = nn.ConstantPad2d((0, 272 - s.shape[0]), 0)\n",
    "    surprise = pad(s).unsqueeze(0).unsqueeze(2)\n",
    "#     print(surprise.shape)\n",
    "#     surprise = model_surp.surprise_prenet(surprise)\n",
    "    surprise = model_surp.surprise_embedding(surprise,sample_length.unsqueeze(0))\n",
    "#     surprise = model_surp.surprisingness_prenet(surprise)\n",
    "#     print(sample_length)\n",
    "\n",
    "    latent_size = 16 * 4\n",
    "\n",
    "    # for k in range(10):\n",
    "    z = torch.randn(1,272,latent_size)\n",
    "#     z = torch.cat([z,sample_melody,surprise], dim=-1)\n",
    "    output, chord_pred = model_surp.decode(z,sample_melody, surprise)\n",
    "#     output, chord_pred = model_surp.decode(z)\n",
    "\n",
    "    gen_chord_index = torch.max(chord_pred[0],-1).indices[:sample_length]\n",
    "    print(gen_chord_index)\n",
    "    #     print(gen_chord_index.shape)\n",
    "    print([INDICES_TO_SYMBOL[x] for x in gen_chord_index.numpy()])\n",
    "    \n",
    "    gen_chord_seq = torch.max(chord_pred[0],-1).indices.unsqueeze(0).unsqueeze(-1)\n",
    "    ########## Surprise contours ###########\n",
    "    all_chords = True\n",
    "    surprisingness_seq, TM = markov_chain(gen_chord_seq,all_chords).create_surprisingness_seqs()\n",
    "    surprisingness_seq[0][1] = 0\n",
    "    pred_surprise = np.concatenate((pred_surprise,surprisingness_seq[0][:sample_length].squeeze()))\n",
    "    \n",
    "    fig, ax = plt.subplots()\n",
    "    ax.plot(surprisingness_seq[0][:sample_length],'.',markersize=12)\n",
    "    ax.plot(s,'k',linewidth=5)\n",
    "    \n",
    "    \n",
    "    ## Fréchet distance ##\n",
    "    P = [[x,y] for x,y in zip(np.arange(0,sample_length),s)]\n",
    "    Q = [[x,y] for x,y in zip(np.arange(0,sample_length),surprisingness_seq[0][:sample_length])]\n",
    "    \n",
    "    fd = frdist(P,Q)\n",
    "    print(fd)\n",
    "    ########## Random sampling ###########\n",
    "    # Proceed chord decode\n",
    "    print('proceed chord decode...')\n",
    "    joint_prob = chord_pred.cpu().detach().numpy()\n",
    "\n",
    "    # Append argmax index to get pianoroll array\n",
    "#     accompany_pianoroll = argmax2pianoroll(joint_prob)\n",
    "    accompany_pianoroll = argmax2pianoroll_all(joint_prob)\n",
    "\n",
    "    # augment chord into frame base\n",
    "    BEAT_RESOLUTION = 24\n",
    "    BEAT_PER_CHORD = 2\n",
    "\n",
    "    accompany_pianoroll_framewise, sample_chord_groundtruth_framewise = sequence2frame(accompany_pianoroll, sample_chord_groundtruth_idx)\n",
    "\n",
    "    # length into frame base\n",
    "    sample_length_framewise = sample_length * BEAT_RESOLUTION * BEAT_PER_CHORD\n",
    "\n",
    "    # write pianoroll\n",
    "    result_dir = 'results/weight_surprising_cvae_all_chords_lstmprenet256'\n",
    "    filename = str(song_index) + '-surprisingness-function-type-' + str(type_num)\n",
    "    write_one_pianoroll(result_dir, filename, sample_melody_framewise, accompany_pianoroll_framewise, sample_chord_groundtruth_framewise, sample_length_framewise, sample_tempo, sample_downbeat)\n",
    "\n",
    "\n",
    "# ########## granger causality ###########\n",
    "# data = pd.DataFrame({\n",
    "#                  'true_surprise': true_surprise, \n",
    "#                  'pred_surprise': pred_surprise\n",
    "#                 }\n",
    "#                )\n",
    "# gc_res = grangercausalitytests(data, 4)"
   ]
  },
  {
   "cell_type": "markdown",
   "metadata": {},
   "source": [
    "\n"
   ]
  },
  {
   "cell_type": "code",
   "execution_count": 62,
   "metadata": {},
   "outputs": [
    {
     "name": "stdout",
     "output_type": "stream",
     "text": [
      "building model...\n",
      "CVAE(\n",
      "  (encoder): LSTM(96, 256, num_layers=2, batch_first=True, bidirectional=True)\n",
      "  (encoder_output2mean): Linear(in_features=512, out_features=16, bias=True)\n",
      "  (encoder_output2logv): Linear(in_features=512, out_features=16, bias=True)\n",
      "  (surprisingness_prenet): Linear(in_features=1, out_features=256, bias=True)\n",
      "  (latent2decoder_input): Linear(in_features=848, out_features=128, bias=True)\n",
      "  (decoder): LSTM(128, 256, num_layers=2, batch_first=True, dropout=0.2, bidirectional=True)\n",
      "  (outputs2chord): Linear(in_features=512, out_features=96, bias=True)\n",
      ")\n"
     ]
    },
    {
     "data": {
      "text/plain": [
       "CVAE(\n",
       "  (encoder): LSTM(96, 256, num_layers=2, batch_first=True, bidirectional=True)\n",
       "  (encoder_output2mean): Linear(in_features=512, out_features=16, bias=True)\n",
       "  (encoder_output2logv): Linear(in_features=512, out_features=16, bias=True)\n",
       "  (surprisingness_prenet): Linear(in_features=1, out_features=256, bias=True)\n",
       "  (latent2decoder_input): Linear(in_features=848, out_features=128, bias=True)\n",
       "  (decoder): LSTM(128, 256, num_layers=2, batch_first=True, dropout=0.2, bidirectional=True)\n",
       "  (outputs2chord): Linear(in_features=512, out_features=96, bias=True)\n",
       ")"
      ]
     },
     "execution_count": 62,
     "metadata": {},
     "output_type": "execute_result"
    }
   ],
   "source": [
    "# Load surp all model\n",
    "device = 'cpu'\n",
    "print('building model...')\n",
    "model_surp_average = CVAE(device = device).to(device)\n",
    "model_surp_average.load_state_dict(torch.load('output_models/model_surprisingness_all_cvae.pth',map_location='cpu'))\n",
    "# model.load_state_dict(torch.load('output_models/model_ctdcvae_conv_prenet.pth'))\n",
    "print(model_surp_average)\n",
    "model_surp_average.eval()\n"
   ]
  },
  {
   "cell_type": "code",
   "execution_count": 63,
   "metadata": {},
   "outputs": [],
   "source": [
    "surp_average = np.load('./data/surprisingness_average.npy')\n",
    "norm_average = np.max(surp_average)"
   ]
  },
  {
   "cell_type": "code",
   "execution_count": 71,
   "metadata": {},
   "outputs": [
    {
     "name": "stdout",
     "output_type": "stream",
     "text": [
      "torch.Size([1, 272, 1])\n",
      "tensor(45)\n",
      "tensor([1, 1, 1, 1, 1, 1, 1, 1, 1, 1, 1, 1, 1, 1, 1, 1, 1, 1, 1, 1, 1, 1, 1, 1,\n",
      "        1, 1, 1, 1, 1, 1, 1, 1, 1, 1, 1, 1, 1, 1, 1, 1, 1, 1, 1, 1, 0])\n",
      "proceed chord decode...\n",
      "accompany_pianoroll shape (1, 272, 128)\n",
      "augment chord into frame base...\n",
      "accompany_pianoroll frame shape: (1, 13056, 128)\n",
      "groundtruth_pianoroll frame shape: (1, 13056, 128)\n",
      "write pianoroll...\n",
      "Finished!\n",
      "torch.Size([1, 272, 1])\n",
      "tensor(45)\n",
      "tensor([1, 1, 1, 1, 1, 1, 1, 1, 1, 1, 1, 1, 1, 1, 1, 1, 1, 1, 1, 1, 1, 1, 1, 1,\n",
      "        1, 1, 1, 1, 1, 1, 1, 1, 1, 1, 1, 1, 1, 1, 1, 1, 1, 1, 1, 1, 0])\n",
      "proceed chord decode...\n",
      "accompany_pianoroll shape (1, 272, 128)\n",
      "augment chord into frame base...\n",
      "accompany_pianoroll frame shape: (1, 13056, 128)\n",
      "groundtruth_pianoroll frame shape: (1, 13056, 128)\n",
      "write pianoroll...\n",
      "Finished!\n",
      "torch.Size([1, 272, 1])\n",
      "tensor(45)\n",
      "tensor([0, 0, 0, 0, 0, 0, 0, 0, 0, 0, 0, 0, 0, 0, 0, 0, 0, 0, 0, 0, 0, 0, 0, 0,\n",
      "        0, 0, 0, 0, 0, 0, 0, 0, 0, 0, 0, 0, 0, 0, 0, 0, 0, 0, 0, 0, 0])\n",
      "proceed chord decode...\n",
      "accompany_pianoroll shape (1, 272, 128)\n",
      "augment chord into frame base...\n",
      "accompany_pianoroll frame shape: (1, 13056, 128)\n",
      "groundtruth_pianoroll frame shape: (1, 13056, 128)\n",
      "write pianoroll...\n",
      "Finished!\n",
      "torch.Size([1, 272, 1])\n",
      "tensor(45)\n",
      "tensor([ 1,  1,  1,  1,  1,  1,  1,  1,  1,  1,  1,  1,  1,  1, 64,  1,  1,  1,\n",
      "         1,  1,  1,  1,  1,  1,  1,  1,  1,  1,  1,  1,  1,  1,  1,  1,  1,  1,\n",
      "         1,  1,  1,  1,  1,  1,  1,  1,  0])\n",
      "proceed chord decode...\n",
      "accompany_pianoroll shape (1, 272, 128)\n",
      "augment chord into frame base...\n",
      "accompany_pianoroll frame shape: (1, 13056, 128)\n",
      "groundtruth_pianoroll frame shape: (1, 13056, 128)\n",
      "write pianoroll...\n",
      "Finished!\n",
      "torch.Size([1, 272, 1])\n",
      "tensor(45)\n",
      "tensor([1, 1, 1, 1, 1, 1, 1, 1, 1, 1, 1, 1, 1, 1, 1, 1, 1, 1, 1, 1, 1, 1, 1, 1,\n",
      "        1, 1, 1, 1, 1, 1, 1, 1, 1, 1, 1, 1, 1, 1, 1, 1, 1, 1, 1, 0, 0])\n",
      "proceed chord decode...\n",
      "accompany_pianoroll shape (1, 272, 128)\n",
      "augment chord into frame base...\n",
      "accompany_pianoroll frame shape: (1, 13056, 128)\n",
      "groundtruth_pianoroll frame shape: (1, 13056, 128)\n",
      "write pianoroll...\n",
      "Finished!\n",
      "torch.Size([1, 272, 1])\n",
      "tensor(45)\n",
      "tensor([ 0,  0,  1,  0,  0,  0,  1,  0,  0,  0,  1,  0,  0,  0, 24,  0,  0,  0,\n",
      "         1,  0,  0,  0, 24,  0,  0,  0,  1,  0,  0,  0,  1,  0,  0,  0, 24,  0,\n",
      "         0,  0, 24,  0,  0,  0,  1,  0,  0])\n",
      "proceed chord decode...\n",
      "accompany_pianoroll shape (1, 272, 128)\n",
      "augment chord into frame base...\n",
      "accompany_pianoroll frame shape: (1, 13056, 128)\n",
      "groundtruth_pianoroll frame shape: (1, 13056, 128)\n",
      "write pianoroll...\n",
      "Finished!\n"
     ]
    }
   ],
   "source": [
    "# Sampling\n",
    "# torch.manual_seed(0)\n",
    "song_index = 8\n",
    "sample_melody = val_melody[song_index].unsqueeze(0)\n",
    "sample_length = val_length[song_index]\n",
    "sample_melody_framewise = np.expand_dims(val_melody_framewise[song_index],axis=0)\n",
    "sample_chord_groundtruth_idx = np.expand_dims(val_chord_groundtruth_idx[song_index],axis=0)\n",
    "sample_tempo = [tempos[song_index]]\n",
    "sample_downbeat = [downbeats[song_index]]\n",
    "\n",
    "## Surprising profile\n",
    "for type_num in range(1,7):\n",
    "    s = profile_type(type_num,sample_length,norm_average).profile\n",
    "    pad = nn.ConstantPad2d((0, 272 - s.shape[0]), 0)\n",
    "    surprisingness = pad(s).unsqueeze(0).unsqueeze(2)\n",
    "    print(surprisingness.shape)\n",
    "    surprisingness = model_surp_average.surprisingness_prenet(surprisingness)\n",
    "    print(sample_length)\n",
    "\n",
    "    latent_size = 16\n",
    "\n",
    "    # for k in range(10):\n",
    "    latent = torch.randn(1,272,latent_size)\n",
    "    z = torch.cat([latent,sample_melody,surprisingness], dim=-1)\n",
    "    output, chord_pred = model_surp_average.decode(z)\n",
    "\n",
    "    gen_chord_index = torch.max(chord_pred[0][:sample_length],-1).indices\n",
    "    print(gen_chord_index)\n",
    "    #     print(gen_chord_index.shape)\n",
    "\n",
    "    ########## Random sampling ###########\n",
    "    # Proceed chord decode\n",
    "    print('proceed chord decode...')\n",
    "    joint_prob = chord_pred.cpu().detach().numpy()\n",
    "\n",
    "    # Append argmax index to get pianoroll array\n",
    "    accompany_pianoroll = argmax2pianoroll(joint_prob)\n",
    "\n",
    "    # augment chord into frame base\n",
    "    BEAT_RESOLUTION = 24\n",
    "    BEAT_PER_CHORD = 2\n",
    "\n",
    "    accompany_pianoroll_framewise, sample_chord_groundtruth_framewise = sequence2frame(accompany_pianoroll, sample_chord_groundtruth_idx)\n",
    "\n",
    "    # length into frame base\n",
    "    sample_length_framewise = sample_length * BEAT_RESOLUTION * BEAT_PER_CHORD\n",
    "\n",
    "    # write pianoroll\n",
    "    result_dir = 'results/surprising_average_cvae'\n",
    "    filename = str(song_index) + '-surprisingness-average-type-' + str(type_num)\n",
    "    write_one_pianoroll(result_dir, filename, sample_melody_framewise, accompany_pianoroll_framewise, sample_chord_groundtruth_framewise, sample_length_framewise, sample_tempo, sample_downbeat)\n",
    "\n"
   ]
  },
  {
   "cell_type": "code",
   "execution_count": 209,
   "metadata": {},
   "outputs": [
    {
     "data": {
      "text/plain": [
       "torch.Size([45])"
      ]
     },
     "execution_count": 209,
     "metadata": {},
     "output_type": "execute_result"
    }
   ],
   "source": []
  },
  {
   "cell_type": "code",
   "execution_count": null,
   "metadata": {},
   "outputs": [],
   "source": []
  },
  {
   "cell_type": "code",
   "execution_count": 221,
   "metadata": {},
   "outputs": [],
   "source": [
    "data = pd.DataFrame({\n",
    "                     'true_surprise': s.numpy(), \n",
    "                     'pred_surprise':surprisingness_seq[0][:sample_length].squeeze()\n",
    "                    }\n",
    "                   )"
   ]
  },
  {
   "cell_type": "code",
   "execution_count": null,
   "metadata": {},
   "outputs": [],
   "source": []
  }
 ],
 "metadata": {
  "kernelspec": {
   "display_name": "Python 3",
   "language": "python",
   "name": "python3"
  },
  "language_info": {
   "codemirror_mode": {
    "name": "ipython",
    "version": 3
   },
   "file_extension": ".py",
   "mimetype": "text/x-python",
   "name": "python",
   "nbconvert_exporter": "python",
   "pygments_lexer": "ipython3",
   "version": "3.7.9"
  }
 },
 "nbformat": 4,
 "nbformat_minor": 4
}

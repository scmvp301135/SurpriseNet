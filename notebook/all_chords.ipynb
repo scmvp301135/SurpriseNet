{
 "cells": [
  {
   "cell_type": "code",
   "execution_count": 3,
   "metadata": {},
   "outputs": [],
   "source": [
    "import os\n",
    "os.chdir('..')"
   ]
  },
  {
   "cell_type": "code",
   "execution_count": 4,
   "metadata": {},
   "outputs": [
    {
     "data": {
      "text/plain": [
       "'/mnt/md1/user_victor/automatic_melody_harmonization'"
      ]
     },
     "execution_count": 4,
     "metadata": {},
     "output_type": "execute_result"
    }
   ],
   "source": [
    "pwd"
   ]
  },
  {
   "cell_type": "code",
   "execution_count": 5,
   "metadata": {},
   "outputs": [],
   "source": [
    "import numpy as np\n",
    "import pickle\n",
    "from constants import Constants\n",
    "from tqdm import tqdm"
   ]
  },
  {
   "cell_type": "code",
   "execution_count": null,
   "metadata": {},
   "outputs": [],
   "source": []
  },
  {
   "cell_type": "code",
   "execution_count": 6,
   "metadata": {},
   "outputs": [],
   "source": [
    "symbol_and_indices = np.load('./data/chord_indices.npy')\n",
    "chord_onehot = np.load('./data/chord_onehot.npy')\n",
    "chord_indices_96 = np.load('./data/number_96.npy')\n",
    "chord_onehot_96 = np.load('./data/onehot_96.npy')"
   ]
  },
  {
   "cell_type": "code",
   "execution_count": 14,
   "metadata": {},
   "outputs": [
    {
     "data": {
      "text/plain": [
       "array([[  0],\n",
       "       [  0],\n",
       "       [234],\n",
       "       [234],\n",
       "       [107],\n",
       "       [107],\n",
       "       [234],\n",
       "       [234],\n",
       "       [107],\n",
       "       [107]])"
      ]
     },
     "execution_count": 14,
     "metadata": {},
     "output_type": "execute_result"
    }
   ],
   "source": [
    "i = 3\n",
    "symbol_and_indices[i][:10]"
   ]
  },
  {
   "cell_type": "code",
   "execution_count": 16,
   "metadata": {},
   "outputs": [
    {
     "data": {
      "text/plain": [
       "array([0., 0., 0., 0., 0., 0., 0., 0., 0., 0., 0., 0., 0., 0., 0., 0., 0.,\n",
       "       0., 0., 0., 0., 0., 0., 0., 0., 0., 0., 0., 0., 0., 0., 0., 0., 0.,\n",
       "       0., 0., 0., 0., 0., 0., 0., 0., 0., 0., 0., 0., 0., 0., 0., 0., 0.,\n",
       "       0., 0., 0., 0., 0., 0., 0., 0., 0., 0., 0., 0., 0., 0., 0., 0., 0.,\n",
       "       0., 0., 0., 0., 0., 0., 0., 0., 0., 0., 0., 0., 0., 0., 0., 0., 0.,\n",
       "       0., 0., 0., 0., 0., 0., 0., 0., 0., 0., 0., 0., 0., 0., 0., 0., 0.,\n",
       "       0., 0., 0., 0., 0., 0., 0., 0., 0., 0., 0., 0., 0., 0., 0., 0., 0.,\n",
       "       0., 0., 0., 0., 0., 0., 0., 0., 0., 0., 0., 0., 0., 0., 0., 0., 0.,\n",
       "       0., 0., 0., 0., 0., 0., 0., 0., 0., 0., 0., 0., 0., 0., 0., 0., 0.,\n",
       "       0., 0., 0., 0., 0., 0., 0., 0., 0., 0., 0., 0., 0., 0., 0., 0., 0.,\n",
       "       0., 0., 0., 0., 0., 0., 0., 0., 0., 0., 0., 0., 0., 0., 0., 0., 0.,\n",
       "       0., 0., 0., 0., 0., 0., 0., 0., 0., 0., 0., 0., 0., 0., 0., 0., 0.,\n",
       "       0., 0., 0., 0., 0., 0., 0., 0., 0., 0., 0., 0., 0., 0., 0., 0., 0.,\n",
       "       0., 0., 0., 0., 0., 0., 0., 0., 0., 0., 0., 0., 0., 0., 0., 0., 0.,\n",
       "       0., 0., 0., 0., 0., 0., 0., 0., 0., 0., 0., 0., 0., 0., 0., 0., 0.,\n",
       "       0., 0., 0., 0., 0., 0., 0., 0., 0., 0., 0., 0., 0., 0., 0., 0., 0.,\n",
       "       0., 0., 0., 0., 0., 0., 0., 0., 0., 0., 0., 0., 0., 0., 0., 0., 0.,\n",
       "       0., 0., 0., 0., 0., 0., 0., 0., 0., 0., 0., 0., 0., 0., 0., 0., 0.,\n",
       "       0., 0., 0., 0., 0., 0., 0., 0., 0., 0., 0., 0., 0., 0., 0., 0., 0.,\n",
       "       0., 0., 0., 0., 0., 0., 0., 0., 0., 0., 0., 0., 0., 0., 0., 0., 0.,\n",
       "       0., 0., 0., 0., 0., 0., 0., 0., 0., 0., 0., 0., 0., 0., 0., 0., 0.,\n",
       "       0., 0., 0., 0., 0., 0., 0., 0., 0., 0., 0., 0., 0., 0., 0., 0., 0.,\n",
       "       0., 0., 0., 0., 0., 0., 0., 0., 0., 0., 0., 0., 0., 0., 0., 0., 0.,\n",
       "       0., 0., 0., 0., 0., 0., 0., 0., 0., 0., 0., 0., 0., 0., 0., 0., 0.,\n",
       "       0., 0., 0., 0., 0., 0., 0., 0., 0., 0., 0., 0., 0., 0., 0., 0., 0.,\n",
       "       0., 0., 0., 0., 0., 0., 0., 0., 0., 0., 0., 0., 0., 0., 0., 0., 0.,\n",
       "       0., 0., 0., 0., 0., 0., 0., 0., 0., 0., 0., 0., 0., 0., 0., 0., 0.,\n",
       "       0., 0., 0., 0., 0., 0., 0., 0., 0., 0., 0., 0., 0., 0., 0., 0., 0.,\n",
       "       0., 0., 0., 0., 0., 0., 0., 0., 0., 0., 0., 0., 0., 0., 0., 0., 0.,\n",
       "       0., 0., 0., 0., 0., 0., 0., 0., 0., 0., 0., 0., 0., 0., 0., 0., 0.,\n",
       "       0., 0., 0., 0., 0., 0., 0., 0., 0., 0., 0., 0., 0., 0., 0., 0., 0.,\n",
       "       0., 0., 0., 0., 0., 0., 0., 0., 0., 0., 0., 0., 0., 0., 0., 0., 0.,\n",
       "       0., 0., 0., 0., 0., 0., 0., 0., 0., 0., 0., 0., 0., 0., 0., 0., 0.,\n",
       "       0., 0., 0., 0., 0., 0., 0., 0., 0., 0., 0., 0., 0., 0., 0., 0., 0.,\n",
       "       0., 0., 0., 0., 0., 0., 0., 0., 0., 0., 0., 0., 0., 0., 0., 0., 0.,\n",
       "       0., 0., 0., 0., 0., 0., 0., 0., 0., 0., 0., 0., 0., 0., 0., 0., 0.,\n",
       "       0., 0., 0., 0., 0., 0., 0., 0., 0., 0., 0., 0., 0., 0., 0., 0., 0.,\n",
       "       0., 0., 0., 0.])"
      ]
     },
     "execution_count": 16,
     "metadata": {},
     "output_type": "execute_result"
    }
   ],
   "source": [
    "chord_onehot[i][0]"
   ]
  },
  {
   "cell_type": "code",
   "execution_count": 17,
   "metadata": {},
   "outputs": [
    {
     "data": {
      "text/plain": [
       "array([[ 0],\n",
       "       [ 0],\n",
       "       [40],\n",
       "       [40],\n",
       "       [ 0],\n",
       "       [ 0],\n",
       "       [40],\n",
       "       [40],\n",
       "       [ 0],\n",
       "       [ 0]])"
      ]
     },
     "execution_count": 17,
     "metadata": {},
     "output_type": "execute_result"
    }
   ],
   "source": [
    "chord_indices_96[i][:10]"
   ]
  },
  {
   "cell_type": "code",
   "execution_count": 18,
   "metadata": {},
   "outputs": [
    {
     "data": {
      "text/plain": [
       "array([1, 0, 0, 0, 0, 0, 0, 0, 0, 0, 0, 0, 0, 0, 0, 0, 0, 0, 0, 0, 0, 0,\n",
       "       0, 0, 0, 0, 0, 0, 0, 0, 0, 0, 0, 0, 0, 0, 0, 0, 0, 0, 0, 0, 0, 0,\n",
       "       0, 0, 0, 0, 0, 0, 0, 0, 0, 0, 0, 0, 0, 0, 0, 0, 0, 0, 0, 0, 0, 0,\n",
       "       0, 0, 0, 0, 0, 0, 0, 0, 0, 0, 0, 0, 0, 0, 0, 0, 0, 0, 0, 0, 0, 0,\n",
       "       0, 0, 0, 0, 0, 0, 0, 0])"
      ]
     },
     "execution_count": 18,
     "metadata": {},
     "output_type": "execute_result"
    }
   ],
   "source": [
    "chord_onehot_96[i][0]"
   ]
  },
  {
   "cell_type": "code",
   "execution_count": null,
   "metadata": {},
   "outputs": [],
   "source": [
    "# symbol_and_indices[1]"
   ]
  },
  {
   "cell_type": "code",
   "execution_count": 12,
   "metadata": {},
   "outputs": [
    {
     "name": "stdout",
     "output_type": "stream",
     "text": [
      "Chord symbol data length: 17430\n",
      "Chord_groundtruth_pianoroll: (17430, 272, 128)\n",
      "Chord length: (17430,)\n"
     ]
    }
   ],
   "source": [
    "# Load chord symbol data\n",
    "f = open('./data/symbol_data_2_beat', 'rb')\n",
    "symbol_data = pickle.load(f)\n",
    "f.close()\n",
    "print('Chord symbol data length:',len(symbol_data))\n",
    "\n",
    "chord_groundtruth_pianoroll = np.load('./data/chord_groundtruth.npy')\n",
    "print('Chord_groundtruth_pianoroll:',chord_groundtruth_pianoroll.shape)\n",
    "\n",
    "chord_lengths = np.load('./data/length.npy')\n",
    "print('Chord length:',chord_lengths.shape)"
   ]
  },
  {
   "cell_type": "code",
   "execution_count": null,
   "metadata": {},
   "outputs": [],
   "source": []
  },
  {
   "cell_type": "code",
   "execution_count": 14,
   "metadata": {},
   "outputs": [],
   "source": [
    "# List all chords \n",
    "all_chords = []\n",
    "for chord in symbol_data:\n",
    "    all_chords += chord\n",
    "\n",
    "all_chords = list(set(all_chords))\n",
    "# try:\n",
    "# #     all_chords.remove(None)\n",
    "# #     all_chords.remove('')\n",
    "# except:\n",
    "#     pass\n",
    "\n",
    "all_chords = sorted(all_chords)"
   ]
  },
  {
   "cell_type": "code",
   "execution_count": 212,
   "metadata": {},
   "outputs": [
    {
     "name": "stdout",
     "output_type": "stream",
     "text": [
      "Total chord numbers: 633\n"
     ]
    }
   ],
   "source": [
    "print('Total chord numbers:',len(all_chords))"
   ]
  },
  {
   "cell_type": "code",
   "execution_count": 215,
   "metadata": {},
   "outputs": [
    {
     "data": {
      "text/plain": [
       "['',\n",
       " 'A',\n",
       " 'A (add9)',\n",
       " 'A sus2',\n",
       " 'A sus4',\n",
       " 'A sus42',\n",
       " 'A | Db',\n",
       " 'A | Db (#5)',\n",
       " 'A | E',\n",
       " 'A | E (add9)']"
      ]
     },
     "execution_count": 215,
     "metadata": {},
     "output_type": "execute_result"
    }
   ],
   "source": [
    "all_chords[:10]"
   ]
  },
  {
   "cell_type": "code",
   "execution_count": 20,
   "metadata": {},
   "outputs": [],
   "source": [
    "# Chord symbol to indices\n",
    "# Pad 0 to the positions if the length of sequence is smaller than max length \n",
    "symbol_and_indices = dict(zip(all_chords,[i for i in range(len(all_chords))]))\n",
    "indices_and_symbol = dict(zip([i for i in range(len(all_chords))],all_chords))\n",
    "## Save symbol and fingerring pairs\n",
    "f = open('./data/indices_to_symbol' , 'wb')\n",
    "pickle.dump(indices_and_symbol, f)\n",
    "f.close()\n",
    "\n",
    "chord_indices = []\n",
    "for symbol in symbol_data:\n",
    "    chord_index = [symbol_and_indices[s] if s is not '' else 0 for s in symbol]\n",
    "    chord_indices.append(np.asarray(chord_index))\n",
    "\n",
    "for i in range(len(chord_indices)):\n",
    "#     print(i)\n",
    "    chord_indices[i] = np.pad(chord_indices[i], (0, Constants.MAX_SEQUENCE_LENGTH - chord_indices[i].shape[0]), constant_values = 0)\n",
    "    \n",
    "chord_indices = np.expand_dims(np.asarray(chord_indices),-1)\n",
    "chord_indices = chord_indices.astype(int)"
   ]
  },
  {
   "cell_type": "code",
   "execution_count": null,
   "metadata": {},
   "outputs": [],
   "source": []
  },
  {
   "cell_type": "code",
   "execution_count": 219,
   "metadata": {},
   "outputs": [],
   "source": [
    "# Chord indices to onehot\n",
    "chord_onehot = np.zeros((chord_indices.shape[0],Constants.MAX_SEQUENCE_LENGTH,len(all_chords)))\n",
    "\n",
    "for i in range(chord_indices.shape[0]):\n",
    "    for t in range(chord_lengths[i]):\n",
    "        if chord_indices[i][t][0] != -1 and chord_indices[i][t][0] != 0:\n",
    "            chord_onehot[i][t][chord_indices[i][t][0]] = 1"
   ]
  },
  {
   "cell_type": "code",
   "execution_count": 220,
   "metadata": {},
   "outputs": [
    {
     "data": {
      "text/plain": [
       "array([  0,   0, 234, 234, 107, 107, 234, 234, 107, 107])"
      ]
     },
     "execution_count": 220,
     "metadata": {},
     "output_type": "execute_result"
    }
   ],
   "source": [
    "np.argmax(chord_onehot[1][:10],axis=-1)"
   ]
  },
  {
   "cell_type": "code",
   "execution_count": 162,
   "metadata": {},
   "outputs": [
    {
     "data": {
      "text/plain": [
       "(17430, 272, 632)"
      ]
     },
     "execution_count": 162,
     "metadata": {},
     "output_type": "execute_result"
    }
   ],
   "source": [
    "chord_onehot.shape"
   ]
  },
  {
   "cell_type": "code",
   "execution_count": 221,
   "metadata": {},
   "outputs": [],
   "source": [
    "## Save data\n",
    "np.save('./data/chord_indices', chord_indices)\n",
    "np.save('./data/chord_onehot', chord_onehot)"
   ]
  },
  {
   "cell_type": "code",
   "execution_count": null,
   "metadata": {},
   "outputs": [],
   "source": []
  },
  {
   "cell_type": "code",
   "execution_count": 222,
   "metadata": {},
   "outputs": [
    {
     "name": "stdout",
     "output_type": "stream",
     "text": [
      "symbol ['am', '', '', '']\n",
      "symbol shape 4\n",
      "pianoroll [[  0   0   0   0   0   0   0   0   0   0   0   0   0   0   0   0   0   0\n",
      "    0   0   0   0   0   0   0   0   0   0   0   0   0   0   0   0   0   0\n",
      "    0   0   0   0   0   0   0   0   0 100   0   0 100   0   0   0 100   0\n",
      "    0   0   0   0   0   0   0   0   0   0   0   0   0   0   0   0   0   0\n",
      "    0   0   0   0   0   0   0   0   0   0   0   0   0   0   0   0   0   0\n",
      "    0   0   0   0   0   0   0   0   0   0   0   0   0   0   0   0   0   0\n",
      "    0   0   0   0   0   0   0   0   0   0   0   0   0   0   0   0   0   0\n",
      "    0   0]\n",
      " [  0   0   0   0   0   0   0   0   0   0   0   0   0   0   0   0   0   0\n",
      "    0   0   0   0   0   0   0   0   0   0   0   0   0   0   0   0   0   0\n",
      "    0   0   0   0   0   0   0   0   0   0   0   0   0   0   0   0   0   0\n",
      "    0   0   0   0   0   0   0   0   0   0   0   0   0   0   0   0   0   0\n",
      "    0   0   0   0   0   0   0   0   0   0   0   0   0   0   0   0   0   0\n",
      "    0   0   0   0   0   0   0   0   0   0   0   0   0   0   0   0   0   0\n",
      "    0   0   0   0   0   0   0   0   0   0   0   0   0   0   0   0   0   0\n",
      "    0   0]\n",
      " [  0   0   0   0   0   0   0   0   0   0   0   0   0   0   0   0   0   0\n",
      "    0   0   0   0   0   0   0   0   0   0   0   0   0   0   0   0   0   0\n",
      "    0   0   0   0   0   0   0   0   0   0   0   0   0   0   0   0   0   0\n",
      "    0   0   0   0   0   0   0   0   0   0   0   0   0   0   0   0   0   0\n",
      "    0   0   0   0   0   0   0   0   0   0   0   0   0   0   0   0   0   0\n",
      "    0   0   0   0   0   0   0   0   0   0   0   0   0   0   0   0   0   0\n",
      "    0   0   0   0   0   0   0   0   0   0   0   0   0   0   0   0   0   0\n",
      "    0   0]\n",
      " [  0   0   0   0   0   0   0   0   0   0   0   0   0   0   0   0   0   0\n",
      "    0   0   0   0   0   0   0   0   0   0   0   0   0   0   0   0   0   0\n",
      "    0   0   0   0   0   0   0   0   0   0   0   0   0   0   0   0   0   0\n",
      "    0   0   0   0   0   0   0   0   0   0   0   0   0   0   0   0   0   0\n",
      "    0   0   0   0   0   0   0   0   0   0   0   0   0   0   0   0   0   0\n",
      "    0   0   0   0   0   0   0   0   0   0   0   0   0   0   0   0   0   0\n",
      "    0   0   0   0   0   0   0   0   0   0   0   0   0   0   0   0   0   0\n",
      "    0   0]]\n",
      "pianoroll shape  (4, 128)\n"
     ]
    }
   ],
   "source": [
    "song_index = 115\n",
    "symbol = symbol_data[song_index]\n",
    "pianoroll = chord_groundtruth_pianoroll[song_index][:chord_lengths[song_index]]\n",
    "\n",
    "print('symbol',symbol)\n",
    "print('symbol shape',len(symbol))\n",
    "print('pianoroll',pianoroll)\n",
    "print('pianoroll shape ',pianoroll.shape)"
   ]
  },
  {
   "cell_type": "code",
   "execution_count": 223,
   "metadata": {},
   "outputs": [
    {
     "name": "stderr",
     "output_type": "stream",
     "text": [
      "100%|██████████| 17430/17430 [00:12<00:00, 1428.81it/s]\n"
     ]
    }
   ],
   "source": [
    "## Collect and find the most common ('chord symbol',fingerring) pair data\n",
    "chordsymbol2pianoroll = []\n",
    "for song_index in tqdm(range(len(symbol_data))):\n",
    "    symbol = symbol_data[song_index]\n",
    "    length = len(symbol)\n",
    "    pianoroll = chord_groundtruth_pianoroll[song_index][:length]\n",
    "    data = [[s,p] for s, p in zip(symbol,pianoroll)]\n",
    "    unique_index = sorted(np.unique(pianoroll,return_index = True,axis=0)[-1])\n",
    "    for ui in unique_index:\n",
    "        if unique_index[-1] < len(symbol) and (len(symbol) <= chord_lengths[song_index] + 1 or len(symbol) >= chord_lengths[song_index] - 1): \n",
    "            chordsymbol2pianoroll.append(data[ui]) \n",
    "        else:\n",
    "            print('mismatch',song_index)\n",
    "            break\n",
    "            \n",
    "# Find most frequently chords fingerring\n",
    "uniq_fingerring = []\n",
    "for target_chord_symbol in all_chords:\n",
    "    duplicate = []\n",
    "    for i in chordsymbol2pianoroll:\n",
    "        if i[0] == target_chord_symbol:\n",
    "            duplicate.append(i[1])\n",
    "\n",
    "    duplicate = np.asarray(duplicate)    \n",
    "    uniq, indices, counts = np.unique(duplicate,return_index =True,return_counts = True,axis=0)\n",
    "    uniq_fingerring.append(uniq[counts.argmax(axis=-1)])\n",
    "\n",
    "symbol_and_fingerring = dict(zip(all_chords,uniq_fingerring))\n",
    "## Save symbol and fingerring pairs\n",
    "f = open('./data/symbol_and_fingerring' , 'wb')\n",
    "pickle.dump(symbol_and_fingerring, f)\n",
    "f.close()\n"
   ]
  }
 ],
 "metadata": {
  "kernelspec": {
   "display_name": "Python 3",
   "language": "python",
   "name": "python3"
  },
  "language_info": {
   "codemirror_mode": {
    "name": "ipython",
    "version": 3
   },
   "file_extension": ".py",
   "mimetype": "text/x-python",
   "name": "python",
   "nbconvert_exporter": "python",
   "pygments_lexer": "ipython3",
   "version": "3.7.9"
  }
 },
 "nbformat": 4,
 "nbformat_minor": 4
}

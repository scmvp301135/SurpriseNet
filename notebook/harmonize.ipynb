{
 "cells": [
  {
   "cell_type": "code",
   "execution_count": 1,
   "metadata": {},
   "outputs": [],
   "source": [
    "import os\n",
    "os.chdir('..')"
   ]
  },
  {
   "cell_type": "code",
   "execution_count": 2,
   "metadata": {},
   "outputs": [
    {
     "data": {
      "text/plain": [
       "'/mnt/md1/user_victor/automatic_melody_harmonization'"
      ]
     },
     "execution_count": 2,
     "metadata": {},
     "output_type": "execute_result"
    }
   ],
   "source": [
    "pwd"
   ]
  },
  {
   "cell_type": "code",
   "execution_count": 8,
   "metadata": {},
   "outputs": [],
   "source": [
    "import numpy as np\n",
    "import torch\n",
    "from torch.utils.data import DataLoader, Dataset\n",
    "import torch.nn as nn\n",
    "import torch.nn.functional as F\n",
    "import torch.optim as optim\n",
    "from torch.nn.utils.rnn import pack_padded_sequence, pad_packed_sequence\n",
    "import pickle\n",
    "from model.CVAE_lstm_decoder import CVAE\n",
    "from decode import *\n",
    "import matplotlib.pyplot as plt"
   ]
  },
  {
   "cell_type": "code",
   "execution_count": 4,
   "metadata": {},
   "outputs": [],
   "source": [
    "melody = np.load('./data/melody_baseline.npy')\n",
    "chord = np.load('./data/number_96.npy')\n",
    "chord_onehot = np.load('./data/onehot_96.npy')\n",
    "length = np.load('./data/length.npy')"
   ]
  },
  {
   "cell_type": "code",
   "execution_count": 6,
   "metadata": {},
   "outputs": [
    {
     "name": "stdout",
     "output_type": "stream",
     "text": [
      "splitting testing set...\n"
     ]
    }
   ],
   "source": [
    "val_size = 500\n",
    "print('splitting testing set...')\n",
    "val_chord = torch.from_numpy(chord_onehot[:val_size]).float()\n",
    "val_melody = torch.from_numpy(melody[:val_size]).float()\n",
    "val_length = torch.from_numpy(length[:val_size])"
   ]
  },
  {
   "cell_type": "code",
   "execution_count": 9,
   "metadata": {},
   "outputs": [
    {
     "name": "stdout",
     "output_type": "stream",
     "text": [
      "building model...\n"
     ]
    }
   ],
   "source": [
    "# Load model\n",
    "device = 'cpu'\n",
    "print('building model...')\n",
    "model = CVAE(device = device).to(device)\n",
    "model.load_state_dict(torch.load('output_models/model_weight_cvae_lstm_decoder.pth'))\n",
    "\n",
    "model.eval()\n",
    "chord, length, melody = val_chord.to(device), val_length.to(device), val_melody.to(device)"
   ]
  },
  {
   "cell_type": "code",
   "execution_count": 166,
   "metadata": {},
   "outputs": [
    {
     "name": "stdout",
     "output_type": "stream",
     "text": [
      "tensor(9)\n",
      "tensor([[ 0, 76, 73, 73, 40, 40, 60, 56,  0]])\n",
      "tensor([[ 0, 76, 73, 73, 40, 40, 60, 56,  0]])\n",
      "tensor([[ 0, 76, 73, 73, 40, 73, 60, 56,  0]])\n",
      "tensor([[ 0, 76, 73, 73, 40, 40, 60, 56,  0]])\n",
      "tensor([[ 0, 76, 73, 73, 40, 40, 60, 56,  0]])\n",
      "tensor([[ 0, 76, 73, 73, 40, 40, 60, 56,  0]])\n",
      "tensor([[ 0, 76, 73, 73, 40, 40, 60, 56,  0]])\n",
      "tensor([[ 0, 76, 73, 73, 40, 40, 60, 56,  0]])\n",
      "tensor([[ 0, 76, 73, 73, 40, 40, 60, 56, 60]])\n",
      "tensor([[ 0, 76, 73, 73, 40, 40, 60, 56,  0]])\n"
     ]
    }
   ],
   "source": [
    "# Sampling\n",
    "i = 80\n",
    "sample_melody = melody[i].unsqueeze(0)\n",
    "sample_length = val_length[i]\n",
    "print(sample_length)\n",
    "\n",
    "latent_size = 16\n",
    "\n",
    "for k in range(10):\n",
    "    latent = torch.rand(1,272,latent_size)\n",
    "    z = torch.cat((latent,sample_melody), dim=-1)\n",
    "    output, chord_pred = model.decode(z)\n",
    "\n",
    "    gen_chord_index = torch.max(chord_pred[:,:sample_length],2).indices\n",
    "    print(gen_chord_index)\n",
    "#     print(gen_chord_index.shape)\n",
    "\n"
   ]
  },
  {
   "cell_type": "code",
   "execution_count": 155,
   "metadata": {},
   "outputs": [
    {
     "data": {
      "text/plain": [
       "torch.Size([1, 272, 576])"
      ]
     },
     "execution_count": 155,
     "metadata": {},
     "output_type": "execute_result"
    }
   ],
   "source": [
    "sample_melody.shape"
   ]
  },
  {
   "cell_type": "code",
   "execution_count": null,
   "metadata": {},
   "outputs": [],
   "source": []
  }
 ],
 "metadata": {
  "kernelspec": {
   "display_name": "Python 3",
   "language": "python",
   "name": "python3"
  },
  "language_info": {
   "codemirror_mode": {
    "name": "ipython",
    "version": 3
   },
   "file_extension": ".py",
   "mimetype": "text/x-python",
   "name": "python",
   "nbconvert_exporter": "python",
   "pygments_lexer": "ipython3",
   "version": "3.7.9"
  }
 },
 "nbformat": 4,
 "nbformat_minor": 4
}

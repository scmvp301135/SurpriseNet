{
 "cells": [
  {
   "cell_type": "code",
   "execution_count": 2,
   "metadata": {},
   "outputs": [],
   "source": [
    "import os\n",
    "os.chdir('..')"
   ]
  },
  {
   "cell_type": "code",
   "execution_count": 17,
   "metadata": {},
   "outputs": [
    {
     "data": {
      "text/plain": [
       "'/mnt/md1/user_victor/automatic_melody_harmonization'"
      ]
     },
     "execution_count": 17,
     "metadata": {},
     "output_type": "execute_result"
    }
   ],
   "source": [
    "pwd"
   ]
  },
  {
   "cell_type": "code",
   "execution_count": 18,
   "metadata": {},
   "outputs": [],
   "source": [
    "import numpy as np\n",
    "import torch \n",
    "from tonal import tonal_centroid, chord482note, chord962note, note2number\n",
    "import matplotlib.pyplot as plt\n",
    "from tqdm import tqdm"
   ]
  },
  {
   "cell_type": "code",
   "execution_count": 5,
   "metadata": {},
   "outputs": [],
   "source": [
    "melody = np.load('./data/melody_baseline.npy')\n",
    "chord = np.load('./data/number_96.npy')\n",
    "chord_onehot = np.load('./data/onehot_96.npy')\n",
    "length = np.load('./data/length.npy')"
   ]
  },
  {
   "cell_type": "code",
   "execution_count": 19,
   "metadata": {},
   "outputs": [
    {
     "data": {
      "text/plain": [
       "array([[0, 0, 0, ..., 0, 0, 0],\n",
       "       [0, 0, 0, ..., 0, 0, 0],\n",
       "       [1, 0, 0, ..., 0, 0, 0],\n",
       "       ...,\n",
       "       [0, 0, 0, ..., 0, 0, 0],\n",
       "       [0, 0, 0, ..., 0, 0, 0],\n",
       "       [0, 0, 0, ..., 0, 0, 0]])"
      ]
     },
     "execution_count": 19,
     "metadata": {},
     "output_type": "execute_result"
    }
   ],
   "source": [
    "chord_onehot[0]"
   ]
  },
  {
   "cell_type": "code",
   "execution_count": 54,
   "metadata": {},
   "outputs": [
    {
     "name": "stdout",
     "output_type": "stream",
     "text": [
      "chord_sequence (272, 96)\n",
      "melody_sequence (272, 576)\n",
      "length 45\n"
     ]
    },
    {
     "data": {
      "text/plain": [
       "[<matplotlib.lines.Line2D at 0x7fa8a1f455d0>]"
      ]
     },
     "execution_count": 54,
     "metadata": {},
     "output_type": "execute_result"
    },
    {
     "data": {
      "image/png": "[encoded data removed]",
      "text/plain": [
       "<Figure size 432x288 with 1 Axes>"
      ]
     },
     "metadata": {
      "needs_background": "light"
     },
     "output_type": "display_data"
    }
   ],
   "source": [
    "## MCTD\n",
    "\n",
    "i = 8\n",
    "MCTD_seq = []\n",
    "chord_sequence = chord_onehot[i]\n",
    "melody_sequence = melody[i]\n",
    "print('chord_sequence',chord_sequence.shape)\n",
    "print('melody_sequence',melody_sequence.shape)\n",
    "print('length',length[i])\n",
    "\n",
    "def create_MCTD_seq(chord_sequence,melody_sequence):\n",
    "    chord_index = np.argmax(chord_sequence, axis=1)\n",
    "    chord_note = []\n",
    "\n",
    "    for i in chord_index:\n",
    "        chord_note.append(note2number(chord962note(i)))\n",
    "\n",
    "    melody_sequence = melody_sequence.reshape((melody_sequence.shape[0] * 48, 12))\n",
    "    melody_index = my_argmax(melody_sequence)\n",
    "    melody_index = melody_index.reshape((-1, 48))\n",
    "\n",
    "    for melody_m, chord_m in zip(melody_index, chord_note):\n",
    "        count = 0\n",
    "        MCTD = 0\n",
    "\n",
    "        for m in melody_m:\n",
    "            if m != -1:\n",
    "                MCTD += np.sqrt(np.sum((np.asarray(tonal_centroid([m])) - np.asarray(tonal_centroid(chord_m)))) ** 2)\n",
    "                count += 1\n",
    "\n",
    "        if count != 0:\n",
    "            MCTD_seq.append(MCTD / count)\n",
    "        else:\n",
    "            MCTD_seq.append(0)\n",
    "    \n",
    "    return MCTD_seq\n",
    "\n",
    "MCTD_sequence = create_MCTD_seq(chord_sequence,melody_sequence)\n",
    "fig, ax = plt.subplots()\n",
    "ax.plot(MCTD_seq)"
   ]
  },
  {
   "cell_type": "code",
   "execution_count": null,
   "metadata": {},
   "outputs": [
    {
     "name": "stderr",
     "output_type": "stream",
     "text": [
      "100%|██████████| 17430/17430 [14:07<00:00, 18.57it/s]"
     ]
    }
   ],
   "source": [
    "MCTD_seqs = []\n",
    "\n",
    "for i in tqdm(range(melody.shape[0])):\n",
    "    MCTD_seqs.append(create_MCTD_seq(chord_onehot[i],melody[i]))\n",
    "    \n",
    "MCTD_seqs = np.asarray(MCTD_seqs)\n",
    "MCTD_seqs = np.expand_dims(MCTD_seqs,axis=-1)\n",
    "    \n",
    "    "
   ]
  },
  {
   "cell_type": "code",
   "execution_count": null,
   "metadata": {},
   "outputs": [],
   "source": [
    "MCTD_seqs.shape"
   ]
  },
  {
   "cell_type": "code",
   "execution_count": 33,
   "metadata": {},
   "outputs": [
    {
     "data": {
      "text/plain": [
       "511"
      ]
     },
     "execution_count": 33,
     "metadata": {},
     "output_type": "execute_result"
    }
   ],
   "source": [
    "np.save('./data/MCTD_seqs',MCTD_seqs)"
   ]
  },
  {
   "cell_type": "code",
   "execution_count": null,
   "metadata": {},
   "outputs": [],
   "source": []
  }
 ],
 "metadata": {
  "kernelspec": {
   "display_name": "Python 3",
   "language": "python",
   "name": "python3"
  },
  "language_info": {
   "codemirror_mode": {
    "name": "ipython",
    "version": 3
   },
   "file_extension": ".py",
   "mimetype": "text/x-python",
   "name": "python",
   "nbconvert_exporter": "python",
   "pygments_lexer": "ipython3",
   "version": "3.7.9"
  }
 },
 "nbformat": 4,
 "nbformat_minor": 4
}

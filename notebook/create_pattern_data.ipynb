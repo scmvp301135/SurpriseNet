{
 "cells": [
  {
   "cell_type": "code",
   "execution_count": 4,
   "metadata": {},
   "outputs": [],
   "source": [
    "import os\n",
    "os.chdir('..')"
   ]
  },
  {
   "cell_type": "code",
   "execution_count": 5,
   "metadata": {},
   "outputs": [
    {
     "data": {
      "text/plain": [
       "'/mnt/md1/user_victor/automatic_melody_harmonization'"
      ]
     },
     "execution_count": 5,
     "metadata": {},
     "output_type": "execute_result"
    }
   ],
   "source": [
    "pwd"
   ]
  },
  {
   "cell_type": "code",
   "execution_count": 6,
   "metadata": {},
   "outputs": [],
   "source": [
    "from pattern_scratch import SIA, find_beats\n",
    "import numpy as np"
   ]
  },
  {
   "cell_type": "code",
   "execution_count": 5,
   "metadata": {},
   "outputs": [],
   "source": [
    "# arr = [40, 40, 0, 0, 1, 1, 2, 3, 40, 40, 0, 0, 40, 40, 0, 0, 40, 40, 0, 0, 0]\n",
    "# arr = [4, 0, 10, 2, 3, 5, 2, 3, 8, 9, 10, 0, 1, 6, 3, 7, 48, 8, 4, 5, 8]\n",
    "arr = [4, 4, 2, 2, 3, 3, 3, 3, 5, 5, 5, 5, 5, 6, 6, 6, 3, 4, 4, 5, 8]"
   ]
  },
  {
   "cell_type": "code",
   "execution_count": 6,
   "metadata": {},
   "outputs": [
    {
     "name": "stdout",
     "output_type": "stream",
     "text": [
      "[2, 2, 4, 5, 3, 1, 2, 1, 1]\n"
     ]
    }
   ],
   "source": [
    "beats = find_beats(arr)\n",
    "print(beats)"
   ]
  },
  {
   "cell_type": "code",
   "execution_count": 7,
   "metadata": {},
   "outputs": [],
   "source": [
    "beats_seq = [[sum(beats[:i+1]),1] for i in range(len(beats))]\n"
   ]
  },
  {
   "cell_type": "code",
   "execution_count": 8,
   "metadata": {},
   "outputs": [
    {
     "data": {
      "text/plain": [
       "[[2, 1], [4, 1], [8, 1], [13, 1], [16, 1], [17, 1], [19, 1], [20, 1], [21, 1]]"
      ]
     },
     "execution_count": 8,
     "metadata": {},
     "output_type": "execute_result"
    }
   ],
   "source": [
    "beats_seq"
   ]
  },
  {
   "cell_type": "code",
   "execution_count": 9,
   "metadata": {},
   "outputs": [],
   "source": [
    "pattern = SIA(beats_seq)"
   ]
  },
  {
   "cell_type": "code",
   "execution_count": 9,
   "metadata": {},
   "outputs": [],
   "source": [
    "#pattern.table"
   ]
  },
  {
   "cell_type": "code",
   "execution_count": 10,
   "metadata": {},
   "outputs": [
    {
     "data": {
      "text/plain": [
       "{'[2, 0]': 3,\n",
       " '[6, 0]': 2,\n",
       " '[11, 0]': 2,\n",
       " '[14, 0]': 1,\n",
       " '[15, 0]': 2,\n",
       " '[17, 0]': 2,\n",
       " '[18, 0]': 1,\n",
       " '[19, 0]': 1,\n",
       " '[4, 0]': 4,\n",
       " '[9, 0]': 2,\n",
       " '[12, 0]': 2,\n",
       " '[13, 0]': 2,\n",
       " '[16, 0]': 1,\n",
       " '[5, 0]': 2,\n",
       " '[8, 0]': 2,\n",
       " '[3, 0]': 3,\n",
       " '[7, 0]': 1,\n",
       " '[1, 0]': 3}"
      ]
     },
     "execution_count": 10,
     "metadata": {},
     "output_type": "execute_result"
    }
   ],
   "source": [
    "pattern.count_dict"
   ]
  },
  {
   "cell_type": "code",
   "execution_count": 11,
   "metadata": {},
   "outputs": [
    {
     "data": {
      "text/plain": [
       "(4, 0.5)"
      ]
     },
     "execution_count": 11,
     "metadata": {},
     "output_type": "execute_result"
    }
   ],
   "source": [
    "pattern.max_pattern()"
   ]
  },
  {
   "cell_type": "code",
   "execution_count": 12,
   "metadata": {},
   "outputs": [],
   "source": [
    "# Load chord sequence data\n",
    "chord = np.load('./number_96.npy')\n",
    "length = np.load('./length.npy')\n"
   ]
  },
  {
   "cell_type": "code",
   "execution_count": 16,
   "metadata": {},
   "outputs": [
    {
     "name": "stdout",
     "output_type": "stream",
     "text": [
      "r_pitch (17430,)\n",
      "r_rythm (17430,)\n"
     ]
    }
   ],
   "source": [
    "r_pitch = []\n",
    "r_rhythm = []\n",
    "n = len(chord)\n",
    "\n",
    "for i in range(n):\n",
    "#     print(i)\n",
    "    # Pitch pattern\n",
    "    chord_seq = chord[i][:length[i]].flatten().tolist()\n",
    "    input_chord_seq = [[i,chord_seq[i]] for i in range(len(chord_seq))]\n",
    "    \n",
    "    pitch_pattern = SIA(input_chord_seq)\n",
    "    r_pitch.append(pitch_pattern.max_pattern()[1])\n",
    "#     print('r_pitch',pitch_pattern.max_pattern()[1])\n",
    "    \n",
    "    # Rhythm pattern\n",
    "    beat_seq = find_beats(chord_seq)\n",
    "    input_beat_seq = [[sum(beat_seq[:i+1]),1] for i in range(len(beat_seq))]\n",
    "    \n",
    "    rhythm_pattern = SIA(input_beat_seq)\n",
    "    r_rhythm.append(rhythm_pattern.max_pattern()[1])\n",
    "#     print('r_rythm',rhythm_pattern.max_pattern()[1])\n",
    "\n",
    "r_pitch = np.array(r_pitch)\n",
    "r_rhythm = np.array(r_rhythm)\n",
    "\n",
    "# np.save('pitch_pattern_ratio',r_pitch)\n",
    "# np.save('rhythm_pattern_ratio',r_rhythm)\n",
    "\n",
    "print('r_pitch',r_pitch.shape)\n",
    "print('r_rythm',r_rhythm.shape)\n",
    "\n"
   ]
  },
  {
   "cell_type": "code",
   "execution_count": 13,
   "metadata": {},
   "outputs": [
    {
     "data": {
      "text/plain": [
       "array([17, 19, 17, ..., 48, 36,  9])"
      ]
     },
     "execution_count": 13,
     "metadata": {},
     "output_type": "execute_result"
    }
   ],
   "source": [
    "length"
   ]
  },
  {
   "cell_type": "code",
   "execution_count": 17,
   "metadata": {},
   "outputs": [
    {
     "data": {
      "text/plain": [
       "array([0.75      , 0.55555556, 0.5625    , ..., 0.9787234 , 0.51428571,\n",
       "       0.75      ])"
      ]
     },
     "execution_count": 17,
     "metadata": {},
     "output_type": "execute_result"
    }
   ],
   "source": [
    "r_pitch"
   ]
  },
  {
   "cell_type": "code",
   "execution_count": 7,
   "metadata": {},
   "outputs": [],
   "source": [
    "import torch\n",
    "from torch.utils.data import DataLoader, Dataset\n",
    "from dataloader import Parameterized_Dataset\n"
   ]
  },
  {
   "cell_type": "code",
   "execution_count": 8,
   "metadata": {},
   "outputs": [
    {
     "name": "stdout",
     "output_type": "stream",
     "text": [
      "loading data...\n",
      "splitting validation set...\n"
     ]
    }
   ],
   "source": [
    "batch_size = 512\n",
    "epochs = 10\n",
    "device = torch.device('cuda:1')\n",
    "# validation data size\n",
    "val_size = 500\n",
    "\n",
    "# Load data\n",
    "print('loading data...')\n",
    "melody = np.load('./melody_baseline.npy')\n",
    "chord = np.load('./number_96.npy')\n",
    "chord_onehot = np.load('./onehot_96.npy')\n",
    "length = np.load('./length.npy')\n",
    "weight_chord = np.load('./weight_chord.npy')\n",
    "r_pitch = np.load('./pitch_pattern_ratio.npy')\n",
    "r_rhythm = np.load('./rhythm_pattern_ratio.npy')\n",
    "\n",
    "#Splitting data\n",
    "print('splitting validation set...')\n",
    "train_melody = melody[val_size:]\n",
    "val_melody = torch.from_numpy(melody[:val_size]).float()\n",
    "train_chord = chord[val_size:]\n",
    "val_chord = torch.from_numpy(chord[:val_size]).float()\n",
    "train_chord_onehot = chord_onehot[val_size:]\n",
    "val_chord_onehot = torch.from_numpy(chord_onehot[:val_size]).float()\n",
    "train_length = length[val_size:]\n",
    "val_length = torch.from_numpy(length[:val_size])\n",
    "weight_chord = torch.from_numpy(weight_chord).float().to(device)\n",
    "\n",
    "train_r_pitch = r_pitch[val_size:]\n",
    "val_r_pitch = torch.from_numpy(r_pitch[:val_size]).float()\n",
    "train_r_rhythm = r_rhythm[val_size:]\n",
    "val_r_rhythm = torch.from_numpy(r_rhythm[:val_size])\n"
   ]
  },
  {
   "cell_type": "code",
   "execution_count": 9,
   "metadata": {},
   "outputs": [],
   "source": [
    "dataset = Parameterized_Dataset(train_melody, train_chord, train_length, train_chord_onehot, train_r_pitch, train_r_rhythm)\n"
   ]
  },
  {
   "cell_type": "code",
   "execution_count": 10,
   "metadata": {},
   "outputs": [
    {
     "data": {
      "text/plain": [
       "array([[1.        ],\n",
       "       [0.66666667],\n",
       "       [0.8       ],\n",
       "       ...,\n",
       "       [0.9787234 ],\n",
       "       [0.51428571],\n",
       "       [0.75      ]])"
      ]
     },
     "execution_count": 10,
     "metadata": {},
     "output_type": "execute_result"
    }
   ],
   "source": [
    "\n"
   ]
  },
  {
   "cell_type": "code",
   "execution_count": 15,
   "metadata": {},
   "outputs": [],
   "source": [
    "a = torch.rand(3)\n",
    "b = torch.rand(4)\n",
    "c = torch.rand(5)"
   ]
  },
  {
   "cell_type": "code",
   "execution_count": 19,
   "metadata": {},
   "outputs": [
    {
     "data": {
      "text/plain": [
       "tensor([0.6345, 0.0175, 0.2102, 0.1199, 0.2041, 0.6056, 0.7898, 0.0696, 0.9217,\n",
       "        0.0257, 0.1084, 0.7010])"
      ]
     },
     "execution_count": 19,
     "metadata": {},
     "output_type": "execute_result"
    }
   ],
   "source": [
    "torch.cat([a,b,c],dim = 0)"
   ]
  },
  {
   "cell_type": "raw",
   "metadata": {},
   "source": [
    "## Look up pattern ratio distribution\n"
   ]
  },
  {
   "cell_type": "code",
   "execution_count": 1,
   "metadata": {},
   "outputs": [],
   "source": [
    "import matplotlib.pyplot as plt"
   ]
  },
  {
   "cell_type": "code",
   "execution_count": 12,
   "metadata": {},
   "outputs": [],
   "source": [
    "r_pitch = np.load('./pitch_pattern_ratio.npy')\n",
    "r_rhythm = np.load('./rhythm_pattern_ratio.npy')"
   ]
  },
  {
   "cell_type": "code",
   "execution_count": 25,
   "metadata": {},
   "outputs": [
    {
     "data": {
      "text/plain": [
       "Text(0.5, 1.0, 'Rhythm_pattern_ratio distribution')"
      ]
     },
     "execution_count": 25,
     "metadata": {},
     "output_type": "execute_result"
    },
    {
     "data": {
      "image/png": "[encoded data removed]",
      "text/plain": [
       "<Figure size 432x288 with 1 Axes>"
      ]
     },
     "metadata": {
      "needs_background": "light"
     },
     "output_type": "display_data"
    },
    {
     "data": {
      "image/png": "[encoded data removed]",
      "text/plain": [
       "<Figure size 432x288 with 1 Axes>"
      ]
     },
     "metadata": {
      "needs_background": "light"
     },
     "output_type": "display_data"
    }
   ],
   "source": [
    "n_bins = 30\n",
    "\n",
    "## Pitch\n",
    "fig, ax = plt.subplots(tight_layout=True)\n",
    "\n",
    "# We can set the number of bins with the `bins` kwarg\n",
    "ax.hist(r_pitch, bins=n_bins)\n",
    "ax.set_xlabel('Pitch_pattern_ratio')\n",
    "ax.set_ylim([0,4000])\n",
    "plt.title('Pitch_pattern_ratio distribution')\n",
    "\n",
    "## Rhythm\n",
    "fig, ax = plt.subplots(tight_layout=True)\n",
    "\n",
    "# We can set the number of bins with the `bins` kwarg\n",
    "ax.hist(r_rhythm, bins=n_bins)\n",
    "ax.set_xlabel('Rhythm_pattern_ratio')\n",
    "ax.set_ylim([0,4000])\n",
    "plt.title('Rhythm_pattern_ratio distribution')"
   ]
  },
  {
   "cell_type": "code",
   "execution_count": null,
   "metadata": {},
   "outputs": [],
   "source": []
  }
 ],
 "metadata": {
  "kernelspec": {
   "display_name": "Python 3",
   "language": "python",
   "name": "python3"
  },
  "language_info": {
   "codemirror_mode": {
    "name": "ipython",
    "version": 3
   },
   "file_extension": ".py",
   "mimetype": "text/x-python",
   "name": "python",
   "nbconvert_exporter": "python",
   "pygments_lexer": "ipython3",
   "version": "3.7.9"
  }
 },
 "nbformat": 4,
 "nbformat_minor": 4
}

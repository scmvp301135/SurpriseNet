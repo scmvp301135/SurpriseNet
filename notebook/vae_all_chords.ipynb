{
 "cells": [
  {
   "cell_type": "code",
   "execution_count": 3,
   "metadata": {},
   "outputs": [],
   "source": [
    "import os\n",
    "os.chdir('..')"
   ]
  },
  {
   "cell_type": "code",
   "execution_count": 4,
   "metadata": {},
   "outputs": [
    {
     "data": {
      "text/plain": [
       "'/mnt/md1/user_victor/automatic_melody_harmonization'"
      ]
     },
     "execution_count": 4,
     "metadata": {},
     "output_type": "execute_result"
    }
   ],
   "source": [
    "pwd"
   ]
  },
  {
   "cell_type": "code",
   "execution_count": 5,
   "metadata": {},
   "outputs": [],
   "source": [
    "from tonal import pianoroll2number, joint_prob2pianoroll96\n",
    "from tonal import tonal_centroid, chord482note, chord962note, note2number\n",
    "import numpy as np\n",
    "import torch\n",
    "from torch.utils.data import DataLoader, Dataset\n",
    "import torch.nn as nn\n",
    "import torch.nn.functional as F\n",
    "import torch.optim as optim\n",
    "from torch.nn.utils.rnn import pack_padded_sequence, pad_packed_sequence\n",
    "import pickle\n",
    "from model.VAE_all_chords import VAE\n",
    "from decode import *\n",
    "import matplotlib.pyplot as plt"
   ]
  },
  {
   "cell_type": "code",
   "execution_count": 6,
   "metadata": {},
   "outputs": [],
   "source": [
    "chord_idx = np.load('./data/chord_indices.npy')\n",
    "chord_onehot = np.load('./data/chord_onehot.npy')\n",
    "length = np.load('./data/length.npy')"
   ]
  },
  {
   "cell_type": "code",
   "execution_count": 9,
   "metadata": {},
   "outputs": [
    {
     "name": "stdout",
     "output_type": "stream",
     "text": [
      "splitting testing set...\n"
     ]
    }
   ],
   "source": [
    "device = 'cpu'\n",
    "val_size = 500\n",
    "print('splitting testing set...')\n",
    "\n",
    "val_chord_idx = torch.from_numpy(chord_idx[:val_size]).long().to(device)\n",
    "val_chord = torch.from_numpy(chord_onehot[:val_size]).float().to(device)\n",
    "val_length = torch.from_numpy(length[:val_size]).to(device)\n"
   ]
  },
  {
   "cell_type": "code",
   "execution_count": 11,
   "metadata": {},
   "outputs": [
    {
     "name": "stdout",
     "output_type": "stream",
     "text": [
      "building model...\n",
      "VAE(\n",
      "  (embedding): Embedding(633, 96)\n",
      "  (encoder): LSTM(96, 256, num_layers=2, batch_first=True, bidirectional=True)\n",
      "  (encoder_output2mean): Linear(in_features=512, out_features=16, bias=True)\n",
      "  (encoder_output2logv): Linear(in_features=512, out_features=16, bias=True)\n",
      "  (latent2decoder_input): Linear(in_features=16, out_features=128, bias=True)\n",
      "  (decoder): LSTM(128, 256, num_layers=2, batch_first=True, dropout=0.2, bidirectional=True)\n",
      "  (outputs2chord): Linear(in_features=512, out_features=633, bias=True)\n",
      ")\n"
     ]
    }
   ],
   "source": [
    "# Load model\n",
    "print('building model...')\n",
    "with torch.no_grad():\n",
    "    model = VAE(device = device).to(device)\n",
    "    model.load_state_dict(torch.load('output_models/model_vae_all_chords.pth'))\n",
    "    print(model)\n",
    "    model.eval()\n"
   ]
  },
  {
   "cell_type": "code",
   "execution_count": 19,
   "metadata": {},
   "outputs": [
    {
     "name": "stdout",
     "output_type": "stream",
     "text": [
      "tensor([45])\n",
      "sample_chord_idx tensor([  0, 265, 415, 415, 415, 415, 570, 570, 570, 570,  70,  70,  70,  70,\n",
      "        206, 206, 557, 589, 269, 269, 265, 265, 415, 415, 415, 415, 570, 570,\n",
      "        570, 570,  70,  70, 206, 206, 563, 563, 269, 269,   0,   0, 415, 415,\n",
      "        426, 426,   0])\n",
      "torch.Size([1, 272, 633])\n",
      "chord pred shape torch.Size([272, 633])\n",
      "max logits torch.return_types.max(\n",
      "values=tensor([0.9623, 0.9761, 0.9398, 0.9511, 0.9336, 0.7912, 0.5354, 0.5785, 0.6622,\n",
      "        0.6003, 0.9303, 0.9523, 0.7829, 0.9105, 0.7642, 0.9088, 0.1526, 0.1783,\n",
      "        0.5303, 0.4768, 0.6532, 0.7783, 0.8454, 0.7763, 0.8294, 0.8797, 0.6270,\n",
      "        0.8008, 0.6651, 0.6342, 0.9811, 0.9685, 0.9811, 0.9853, 0.7480, 0.7247,\n",
      "        0.5092, 0.1117, 0.8941, 0.7608, 0.6392, 0.6237, 0.1450, 0.2257, 0.9236],\n",
      "       grad_fn=<MaxBackward0>),\n",
      "indices=tensor([  0,   0, 415, 415, 415, 415,  22,  22,  22,  22,  70,  70,  70,  70,\n",
      "        206, 206, 420, 566, 269, 269, 265, 265, 415, 415, 415, 415,  22,  22,\n",
      "         22,  22,  70,  70, 206, 206, 563, 563,  84, 269,   0,   0, 415, 415,\n",
      "        225,  84,   0]))\n"
     ]
    }
   ],
   "source": [
    "# Sampconductorne song\n",
    "# torch.manual_seed(0)\n",
    "i = 8\n",
    "sample_length = val_length[i].unsqueeze(0)\n",
    "sample_chord_idx = val_chord_idx[i].squeeze().unsqueeze(0)\n",
    "sample_chord = val_chord[i].unsqueeze(0)\n",
    "\n",
    "print(sample_length)\n",
    "print('sample_chord_idx',sample_chord_idx[0][:sample_length])\n",
    "print(sample_chord.shape)\n",
    "\n",
    "chord_pred, logp, mu, log_var, input_chord = model(sample_chord_idx,sample_length)\n",
    "print('chord pred shape',chord_pred[0].shape)\n",
    "\n",
    "logits = torch.max(chord_pred[0][:sample_length[0]],-1)\n",
    "gen_chord_index = logits.indices\n",
    "print('max logits',logits)\n",
    "# print('max index',gen_chord_index)\n",
    "\n"
   ]
  },
  {
   "cell_type": "code",
   "execution_count": null,
   "metadata": {},
   "outputs": [],
   "source": []
  },
  {
   "cell_type": "code",
   "execution_count": null,
   "metadata": {},
   "outputs": [],
   "source": []
  }
 ],
 "metadata": {
  "kernelspec": {
   "display_name": "Python 3",
   "language": "python",
   "name": "python3"
  },
  "language_info": {
   "codemirror_mode": {
    "name": "ipython",
    "version": 3
   },
   "file_extension": ".py",
   "mimetype": "text/x-python",
   "name": "python",
   "nbconvert_exporter": "python",
   "pygments_lexer": "ipython3",
   "version": "3.7.9"
  }
 },
 "nbformat": 4,
 "nbformat_minor": 4
}

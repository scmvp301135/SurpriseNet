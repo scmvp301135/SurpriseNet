{
 "cells": [
  {
   "cell_type": "code",
   "execution_count": 5,
   "metadata": {},
   "outputs": [],
   "source": [
    "import os\n",
    "os.chdir('..')"
   ]
  },
  {
   "cell_type": "code",
   "execution_count": 6,
   "metadata": {},
   "outputs": [
    {
     "data": {
      "text/plain": [
       "'/mnt/md1/user_victor/automatic_melody_harmonization'"
      ]
     },
     "execution_count": 6,
     "metadata": {},
     "output_type": "execute_result"
    }
   ],
   "source": [
    "pwd"
   ]
  },
  {
   "cell_type": "code",
   "execution_count": 23,
   "metadata": {},
   "outputs": [],
   "source": [
    "from model.MusicCVAE import MusicCVAE"
   ]
  },
  {
   "cell_type": "code",
   "execution_count": 7,
   "metadata": {},
   "outputs": [],
   "source": [
    "from tonal import pianoroll2number, joint_prob2pianoroll96\n",
    "from tonal import tonal_centroid, chord482note, chord962note, note2number\n",
    "import numpy as np\n",
    "import torch\n",
    "from torch.utils.data import DataLoader, Dataset\n",
    "import torch.nn as nn\n",
    "import torch.nn.functional as F\n",
    "import torch.optim as optim\n",
    "from torch.nn.utils.rnn import pack_padded_sequence, pad_packed_sequence\n",
    "import pickle\n",
    "from model.MusicCVAE import MusicCVAE\n",
    "from decode import *\n",
    "import matplotlib.pyplot as plt\n",
    "import math"
   ]
  },
  {
   "cell_type": "code",
   "execution_count": 15,
   "metadata": {},
   "outputs": [],
   "source": [
    "\n",
    "melody = np.load('./data/melody_baseline.npy')\n",
    "length = np.load('./data/length.npy')\n"
   ]
  },
  {
   "cell_type": "code",
   "execution_count": 16,
   "metadata": {},
   "outputs": [],
   "source": [
    "\n",
    "melody_seqs = torch.from_numpy(melody).float()\n",
    "length = torch.from_numpy(length)"
   ]
  },
  {
   "cell_type": "code",
   "execution_count": null,
   "metadata": {},
   "outputs": [],
   "source": []
  },
  {
   "cell_type": "code",
   "execution_count": 18,
   "metadata": {},
   "outputs": [
    {
     "name": "stdout",
     "output_type": "stream",
     "text": [
      "building model...\n",
      "MusicCVAE(\n",
      "  (encoder): GRU(96, 1024, num_layers=2, batch_first=True, bidirectional=True)\n",
      "  (hidden2mean): Linear(in_features=4096, out_features=256, bias=True)\n",
      "  (hidden2logv): Linear(in_features=4096, out_features=256, bias=True)\n",
      "  (melody_prenet): GRU(576, 1024, num_layers=2, batch_first=True, bidirectional=True)\n",
      "  (latent2conductor_input): Linear(in_features=256, out_features=96, bias=True)\n",
      "  (latent2conductor_hidden): Linear(in_features=256, out_features=1024, bias=True)\n",
      "  (dropout): Dropout(p=0.2, inplace=False)\n",
      "  (conductor): GRU(4192, 1024, num_layers=2, batch_first=True)\n",
      "  (conductor_embedding): Sequential(\n",
      "    (0): Linear(in_features=1024, out_features=256, bias=True)\n",
      "    (1): Tanh()\n",
      "  )\n",
      "  (decoder): GRU(928, 1024, num_layers=2, batch_first=True)\n",
      "  (outputs2chord): Linear(in_features=1024, out_features=96, bias=True)\n",
      ")\n"
     ]
    },
    {
     "data": {
      "text/plain": [
       "MusicCVAE(\n",
       "  (encoder): GRU(96, 1024, num_layers=2, batch_first=True, bidirectional=True)\n",
       "  (hidden2mean): Linear(in_features=4096, out_features=256, bias=True)\n",
       "  (hidden2logv): Linear(in_features=4096, out_features=256, bias=True)\n",
       "  (melody_prenet): GRU(576, 1024, num_layers=2, batch_first=True, bidirectional=True)\n",
       "  (latent2conductor_input): Linear(in_features=256, out_features=96, bias=True)\n",
       "  (latent2conductor_hidden): Linear(in_features=256, out_features=1024, bias=True)\n",
       "  (dropout): Dropout(p=0.2, inplace=False)\n",
       "  (conductor): GRU(4192, 1024, num_layers=2, batch_first=True)\n",
       "  (conductor_embedding): Sequential(\n",
       "    (0): Linear(in_features=1024, out_features=256, bias=True)\n",
       "    (1): Tanh()\n",
       "  )\n",
       "  (decoder): GRU(928, 1024, num_layers=2, batch_first=True)\n",
       "  (outputs2chord): Linear(in_features=1024, out_features=96, bias=True)\n",
       ")"
      ]
     },
     "execution_count": 18,
     "metadata": {},
     "output_type": "execute_result"
    }
   ],
   "source": [
    "# Load model\n",
    "device = 'cpu'\n",
    "print('building model...')\n",
    "model = MusicCVAE(teacher_forcing = False, \n",
    "                  eps_i=0, \n",
    "                  device = device,\n",
    "                  batch_size = 1).to(device)\n",
    "model.load_state_dict(torch.load('output_models/model_music_cvae_latent_256.pth',map_location='cpu'))\n",
    "# model.load_state_dict(torch.load('output_models/model_ctdcvae_conv_prenet.pth'))\n",
    "print(model)\n",
    "model.eval()"
   ]
  },
  {
   "cell_type": "code",
   "execution_count": 19,
   "metadata": {},
   "outputs": [],
   "source": [
    "def top_k_top_p(logits, top_k=0, top_p=0.0, filter_value=-float('Inf')):\n",
    "    \"\"\" Filter a distribution of logits using top-k and/or nucleus (top-p) filtering\n",
    "        Args:\n",
    "            logits: logits distribution shape (vocabulary size)\n",
    "            top_k >0: keep only top k tokens with highest probability (top-k filtering).\n",
    "            top_p >0.0: keep the top tokens with cumulative probability >= top_p (nucleus filtering).\n",
    "    \"\"\"\n",
    "    logits = logits.clone()\n",
    "    assert logits.dim() == 1  # batch size 1 for now - could be updated for more but the code would be less clear\n",
    "    top_k = min(top_k, logits.size(-1))  # Safety check\n",
    "    if top_k > 0:\n",
    "        # Remove all tokens with a probability less than the last token of the top-k\n",
    "        indices_to_remove = logits < torch.topk(logits, top_k)[0][..., -1, None]\n",
    "        logits[indices_to_remove] = filter_value\n",
    "\n",
    "    if top_p > 0.0:\n",
    "        sorted_logits, sorted_indices = torch.sort(logits, descending=True)\n",
    "        cumulative_probs = torch.cumsum(F.softmax(sorted_logits, dim=-1), dim=-1)\n",
    "\n",
    "        # Remove tokens with cumulative probability above the threshold\n",
    "        sorted_indices_to_remove = cumulative_probs > top_p\n",
    "        # Shift the indices to the right to keep also the first token above the threshold\n",
    "        sorted_indices_to_remove[..., 1:] = sorted_indices_to_remove[..., :-1].clone()\n",
    "        sorted_indices_to_remove[..., 0] = 0\n",
    "\n",
    "        indices_to_remove = sorted_indices[sorted_indices_to_remove]\n",
    "        logits[indices_to_remove] = filter_value\n",
    "    return logits"
   ]
  },
  {
   "cell_type": "code",
   "execution_count": 58,
   "metadata": {},
   "outputs": [
    {
     "name": "stderr",
     "output_type": "stream",
     "text": [
      "100%|██████████| 1/1 [00:00<00:00,  1.25it/s]\n"
     ]
    },
    {
     "data": {
      "image/png": "[encoded data removed]",
      "text/plain": [
       "<Figure size 432x288 with 1 Axes>"
      ]
     },
     "metadata": {
      "needs_background": "light"
     },
     "output_type": "display_data"
    }
   ],
   "source": [
    "# Sampling\n",
    "# torch.manual_seed(0)\n",
    "# batch = melody.shape[0]\n",
    "batch = melody.shape[0]\n",
    "latent_size = 256\n",
    "\n",
    "top_p_chord_onehot_seqs = []\n",
    "top_p_surprisingness_seqs = []\n",
    "\n",
    "for song_index in tqdm(range(1)):\n",
    "#     song_index = 8\n",
    "    sample_melody = melody_seqs[song_index].unsqueeze(0).to(device)\n",
    "    sample_length = length[song_index].unsqueeze(0).to(device)\n",
    "    \n",
    "    chord_seqs = []\n",
    "    \n",
    "    # model inference\n",
    "    latent = torch.randn(1,latent_size).to(device)\n",
    "    melody_token = model.melody_embedding(sample_melody,sample_length)\n",
    "    output, softmax = model.decode(latent, melody_token, None, sample_melody)\n",
    "\n",
    "    logits = torch.max(softmax[0],-1)\n",
    "    max_idx = logits.indices\n",
    "#     print('softmax',logits[0])\n",
    "#     print('softmax index ',logits[1])\n",
    "\n",
    "    ## Softmax Normalized\n",
    "    normed_softmax = softmax.clone()\n",
    "#     for i in range(sample_length):\n",
    "#         normed_softmax[:,i,:] = normed_softmax[:,i,:] / normed_softmax[:,i,max_idx[i]].item()\n",
    "\n",
    "    # Top p Sample\n",
    "    top_p_pred = torch.zeros((272,96))\n",
    "    top_p_sample_idx = []\n",
    "    surprisingness_seq = []\n",
    "    for i in range(272):\n",
    "        normed_softmax[:,i,:] = normed_softmax[:,i,:] / normed_softmax[:,i,max_idx[i]].item()\n",
    "        \n",
    "        top_p_sample = top_k_top_p(softmax[0][i], top_p=0.03)\n",
    "        top_p_probs = F.softmax(top_p_sample, dim=-1)\n",
    "        idx = torch.multinomial(top_p_probs, 1).item()\n",
    "        top_p_pred[i,idx] = 1\n",
    "        top_p_sample_idx.append(idx)\n",
    "        \n",
    "        surprisingness_seq.append(-torch.log(normed_softmax[0][i][top_p_sample_idx[i]]).item()) \n",
    "    \n",
    "#     print('top_p_sample_idx',top_p_sample_idx)\n",
    "\n",
    "    # Calculate surprisingness\n",
    "#     surprisingness_seq = []\n",
    "#     for i in range(sample_length):\n",
    "#         surprisingness_seq.append(-torch.log(normed_softmax[0][i][top_p_sample_idx[i]]).item()) \n",
    "    \n",
    "    top_p_chord_onehot_seqs.append(top_p_pred.numpy())\n",
    "    top_p_surprisingness_seqs.append(surprisingness_seq)\n",
    "    \n",
    "    # Plot surprisingness \n",
    "    fig, ax = plt.subplots()\n",
    "    ax.plot(surprisingness_seq[:sample_length])\n",
    "\n",
    "top_p_chord_onehot_seqs = np.asarray(top_p_chord_onehot_seqs)\n",
    "top_p_surprisingness_seqs = np.asarray(top_p_surprisingness_seqs)\n",
    "top_p_surprisingness_seqs = np.expand_dims(top_p_surprisingness_seqs,axis=-1)\n",
    "\n",
    "np.save('./data/top_p_chord_onehot_seqs.npy',top_p_chord_onehot_seqs)\n",
    "np.save('./data/top_p_surprisingness_seqs.npy',top_p_surprisingness_seqs)"
   ]
  },
  {
   "cell_type": "code",
   "execution_count": 53,
   "metadata": {},
   "outputs": [
    {
     "data": {
      "text/plain": [
       "tensor([ 0,  0, 56,  0,  0,  0,  0, 73,  0,  0,  0,  0,  0,  0,  0,  0,  0,  0,\n",
       "         0, 56,  0,  0,  0,  0,  0,  0,  0,  0,  0,  0,  0,  0,  0,  0,  0,  0,\n",
       "         0,  0,  0,  0,  0, 73,  0,  0,  0,  0,  0,  0,  0,  0,  0,  0,  0,  0,\n",
       "         0,  0,  0,  0,  0,  0,  0,  0,  0,  0,  0,  0,  0,  0,  0,  0,  0, 56,\n",
       "         0,  0,  0,  0,  0,  0,  0,  0,  0,  0,  0,  0,  0,  0,  0,  0,  0,  0,\n",
       "         0,  0,  0,  0,  0,  4,  0,  0,  0,  0,  0,  0,  0,  0,  0,  0,  0,  0,\n",
       "         0,  0,  0,  0,  0,  0,  0,  0,  0, 56,  0,  0,  0,  0,  0,  0,  0,  0,\n",
       "         0,  0,  0,  0,  0,  0,  0,  0,  0, 56,  0,  0,  0,  0,  0,  0,  0, 79,\n",
       "         0,  0,  0,  0,  0,  0,  0,  0,  0,  0,  0,  0,  0,  0,  0,  0,  0,  5,\n",
       "         0,  0,  0,  0,  0,  0,  0,  0,  0,  0,  0,  0,  0,  0,  0,  0,  0,  0,\n",
       "         0,  0,  0,  0,  0,  0,  0,  0,  0,  0,  0,  0,  0,  0,  0,  0,  0,  0,\n",
       "         0,  0,  0,  0,  0,  0,  0,  0,  0,  0,  0, 40,  0,  0,  0,  0,  0,  0,\n",
       "         0,  0,  0,  0,  0,  0,  0,  0,  0, 56,  0,  0,  0,  0,  0,  0,  0,  0,\n",
       "         0,  0,  0,  0,  0,  0,  0,  0,  0,  0,  0,  0,  0,  0,  0,  0,  0,  0,\n",
       "         0,  0,  0,  0,  0,  0,  0,  0,  0,  0,  0,  0,  0,  0,  0,  0,  0,  0,\n",
       "         0,  0])"
      ]
     },
     "execution_count": 53,
     "metadata": {},
     "output_type": "execute_result"
    }
   ],
   "source": [
    "max_idx"
   ]
  },
  {
   "cell_type": "code",
   "execution_count": 55,
   "metadata": {},
   "outputs": [
    {
     "name": "stdout",
     "output_type": "stream",
     "text": [
      "proceed chord decode...\n",
      "accompany_pianoroll shape (272, 96, 128)\n"
     ]
    },
    {
     "ename": "NameError",
     "evalue": "name 'sample_chord_groundtruth_idx' is not defined",
     "output_type": "error",
     "traceback": [
      "\u001b[0;31m---------------------------------------------------------------------------\u001b[0m",
      "\u001b[0;31mNameError\u001b[0m                                 Traceback (most recent call last)",
      "\u001b[0;32m<ipython-input-55-175a1fc6295d>\u001b[0m in \u001b[0;36m<module>\u001b[0;34m\u001b[0m\n\u001b[1;32m     11\u001b[0m \u001b[0mBEAT_PER_CHORD\u001b[0m \u001b[0;34m=\u001b[0m \u001b[0;36m2\u001b[0m\u001b[0;34m\u001b[0m\u001b[0;34m\u001b[0m\u001b[0m\n\u001b[1;32m     12\u001b[0m \u001b[0;34m\u001b[0m\u001b[0m\n\u001b[0;32m---> 13\u001b[0;31m \u001b[0maccompany_pianoroll_framewise\u001b[0m\u001b[0;34m,\u001b[0m \u001b[0msample_chord_groundtruth_framewise\u001b[0m \u001b[0;34m=\u001b[0m \u001b[0msequence2frame\u001b[0m\u001b[0;34m(\u001b[0m\u001b[0maccompany_pianoroll\u001b[0m\u001b[0;34m,\u001b[0m \u001b[0msample_chord_groundtruth_idx\u001b[0m\u001b[0;34m)\u001b[0m\u001b[0;34m\u001b[0m\u001b[0;34m\u001b[0m\u001b[0m\n\u001b[0m\u001b[1;32m     14\u001b[0m \u001b[0;34m\u001b[0m\u001b[0m\n\u001b[1;32m     15\u001b[0m \u001b[0;31m# length into frame base\u001b[0m\u001b[0;34m\u001b[0m\u001b[0;34m\u001b[0m\u001b[0;34m\u001b[0m\u001b[0m\n",
      "\u001b[0;31mNameError\u001b[0m: name 'sample_chord_groundtruth_idx' is not defined"
     ]
    }
   ],
   "source": [
    "########## Random sampling ###########\n",
    "# Proceed chord decode\n",
    "print('proceed chord decode...')\n",
    "joint_prob = top_p_pred.cpu().detach().numpy()\n",
    "\n",
    "# Append argmax index to get pianoroll array\n",
    "accompany_pianoroll = argmax2pianoroll(joint_prob)\n",
    "\n",
    "# augment chord into frame base\n",
    "BEAT_RESOLUTION = 24\n",
    "BEAT_PER_CHORD = 2\n",
    "\n",
    "accompany_pianoroll_framewise, sample_chord_groundtruth_framewise = sequence2frame(accompany_pianoroll, sample_chord_groundtruth_idx)\n",
    "\n",
    "# length into frame base\n",
    "sample_length_framewise = sample_length * BEAT_RESOLUTION * BEAT_PER_CHORD\n",
    "\n",
    "# write pianoroll\n",
    "result_dir = 'results/smusic_cvae_top_p_test'\n",
    "filename = str(song_index)\n",
    "write_one_pianoroll(result_dir, filename, sample_melody_framewise, accompany_pianoroll_framewise, sample_chord_groundtruth_framewise, sample_length_framewise, sample_tempo, sample_downbeat)\n"
   ]
  },
  {
   "cell_type": "code",
   "execution_count": null,
   "metadata": {},
   "outputs": [],
   "source": []
  }
 ],
 "metadata": {
  "kernelspec": {
   "display_name": "Python 3",
   "language": "python",
   "name": "python3"
  },
  "language_info": {
   "codemirror_mode": {
    "name": "ipython",
    "version": 3
   },
   "file_extension": ".py",
   "mimetype": "text/x-python",
   "name": "python",
   "nbconvert_exporter": "python",
   "pygments_lexer": "ipython3",
   "version": "3.7.9"
  }
 },
 "nbformat": 4,
 "nbformat_minor": 4
}

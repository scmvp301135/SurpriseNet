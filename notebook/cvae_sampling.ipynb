{
 "cells": [
  {
   "cell_type": "code",
   "execution_count": 1,
   "metadata": {},
   "outputs": [],
   "source": [
    "import os\n",
    "os.chdir('..')"
   ]
  },
  {
   "cell_type": "code",
   "execution_count": 2,
   "metadata": {},
   "outputs": [],
   "source": [
    "from tonal import pianoroll2number, joint_prob2pianoroll96\n",
    "import numpy as np\n",
    "import torch\n",
    "from torch.utils.data import DataLoader, Dataset\n",
    "import torch.nn as nn\n",
    "import torch.nn.functional as F\n",
    "import torch.optim as optim\n",
    "from torch.nn.utils.rnn import pack_padded_sequence, pad_packed_sequence\n",
    "from pypianoroll import Multitrack, Track\n",
    "import pypianoroll as pr\n",
    "import pickle\n",
    "from matplotlib import pyplot as plt\n",
    "import os\n",
    "import random\n",
    "from model.CVAE import *\n",
    "from decode import *"
   ]
  },
  {
   "cell_type": "code",
   "execution_count": 71,
   "metadata": {},
   "outputs": [],
   "source": [
    "from metrics import CHE_and_CC, CTD, CTnCTR, PCS, MCTD"
   ]
  },
  {
   "cell_type": "code",
   "execution_count": 70,
   "metadata": {},
   "outputs": [
    {
     "data": {
      "text/plain": [
       "'/mnt/md1/user_victor/automatic_melody_harmonization'"
      ]
     },
     "execution_count": 70,
     "metadata": {},
     "output_type": "execute_result"
    }
   ],
   "source": [
    "pwd"
   ]
  },
  {
   "cell_type": "code",
   "execution_count": 10,
   "metadata": {},
   "outputs": [],
   "source": [
    "device = 'cpu'"
   ]
  },
  {
   "cell_type": "code",
   "execution_count": 4,
   "metadata": {},
   "outputs": [
    {
     "name": "stdout",
     "output_type": "stream",
     "text": [
      "loading data...\n",
      "splitting testing set...\n"
     ]
    }
   ],
   "source": [
    "# Load data\n",
    "device = 'cpu'\n",
    "val_size = 500\n",
    "\n",
    "print('loading data...')\n",
    "melody_data = np.load('./melody_data.npy')\n",
    "chord_groundtruth = np.load('./chord_groundtruth.npy')\n",
    "chord_onehot = np.load('./onehot_96.npy')\n",
    "\n",
    "# Reconstructed chords\n",
    "chord_recon = np.load('./reconstructed_one_hot_chords.npy')\n",
    "\n",
    "melody = np.load('./melody_baseline.npy')\n",
    "lengths = np.load('./length.npy')\n",
    "\n",
    "f = open('tempos', 'rb')\n",
    "tempos = pickle.load(f)\n",
    "f.close()\n",
    "f = open('downbeats', 'rb')\n",
    "downbeats = pickle.load(f)\n",
    "f.close()\n",
    "\n",
    "print('splitting testing set...')\n",
    "melody_data = melody_data[:val_size]\n",
    "chord_groundtruth = chord_groundtruth[:val_size]\n",
    "\n",
    "val_chord = torch.from_numpy(chord_onehot[:val_size]).float()\n",
    "val_melody = torch.from_numpy(melody[:val_size]).float()\n",
    "val_length = torch.from_numpy(lengths[:val_size])\n",
    "\n",
    "tempos = tempos[:val_size]\n",
    "downbeats = downbeats[:val_size]"
   ]
  },
  {
   "cell_type": "code",
   "execution_count": null,
   "metadata": {},
   "outputs": [],
   "source": []
  },
  {
   "cell_type": "code",
   "execution_count": 60,
   "metadata": {},
   "outputs": [
    {
     "name": "stdout",
     "output_type": "stream",
     "text": [
      "torch.Size([500, 272, 576])\n",
      "(500, 13056, 128)\n"
     ]
    }
   ],
   "source": [
    "print(val_melody.shape)\n",
    "print(melody_data.shape)"
   ]
  },
  {
   "cell_type": "code",
   "execution_count": 5,
   "metadata": {},
   "outputs": [
    {
     "name": "stdout",
     "output_type": "stream",
     "text": [
      "building model...\n"
     ]
    }
   ],
   "source": [
    "# Load model\n",
    "print('building model...')\n",
    "model = CVAE(device = device).to(device)\n",
    "model.load_state_dict(torch.load('output_models/model_cvae_reconstruction.pth'))\n",
    "\n",
    "model.eval()\n",
    "chord, length = val_chord.to(device), val_length.to(device)"
   ]
  },
  {
   "cell_type": "code",
   "execution_count": 60,
   "metadata": {},
   "outputs": [
    {
     "data": {
      "text/plain": [
       "device(type='cpu')"
      ]
     },
     "execution_count": 60,
     "metadata": {},
     "output_type": "execute_result"
    }
   ],
   "source": [
    "# chord_groundtruth.shape\n",
    "val_length[0].device"
   ]
  },
  {
   "cell_type": "code",
   "execution_count": 22,
   "metadata": {},
   "outputs": [],
   "source": [
    "\n",
    "latent_size = 16\n",
    "pianoroll_frames = 12 * 24 * 2\n",
    "index = 20\n",
    "\n",
    "melody_truth = np.expand_dims(melody_data[index], axis=0)\n",
    "chord_truth = np.expand_dims(chord_groundtruth[index], axis=0)\n",
    "tempo = [tempos[index]]\n",
    "downbeat = [downbeats[index]]\n",
    "\n",
    "melody1 = val_melody[index].unsqueeze(dim=0)\n",
    "length1 = torch.Tensor([length[index]]).long()\n"
   ]
  },
  {
   "cell_type": "code",
   "execution_count": 27,
   "metadata": {},
   "outputs": [],
   "source": [
    "# Sampling\n",
    "latent = torch.rand(1,272,latent_size)\n",
    "z = torch.cat((latent,melody1), dim=-1)\n",
    "\n",
    "_, chord_pred = model.decode(z,length1)"
   ]
  },
  {
   "cell_type": "code",
   "execution_count": 61,
   "metadata": {},
   "outputs": [
    {
     "data": {
      "text/plain": [
       "device(type='cpu')"
      ]
     },
     "execution_count": 61,
     "metadata": {},
     "output_type": "execute_result"
    }
   ],
   "source": [
    "z.device"
   ]
  },
  {
   "cell_type": "code",
   "execution_count": 9,
   "metadata": {},
   "outputs": [
    {
     "data": {
      "text/plain": [
       "(1, 13056, 128)"
      ]
     },
     "execution_count": 9,
     "metadata": {},
     "output_type": "execute_result"
    }
   ],
   "source": [
    "melody_truth.shape"
   ]
  },
  {
   "cell_type": "code",
   "execution_count": 62,
   "metadata": {},
   "outputs": [
    {
     "data": {
      "text/plain": [
       "torch.Size([1, 272, 96])"
      ]
     },
     "execution_count": 62,
     "metadata": {},
     "output_type": "execute_result"
    }
   ],
   "source": [
    "chord_pred.shape"
   ]
  },
  {
   "cell_type": "code",
   "execution_count": 86,
   "metadata": {},
   "outputs": [
    {
     "data": {
      "text/plain": [
       "(768,)"
      ]
     },
     "execution_count": 86,
     "metadata": {},
     "output_type": "execute_result"
    }
   ],
   "source": [
    "downbeat.shape"
   ]
  },
  {
   "cell_type": "code",
   "execution_count": 28,
   "metadata": {},
   "outputs": [
    {
     "name": "stdout",
     "output_type": "stream",
     "text": [
      "proceed chord decode...\n",
      "(1, 272, 128)\n",
      "augment chord into frame base...\n",
      "accompany_pianoroll shape: (1, 13056, 128)\n",
      "groundtruth_pianoroll shape: (1, 13056, 128)\n",
      "write pianoroll...\n",
      "Finished!\n"
     ]
    }
   ],
   "source": [
    "########## Random sampling ###########\n",
    "# Proceed chord decode\n",
    "print('proceed chord decode...')\n",
    "length = length1\n",
    "joint_prob = chord_pred.cpu().detach().numpy()\n",
    "\n",
    "# Append argmax index to get pianoroll array\n",
    "accompany_pianoroll = argmax2pianoroll(joint_prob)\n",
    "\n",
    "# augment chord into frame base\n",
    "BEAT_RESOLUTION = 24\n",
    "BEAT_PER_CHORD = 2\n",
    "\n",
    "accompany_pianoroll_frame, chord_groundtruth_frame = sequence2frame(accompany_pianoroll, chord_truth, BEAT_RESOLUTION=BEAT_RESOLUTION, BEAT_PER_CHORD=BEAT_PER_CHORD)\n",
    "\n",
    "# length into frame base\n",
    "length = length * BEAT_RESOLUTION * BEAT_PER_CHORD\n",
    "\n",
    "# write pianoroll\n",
    "result_dir = 'results/cvae_sample_result'\n",
    "write_pianoroll(result_dir, melody_truth, accompany_pianoroll_frame,chord_groundtruth_frame, length, tempo,downbeat)\n"
   ]
  },
  {
   "cell_type": "code",
   "execution_count": 16,
   "metadata": {},
   "outputs": [
    {
     "data": {
      "text/plain": [
       "34.0"
      ]
     },
     "execution_count": 16,
     "metadata": {},
     "output_type": "execute_result"
    }
   ],
   "source": []
  },
  {
   "cell_type": "code",
   "execution_count": 40,
   "metadata": {},
   "outputs": [],
   "source": [
    "x = torch.empty(0)"
   ]
  },
  {
   "cell_type": "code",
   "execution_count": 67,
   "metadata": {},
   "outputs": [
    {
     "name": "stdout",
     "output_type": "stream",
     "text": [
      "torch.Size([1, 272, 96])\n",
      "torch.Size([1])\n"
     ]
    }
   ],
   "source": [
    "print(chord_pred.shape)\n",
    "print(length1.shape)"
   ]
  },
  {
   "cell_type": "code",
   "execution_count": 68,
   "metadata": {},
   "outputs": [
    {
     "data": {
      "text/plain": [
       "tensor([33])"
      ]
     },
     "execution_count": 68,
     "metadata": {},
     "output_type": "execute_result"
    }
   ],
   "source": [
    "length1"
   ]
  },
  {
   "cell_type": "code",
   "execution_count": 81,
   "metadata": {},
   "outputs": [],
   "source": [
    "chord_pred_part = chord_pred[0][:val_length[0]].cpu().detach().numpy()\n",
    "melody_part = melody[0][:val_length[0]]"
   ]
  },
  {
   "cell_type": "code",
   "execution_count": 82,
   "metadata": {},
   "outputs": [
    {
     "name": "stdout",
     "output_type": "stream",
     "text": [
      "(17, 96)\n",
      "(17, 576)\n"
     ]
    }
   ],
   "source": [
    "print(chord_pred_part.shape) \n",
    "print(melody_part.shape)"
   ]
  },
  {
   "cell_type": "code",
   "execution_count": 79,
   "metadata": {},
   "outputs": [],
   "source": [
    "che, cc = CHE_and_CC(chord_pred_part, chord_num=96)\n",
    "ctd = CTD(chord_pred_part, chord_num=96)\n",
    "ctnctr = CTnCTR(melody_part, chord_pred_part, chord_num=96)\n",
    "pcs = PCS(melody_part, chord_pred_part, chord_num=96)\n",
    "mctd = MCTD(melody_part, chord_pred_part, chord_num=96)"
   ]
  },
  {
   "cell_type": "code",
   "execution_count": 80,
   "metadata": {},
   "outputs": [
    {
     "data": {
      "text/plain": [
       "0.7381615598885793"
      ]
     },
     "execution_count": 80,
     "metadata": {},
     "output_type": "execute_result"
    }
   ],
   "source": [
    "ctnctr"
   ]
  },
  {
   "cell_type": "code",
   "execution_count": 83,
   "metadata": {},
   "outputs": [],
   "source": [
    "weight_chord = np.load('./weight_chord.npy')"
   ]
  },
  {
   "cell_type": "code",
   "execution_count": 85,
   "metadata": {},
   "outputs": [
    {
     "data": {
      "text/plain": [
       "array([0.02845915, 0.03385304, 1.72714106, 1.00526172, 0.35642776,\n",
       "       0.35397114, 0.19579946, 0.40494889, 0.52310953, 1.63496219,\n",
       "       1.73572526, 1.43952153, 1.48734209, 0.92437248, 1.71022489,\n",
       "       1.43833576, 0.43730018, 0.18795905, 1.74613962, 0.57533431,\n",
       "       1.00352852, 1.65197693, 0.26484751, 0.68181945, 0.11128288,\n",
       "       1.04747427, 1.74613962, 1.62734354, 1.17348092, 0.69099312,\n",
       "       1.44309059, 1.05443214, 0.65669034, 0.24866699, 1.72203118,\n",
       "       1.27176957, 1.43243611, 1.67254753, 0.45963138, 0.87833985,\n",
       "       0.04619661, 0.13839578, 1.73056454, 1.28961567, 0.54841068,\n",
       "       0.30484281, 0.32264221, 0.42923786, 1.06536889, 1.63496219,\n",
       "       1.73572526, 0.94436972, 1.67254753, 1.44428422, 1.70023332,\n",
       "       1.65667895, 0.05119893, 0.20268597, 1.71695144, 1.34525394,\n",
       "       0.36446245, 1.5276812 , 0.34577022, 0.24873784, 0.06751758,\n",
       "       1.23402093, 1.72885111, 1.51574619, 1.09407244, 0.23422396,\n",
       "       1.50399622, 0.73060235, 0.8326846 , 0.0917042 , 1.73400161,\n",
       "       0.86059124, 1.12799717, 1.65825225, 0.30168273, 1.02714095,\n",
       "       0.07065958, 0.93727301, 1.73918288, 1.71864135, 0.77228643,\n",
       "       1.07454746, 1.13385689, 0.60904765, 1.10866007, 1.22881043,\n",
       "       1.74613962, 0.78975107, 1.63802966, 1.56044648, 1.35569846,\n",
       "       1.52235363])"
      ]
     },
     "execution_count": 85,
     "metadata": {},
     "output_type": "execute_result"
    }
   ],
   "source": [
    "weight_chord"
   ]
  },
  {
   "cell_type": "code",
   "execution_count": null,
   "metadata": {},
   "outputs": [],
   "source": []
  }
 ],
 "metadata": {
  "kernelspec": {
   "display_name": "Python 3",
   "language": "python",
   "name": "python3"
  },
  "language_info": {
   "codemirror_mode": {
    "name": "ipython",
    "version": 3
   },
   "file_extension": ".py",
   "mimetype": "text/x-python",
   "name": "python",
   "nbconvert_exporter": "python",
   "pygments_lexer": "ipython3",
   "version": "3.7.9"
  }
 },
 "nbformat": 4,
 "nbformat_minor": 4
}

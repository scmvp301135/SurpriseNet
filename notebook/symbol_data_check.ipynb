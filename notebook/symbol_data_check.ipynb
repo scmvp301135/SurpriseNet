{
 "cells": [
  {
   "cell_type": "code",
   "execution_count": 3,
   "metadata": {},
   "outputs": [],
   "source": [
    "import glob\n",
    "import os\n",
    "import numpy as np\n",
    "import pypianoroll as pr\n",
    "import pickle\n",
    "import json\n",
    "import math\n",
    "\n"
   ]
  },
  {
   "cell_type": "code",
   "execution_count": 2,
   "metadata": {},
   "outputs": [],
   "source": [
    "os.chdir('../..')"
   ]
  },
  {
   "cell_type": "code",
   "execution_count": 64,
   "metadata": {},
   "outputs": [
    {
     "data": {
      "text/plain": [
       "'/mnt/md1/user_victor'"
      ]
     },
     "execution_count": 64,
     "metadata": {},
     "output_type": "execute_result"
    }
   ],
   "source": [
    "pwd"
   ]
  },
  {
   "cell_type": "code",
   "execution_count": 143,
   "metadata": {},
   "outputs": [],
   "source": [
    "paths = []\n",
    "for root, dirs, files in os.walk(\"./lead-sheet-dataset/datasets/pianoroll\"):\n",
    "    for file in files:\n",
    "        if file.endswith(\".npz\"):\n",
    "            path_to_symbol = \"./lead-sheet-dataset/datasets/event/\" + os.path.join(root, file)[40:-4] + \"_symbol_nokey.json\"\n",
    "            ## Read .npz(midi) file \n",
    "            temp = pr.Multitrack(os.path.join(root, file))\n",
    "            if len(temp.tracks) == 2:\n",
    "#                 f = open(path_to_symbol)\n",
    "#                 event = json.load(f)\n",
    "\n",
    "#                 if event['metadata']['beats_in_measure'] == '4':\n",
    "                paths.append(os.path.join(root, file))\n",
    "                \n",
    "                "
   ]
  },
  {
   "cell_type": "code",
   "execution_count": 144,
   "metadata": {},
   "outputs": [
    {
     "data": {
      "text/plain": [
       "17430"
      ]
     },
     "execution_count": 144,
     "metadata": {},
     "output_type": "execute_result"
    }
   ],
   "source": [
    "len(paths)"
   ]
  },
  {
   "cell_type": "code",
   "execution_count": 270,
   "metadata": {},
   "outputs": [
    {
     "data": {
      "text/plain": [
       "'./lead-sheet-dataset/datasets/pianoroll/f/frode-fjellheim/vuelie/verse.npz'"
      ]
     },
     "execution_count": 270,
     "metadata": {},
     "output_type": "execute_result"
    }
   ],
   "source": [
    "paths[2050]"
   ]
  },
  {
   "cell_type": "code",
   "execution_count": null,
   "metadata": {},
   "outputs": [],
   "source": []
  },
  {
   "cell_type": "code",
   "execution_count": 140,
   "metadata": {},
   "outputs": [
    {
     "data": {
      "text/plain": [
       "'./lead-sheet-dataset/datasets/pianoroll/x/x-ambassadors/unsteady/bridge.npz'"
      ]
     },
     "execution_count": 140,
     "metadata": {},
     "output_type": "execute_result"
    }
   ],
   "source": [
    "os.path.join(root, paths[140])"
   ]
  },
  {
   "cell_type": "code",
   "execution_count": 271,
   "metadata": {},
   "outputs": [
    {
     "name": "stdout",
     "output_type": "stream",
     "text": [
      "melody pianoroll shape (1560, 128)\n",
      "chord pianorolll shape (32, 128)\n",
      "tempo shape (1560,)\n",
      "downbeat shape (1560,)\n"
     ]
    }
   ],
   "source": [
    "path_npz = \"./lead-sheet-dataset/datasets/pianoroll/j/jim-croce/bad-bad-leroy-brown/chorus.npz\"\n",
    "# path_midi_key = \"./lead-sheet-dataset/datasets/pianoroll/t/the-clash/london-calling/verse-and-pre-chorus_symbol_nokey.mid\"\n",
    "path_midi_nokey = \"./lead-sheet-dataset/datasets/pianoroll/j/jim-croce/bad-bad-leroy-brown/chorus_nokey.mid\"\n",
    "path_to_symbol = \"./lead-sheet-dataset/datasets/event/j/jim-croce/bad-bad-leroy-brown/chorus_symbol_nokey.json\"\n",
    "\n",
    "path_npz = \"./lead-sheet-dataset/datasets/pianoroll/j/jerry-goldsmith/star-trek-main-theme/bridge.npz\"\n",
    "path_midi_nokey = \"./lead-sheet-dataset/datasets/pianoroll/j/jerry-goldsmith/star-trek-main-theme/bridge_nokey.mid\"\n",
    "path_to_symbol = \"./lead-sheet-dataset/datasets/event/j/jerry-goldsmith/star-trek-main-theme/bridge_symbol_nokey.json\"\n",
    "\n",
    "path_npz = \"./lead-sheet-dataset/datasets/pianoroll/f/frode-fjellheim/vuelie/verse.npz\"\n",
    "path_midi_nokey = \"./lead-sheet-dataset/datasets/pianoroll/f/frode-fjellheim/vuelie/verse_nokey.mid\"\n",
    "path_to_symbol = \"./lead-sheet-dataset/datasets/event/f/frode-fjellheim/vuelie/verse_symbol_nokey.json\"\n",
    "\n",
    "\n",
    "# path_to_roman = \"./lead-sheet-dataset/datasets/event/\" + os.path.join(root, file)[40:-4] + \"_roman.json\"\n",
    "# print(path_to_symbol)\n",
    "# print(path_to_roman)\n",
    "beat_resolution = 24\n",
    "beat_per_chord = 2\n",
    "\n",
    "melody_data = []\n",
    "chord_groundtruth = []\n",
    "symbol_data = []\n",
    "length = []\n",
    "tempos = []\n",
    "downbeats = []\n",
    "roman_data = []\n",
    "sec_data = []\n",
    "borrowed_data = []\n",
    "mode_data = []\n",
    "max_melody_len = 0\n",
    "max_chord_len = 0\n",
    "max_event_off = 0\n",
    "error = 0\n",
    "\n",
    "npz = pr.Multitrack(path_npz)\n",
    "# midi_key = pr.Multitrack(path_midi_key)\n",
    "midi_nokey = pr.Multitrack(path_midi_nokey)\n",
    "\n",
    "if len(npz.tracks) == 2:\n",
    "    melody = npz.tracks[0]\n",
    "    # print(melody.pianoroll)\n",
    "    print('melody pianoroll shape',melody.pianoroll.shape)\n",
    "    if max_melody_len < melody.pianoroll.shape[0]:\n",
    "        max_melody_len = melody.pianoroll.shape[0]\n",
    "\n",
    "    chord = npz.tracks[1]\n",
    "    chord_list = []\n",
    "    for i in range(chord.pianoroll.shape[0]):\n",
    "        if i % ( beat_resolution * beat_per_chord + 1) == 0:\n",
    "            chord_list.append(chord.pianoroll[i])\n",
    "\n",
    "    chord_np = np.asarray(chord_list)\n",
    "    # print(chord_np)\n",
    "    print('chord pianorolll shape',chord_np.shape)\n",
    "    if max_chord_len < chord_np.shape[0]:\n",
    "        max_chord_len = chord_np.shape[0]\n",
    "\n",
    "    melody_data.append(melody.pianoroll)\n",
    "    chord_groundtruth.append(chord_np)\n",
    "    length.append(chord_np.shape[0])\n",
    "    print('tempo shape',npz.tempo.shape)\n",
    "    tempos.append(npz.tempo)\n",
    "    print('downbeat shape',npz.downbeat.shape)\n",
    "    downbeats.append(npz.downbeat)\n",
    "\n",
    "    "
   ]
  },
  {
   "cell_type": "code",
   "execution_count": 170,
   "metadata": {},
   "outputs": [
    {
     "data": {
      "text/plain": [
       "16.0"
      ]
     },
     "execution_count": 170,
     "metadata": {},
     "output_type": "execute_result"
    }
   ],
   "source": [
    "384 / 24 "
   ]
  },
  {
   "cell_type": "code",
   "execution_count": 273,
   "metadata": {},
   "outputs": [
    {
     "data": {
      "text/plain": [
       "(<Figure size 432x288 with 2 Axes>,\n",
       " array([<AxesSubplot:xlabel='time (beat)', ylabel='\\n\\npitch'>,\n",
       "        <AxesSubplot:xlabel='time (beat)', ylabel='\\n\\npitch'>],\n",
       "       dtype=object))"
      ]
     },
     "execution_count": 273,
     "metadata": {},
     "output_type": "execute_result"
    },
    {
     "data": {
      "image/png": "[encoded data removed]",
      "text/plain": [
       "<Figure size 432x288 with 2 Axes>"
      ]
     },
     "metadata": {
      "needs_background": "light"
     },
     "output_type": "display_data"
    }
   ],
   "source": [
    "midi_nokey.plot()"
   ]
  },
  {
   "cell_type": "code",
   "execution_count": null,
   "metadata": {},
   "outputs": [],
   "source": []
  },
  {
   "cell_type": "code",
   "execution_count": 171,
   "metadata": {},
   "outputs": [],
   "source": [
    "tempo = midi_nokey.tempo\n",
    "downbeat = midi_nokey.downbeat\n",
    "track1 = pr.Track(pianoroll=midi_nokey.tracks[0].pianoroll)\n",
    "track2 = pr.Track(pianoroll=midi_nokey.tracks[1].pianoroll)\n",
    "\n",
    "midi = pr.Multitrack(tracks=[track1, track2], tempo=tempo, downbeat=downbeat, beat_resolution=24)\n",
    "midi.downbeat[0::midi.beat_resolution*6] = True\n",
    "# pr.write(generate, result_dir + '/generate_' + str(counter) + '.mid')\n"
   ]
  },
  {
   "cell_type": "code",
   "execution_count": 172,
   "metadata": {},
   "outputs": [],
   "source": [
    "pr.write(midi, 'test.mid')"
   ]
  },
  {
   "cell_type": "code",
   "execution_count": 272,
   "metadata": {},
   "outputs": [
    {
     "ename": "NameError",
     "evalue": "name 'accompany_pianoroll' is not defined",
     "output_type": "error",
     "traceback": [
      "\u001b[0;31m---------------------------------------------------------------------------\u001b[0m",
      "\u001b[0;31mNameError\u001b[0m                                 Traceback (most recent call last)",
      "\u001b[0;32m<ipython-input-272-f9ad5f42f58d>\u001b[0m in \u001b[0;36m<module>\u001b[0;34m\u001b[0m\n\u001b[1;32m      1\u001b[0m \u001b[0maccompany_pianoroll_frame\u001b[0m \u001b[0;34m=\u001b[0m \u001b[0;34m[\u001b[0m\u001b[0;34m]\u001b[0m\u001b[0;34m\u001b[0m\u001b[0;34m\u001b[0m\u001b[0m\n\u001b[1;32m      2\u001b[0m \u001b[0mchord_groundtruth_frame\u001b[0m \u001b[0;34m=\u001b[0m \u001b[0;34m[\u001b[0m\u001b[0;34m]\u001b[0m\u001b[0;34m\u001b[0m\u001b[0;34m\u001b[0m\u001b[0m\n\u001b[0;32m----> 3\u001b[0;31m \u001b[0;32mfor\u001b[0m \u001b[0macc_song\u001b[0m\u001b[0;34m,\u001b[0m \u001b[0mtruth_song\u001b[0m \u001b[0;32min\u001b[0m \u001b[0mzip\u001b[0m\u001b[0;34m(\u001b[0m\u001b[0maccompany_pianoroll\u001b[0m\u001b[0;34m,\u001b[0m \u001b[0mchord_groundtruth\u001b[0m\u001b[0;34m)\u001b[0m\u001b[0;34m:\u001b[0m\u001b[0;34m\u001b[0m\u001b[0;34m\u001b[0m\u001b[0m\n\u001b[0m\u001b[1;32m      4\u001b[0m     \u001b[0macc_pianoroll\u001b[0m \u001b[0;34m=\u001b[0m \u001b[0;34m[\u001b[0m\u001b[0;34m]\u001b[0m\u001b[0;34m\u001b[0m\u001b[0;34m\u001b[0m\u001b[0m\n\u001b[1;32m      5\u001b[0m     \u001b[0mtruth_pianoroll\u001b[0m \u001b[0;34m=\u001b[0m \u001b[0;34m[\u001b[0m\u001b[0;34m]\u001b[0m\u001b[0;34m\u001b[0m\u001b[0;34m\u001b[0m\u001b[0m\n",
      "\u001b[0;31mNameError\u001b[0m: name 'accompany_pianoroll' is not defined"
     ]
    }
   ],
   "source": [
    "accompany_pianoroll_frame = []\n",
    "chord_groundtruth_frame = []\n",
    "for acc_song, truth_song in zip(accompany_pianoroll, chord_groundtruth):\n",
    "    acc_pianoroll = []\n",
    "    truth_pianoroll = []\n",
    "    for acc_beat, truth_beat in zip(acc_song, truth_song):\n",
    "        for i in range(Constants.BEAT_RESOLUTION * Constants.BEAT_PER_CHORD):\n",
    "            acc_pianoroll.append(acc_beat)\n",
    "            truth_pianoroll.append(truth_beat)\n",
    "    accompany_pianoroll_frame.append(acc_pianoroll)\n",
    "    chord_groundtruth_frame.append(truth_pianoroll)\n",
    "\n",
    "accompany_pianoroll_frame = np.asarray(accompany_pianoroll_frame).astype(int)\n",
    "chord_groundtruth_frame = np.asarray(chord_groundtruth_frame)"
   ]
  },
  {
   "cell_type": "code",
   "execution_count": 55,
   "metadata": {},
   "outputs": [
    {
     "data": {
      "text/plain": [
       "array([[0, 0, 0, ..., 0, 0, 0],\n",
       "       [0, 0, 0, ..., 0, 0, 0],\n",
       "       [0, 0, 0, ..., 0, 0, 0],\n",
       "       ...,\n",
       "       [0, 0, 0, ..., 0, 0, 0],\n",
       "       [0, 0, 0, ..., 0, 0, 0],\n",
       "       [0, 0, 0, ..., 0, 0, 0]], dtype=uint8)"
      ]
     },
     "execution_count": 55,
     "metadata": {},
     "output_type": "execute_result"
    }
   ],
   "source": [
    "midi.tracks[0].pianoroll."
   ]
  },
  {
   "cell_type": "code",
   "execution_count": 338,
   "metadata": {},
   "outputs": [],
   "source": [
    "f = open(path_to_symbol)\n",
    "event = json.load(f)\n",
    "event_on = []\n",
    "event_off = []\n",
    "symbol = []\n",
    "\n",
    "warping_factor = int(event['metadata']['BPM']) // int(npz.tempo[0])\n",
    "\n",
    "pos = 0\n",
    "event_head = []\n",
    "\n",
    "for chord in event['tracks']['chord']:\n",
    "    if chord != None:\n",
    "#         pos = pos + (chord['event_duration'] / warping_factor)\n",
    "        pos = chord['event_on'] / warping_factor\n",
    "#         event_head.append(pos)\n",
    "        event_on.append(pos)\n",
    "        event_off.append(chord['event_off'] / warping_factor)\n",
    "        symbol.append(chord['symbol'])\n",
    "#     else: \n",
    "#         event_head.append(-1)\n",
    "#         symbol.append('')\n",
    "\n",
    "# event_head = event_head[:-1]\n",
    "symbol_list = []\n",
    "q_index = [2 * i for i in range(len(chord_list))]  \n",
    "\n",
    "for i in range(len(q_index)):\n",
    "    if q_index[i] in event_on:\n",
    "#         print(event_head.index(q_index[i]))\n",
    "        symbol_list.append(symbol[event_on.index(q_index[i])])\n",
    "    \n",
    "    else:\n",
    "        \n",
    "#         for i in range(len(symbol)):\n",
    "#             for j in range(event_on[i], event_off[i]):\n",
    "#                 symbol_list[j] = symbol[i]\n",
    "                \n",
    "        if i == q_index[-1]:\n",
    "            symbol_list.append(symbol[-1])\n",
    "        \n",
    "        else:\n",
    "#         if -1 in [n for n in event_head if n <= q_index[i] and n > q_index[i-1]]:\n",
    "#             symbol_list.append('')\n",
    "        \n",
    "#         else0\n",
    "            count = 0\n",
    "            for k in range(len(symbol)):\n",
    "                if q_index[i] > event_on[k] and q_index[i] < event_off[k]:\n",
    "\n",
    "\n",
    "    #         lower = max(n for n in event_on if n <= q_index[i] and n != -1)\n",
    "    #         upper = min(n for n in event_on if n <= q_index[i] and n != -1)\n",
    "    #         neighbor_i = event_head.index(closest)\n",
    "    #             print(neighbor_i)\n",
    "                    symbol_list.append(symbol[k])\n",
    "                    count += 1\n",
    "                    break\n",
    "\n",
    "            if count == 0:\n",
    "                symbol_list.append('')\n",
    "\n",
    "\n",
    "# symbol_data.append(symbol_list)\n",
    "\n"
   ]
  },
  {
   "cell_type": "code",
   "execution_count": 324,
   "metadata": {},
   "outputs": [
    {
     "name": "stdout",
     "output_type": "stream",
     "text": [
      "['G sus4', 'G7 | F sus4', 'C | E (add9)', 'G7 | F sus4', 'G sus4', 'G7 | F sus4', 'G sus4', 'G sus4', 'G sus4', 'G sus4', 'G sus4', 'C | G (add9)', 'G7 | F sus4', 'C | E (add9)', 'Cmaj7 | F sus4', 'Cmaj7 | G', 'G7 | F sus4', 'G sus4', 'G sus4', 'C | G', 'C | G sus4', 'G7 | F sus4', 'G sus4', 'Fmaj7', 'G7 sus4', 'G sus4', 'G7 | F sus4', 'C | E', 'F sus4', 'Cmaj7 | G sus4', 'F sus4', 'G7 | F sus4', 'dm7 | G sus4', 'C | G', 'am', 'G | B', 'C', 'Fmaj7', 'D7', 'G sus4']\n"
     ]
    }
   ],
   "source": [
    "print(symbol)"
   ]
  },
  {
   "cell_type": "code",
   "execution_count": 325,
   "metadata": {},
   "outputs": [
    {
     "name": "stdout",
     "output_type": "stream",
     "text": [
      "[1.5, 2.5, 3.0, 3.5, 4.0, 5.0, 13.5, 19.5, 21.0, 21.5, 23.0, 23.5, 24.5, 25.0, 25.5, 26.0, 27.0, 32.0, 32.5, 35.0, 37.0, 37.5, 38.0, 39.0, 43.0, 45.5, 46.5, 47.0, 47.5, 48.0, 49.0, 50.0, 52.0, 54.0, 56.0, 57.0, 58.0, 60.0, 62.0, 64.0]\n"
     ]
    }
   ],
   "source": [
    "print(event_off)"
   ]
  },
  {
   "cell_type": "code",
   "execution_count": 314,
   "metadata": {},
   "outputs": [
    {
     "name": "stdout",
     "output_type": "stream",
     "text": [
      "[0.0, 1.5, 2.5, 3.0, 3.5, 4.0, 5.0, 18.0, 19.5, 21.0, 22.0, 23.0, 23.5, 24.5, 25.0, 25.5, 26.0, 27.0, 32.0, 34.0, 35.0, 37.0, 37.5, 38.0, 39.0, 44.0, 45.5, 46.5, 47.0, 47.5, 48.0, 49.0, 50.0, 52.0, 55.0, 56.0, 57.0, 58.0, 60.0, 62.0]\n"
     ]
    }
   ],
   "source": [
    "print(event_on)"
   ]
  },
  {
   "cell_type": "code",
   "execution_count": 339,
   "metadata": {},
   "outputs": [
    {
     "data": {
      "text/plain": [
       "['G sus4',\n",
       " 'G7 | F sus4',\n",
       " 'G7 | F sus4',\n",
       " 'G sus4',\n",
       " 'G sus4',\n",
       " 'G sus4',\n",
       " 'G sus4',\n",
       " '',\n",
       " '',\n",
       " 'G sus4',\n",
       " 'G sus4',\n",
       " 'G sus4',\n",
       " 'G7 | F sus4',\n",
       " 'G7 | F sus4',\n",
       " 'G sus4',\n",
       " 'G sus4',\n",
       " 'G sus4',\n",
       " 'C | G',\n",
       " 'C | G sus4',\n",
       " 'Fmaj7',\n",
       " 'G7 sus4',\n",
       " 'G7 sus4',\n",
       " 'G sus4',\n",
       " 'G7 | F sus4',\n",
       " 'F sus4',\n",
       " 'dm7 | G sus4',\n",
       " 'C | G',\n",
       " '',\n",
       " 'G | B',\n",
       " 'Fmaj7',\n",
       " 'D7',\n",
       " 'G sus4']"
      ]
     },
     "execution_count": 339,
     "metadata": {},
     "output_type": "execute_result"
    }
   ],
   "source": [
    "symbol_list"
   ]
  },
  {
   "cell_type": "code",
   "execution_count": 337,
   "metadata": {},
   "outputs": [
    {
     "data": {
      "text/plain": [
       "['G sus4',\n",
       " 'G7 | F sus4',\n",
       " 'C | E (add9)',\n",
       " 'G7 | F sus4',\n",
       " 'G sus4',\n",
       " 'G7 | F sus4',\n",
       " 'G sus4',\n",
       " 'G sus4',\n",
       " 'G sus4',\n",
       " 'G sus4',\n",
       " 'G sus4',\n",
       " 'C | G (add9)',\n",
       " 'G7 | F sus4',\n",
       " 'C | E (add9)',\n",
       " 'Cmaj7 | F sus4',\n",
       " 'Cmaj7 | G',\n",
       " 'G7 | F sus4',\n",
       " 'G sus4',\n",
       " 'G sus4',\n",
       " 'C | G',\n",
       " 'C | G sus4',\n",
       " 'G7 | F sus4',\n",
       " 'G sus4',\n",
       " 'Fmaj7',\n",
       " 'G7 sus4',\n",
       " 'G sus4',\n",
       " 'G7 | F sus4',\n",
       " 'C | E',\n",
       " 'F sus4',\n",
       " 'Cmaj7 | G sus4',\n",
       " 'F sus4',\n",
       " 'G7 | F sus4',\n",
       " 'dm7 | G sus4',\n",
       " 'C | G',\n",
       " 'am',\n",
       " 'G | B',\n",
       " 'C',\n",
       " 'Fmaj7',\n",
       " 'D7',\n",
       " 'G sus4']"
      ]
     },
     "execution_count": 337,
     "metadata": {},
     "output_type": "execute_result"
    }
   ],
   "source": [
    "symbol"
   ]
  },
  {
   "cell_type": "code",
   "execution_count": null,
   "metadata": {},
   "outputs": [],
   "source": []
  },
  {
   "cell_type": "code",
   "execution_count": 196,
   "metadata": {},
   "outputs": [
    {
     "data": {
      "text/plain": [
       "[0, 2, 4, 6, 8, 10, 12, 14]"
      ]
     },
     "execution_count": 196,
     "metadata": {},
     "output_type": "execute_result"
    }
   ],
   "source": [
    "[2*i for i in range(len(chord_list))]  "
   ]
  },
  {
   "cell_type": "code",
   "execution_count": 202,
   "metadata": {},
   "outputs": [
    {
     "ename": "ValueError",
     "evalue": "1.5 is not in list",
     "output_type": "error",
     "traceback": [
      "\u001b[0;31m---------------------------------------------------------------------------\u001b[0m",
      "\u001b[0;31mValueError\u001b[0m                                Traceback (most recent call last)",
      "\u001b[0;32m<ipython-input-202-73f168407afd>\u001b[0m in \u001b[0;36m<module>\u001b[0;34m\u001b[0m\n\u001b[0;32m----> 1\u001b[0;31m \u001b[0mevent_head\u001b[0m\u001b[0;34m.\u001b[0m\u001b[0mindex\u001b[0m\u001b[0;34m(\u001b[0m\u001b[0;36m1.5\u001b[0m\u001b[0;34m)\u001b[0m\u001b[0;34m\u001b[0m\u001b[0;34m\u001b[0m\u001b[0m\n\u001b[0m",
      "\u001b[0;31mValueError\u001b[0m: 1.5 is not in list"
     ]
    }
   ],
   "source": [
    "event_head.index(1.5)"
   ]
  },
  {
   "cell_type": "code",
   "execution_count": 153,
   "metadata": {},
   "outputs": [
    {
     "name": "stdout",
     "output_type": "stream",
     "text": [
      "symbol length 8\n"
     ]
    },
    {
     "data": {
      "text/plain": [
       "['E', 'E', 'dbm', 'Amaj7 | E sus4', 'F', 'G7 | F', 'G | D', 'G sus42']"
      ]
     },
     "execution_count": 153,
     "metadata": {},
     "output_type": "execute_result"
    }
   ],
   "source": [
    "print('symbol length',len(symbol_list))\n",
    "symbol_list"
   ]
  },
  {
   "cell_type": "code",
   "execution_count": 168,
   "metadata": {},
   "outputs": [
    {
     "data": {
      "text/plain": [
       "array([  0,   0,   0,   0,   0,   0,   0,   0,   0,   0,   0,   0,   0,\n",
       "         0,   0,   0,   0,   0,   0,   0,   0,   0,   0,   0,   0,   0,\n",
       "         0,   0,   0,   0,   0,   0,   0,   0,   0,   0,   0,   0,   0,\n",
       "         0,   0,   0,   0,   0,   0,   0,   0,   0,   0,   0,   0,   0,\n",
       "         0, 100,   0,   0,   0, 100,   0,   0, 100,   0,   0,   0,   0,\n",
       "         0,   0,   0,   0,   0,   0,   0,   0,   0,   0,   0,   0,   0,\n",
       "         0,   0,   0,   0,   0,   0,   0,   0,   0,   0,   0,   0,   0,\n",
       "         0,   0,   0,   0,   0,   0,   0,   0,   0,   0,   0,   0,   0,\n",
       "         0,   0,   0,   0,   0,   0,   0,   0,   0,   0,   0,   0,   0,\n",
       "         0,   0,   0,   0,   0,   0,   0,   0,   0,   0,   0], dtype=uint8)"
      ]
     },
     "execution_count": 168,
     "metadata": {},
     "output_type": "execute_result"
    }
   ],
   "source": [
    "chord_list[4]"
   ]
  },
  {
   "cell_type": "code",
   "execution_count": 19,
   "metadata": {},
   "outputs": [
    {
     "data": {
      "text/plain": [
       "768"
      ]
     },
     "execution_count": 19,
     "metadata": {},
     "output_type": "execute_result"
    }
   ],
   "source": [
    "24 * 4 * 8"
   ]
  },
  {
   "cell_type": "code",
   "execution_count": null,
   "metadata": {},
   "outputs": [],
   "source": []
  }
 ],
 "metadata": {
  "kernelspec": {
   "display_name": "Python 3",
   "language": "python",
   "name": "python3"
  },
  "language_info": {
   "codemirror_mode": {
    "name": "ipython",
    "version": 3
   },
   "file_extension": ".py",
   "mimetype": "text/x-python",
   "name": "python",
   "nbconvert_exporter": "python",
   "pygments_lexer": "ipython3",
   "version": "3.7.9"
  }
 },
 "nbformat": 4,
 "nbformat_minor": 4
}

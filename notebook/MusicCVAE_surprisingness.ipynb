{
 "cells": [
  {
   "cell_type": "code",
   "execution_count": 1,
   "metadata": {},
   "outputs": [],
   "source": [
    "import os\n",
    "os.chdir('..')"
   ]
  },
  {
   "cell_type": "code",
   "execution_count": 4,
   "metadata": {},
   "outputs": [
    {
     "data": {
      "text/plain": [
       "'/mnt/md1/user_victor/automatic_melody_harmonization/notebook'"
      ]
     },
     "execution_count": 4,
     "metadata": {},
     "output_type": "execute_result"
    }
   ],
   "source": [
    "pwd"
   ]
  },
  {
   "cell_type": "code",
   "execution_count": 3,
   "metadata": {},
   "outputs": [
    {
     "ename": "ModuleNotFoundError",
     "evalue": "No module named 'tonal'",
     "output_type": "error",
     "traceback": [
      "\u001b[0;31m---------------------------------------------------------------------------\u001b[0m",
      "\u001b[0;31mModuleNotFoundError\u001b[0m                       Traceback (most recent call last)",
      "\u001b[0;32m<ipython-input-3-975b4274484a>\u001b[0m in \u001b[0;36m<module>\u001b[0;34m\u001b[0m\n\u001b[0;32m----> 1\u001b[0;31m \u001b[0;32mfrom\u001b[0m \u001b[0mtonal\u001b[0m \u001b[0;32mimport\u001b[0m \u001b[0mpianoroll2number\u001b[0m\u001b[0;34m,\u001b[0m \u001b[0mjoint_prob2pianoroll96\u001b[0m\u001b[0;34m\u001b[0m\u001b[0;34m\u001b[0m\u001b[0m\n\u001b[0m\u001b[1;32m      2\u001b[0m \u001b[0;32mfrom\u001b[0m \u001b[0mtonal\u001b[0m \u001b[0;32mimport\u001b[0m \u001b[0mtonal_centroid\u001b[0m\u001b[0;34m,\u001b[0m \u001b[0mchord482note\u001b[0m\u001b[0;34m,\u001b[0m \u001b[0mchord962note\u001b[0m\u001b[0;34m,\u001b[0m \u001b[0mnote2number\u001b[0m\u001b[0;34m\u001b[0m\u001b[0;34m\u001b[0m\u001b[0m\n\u001b[1;32m      3\u001b[0m \u001b[0;32mimport\u001b[0m \u001b[0mnumpy\u001b[0m \u001b[0;32mas\u001b[0m \u001b[0mnp\u001b[0m\u001b[0;34m\u001b[0m\u001b[0;34m\u001b[0m\u001b[0m\n\u001b[1;32m      4\u001b[0m \u001b[0;32mimport\u001b[0m \u001b[0mtorch\u001b[0m\u001b[0;34m\u001b[0m\u001b[0;34m\u001b[0m\u001b[0m\n\u001b[1;32m      5\u001b[0m \u001b[0;32mfrom\u001b[0m \u001b[0mtorch\u001b[0m\u001b[0;34m.\u001b[0m\u001b[0mutils\u001b[0m\u001b[0;34m.\u001b[0m\u001b[0mdata\u001b[0m \u001b[0;32mimport\u001b[0m \u001b[0mDataLoader\u001b[0m\u001b[0;34m,\u001b[0m \u001b[0mDataset\u001b[0m\u001b[0;34m\u001b[0m\u001b[0;34m\u001b[0m\u001b[0m\n",
      "\u001b[0;31mModuleNotFoundError\u001b[0m: No module named 'tonal'"
     ]
    }
   ],
   "source": [
    "from tonal import pianoroll2number, joint_prob2pianoroll96\n",
    "from tonal import tonal_centroid, chord482note, chord962note, note2number\n",
    "import numpy as np\n",
    "import torch\n",
    "from torch.utils.data import DataLoader, Dataset\n",
    "import torch.nn as nn\n",
    "import torch.nn.functional as F\n",
    "import torch.optim as optim\n",
    "from torch.nn.utils.rnn import pack_padded_sequence, pad_packed_sequence\n",
    "import pickle\n",
    "from model.MusicCVAE import MusicCVAE\n",
    "from decode import *\n",
    "import matplotlib.pyplot as plt"
   ]
  },
  {
   "cell_type": "code",
   "execution_count": 10,
   "metadata": {},
   "outputs": [],
   "source": [
    "melody_framewise = np.load('./data/melody_data.npy')\n",
    "chord_groundtruth_idx = np.load('./data/chord_groundtruth.npy')\n",
    "\n",
    "melody = np.load('./data/melody_baseline.npy')\n",
    "chord = np.load('./data/number_96.npy')\n",
    "chord_onehot = np.load('./data/onehot_96.npy')\n",
    "length = np.load('./data/length.npy')\n",
    "\n",
    "f = open('./data/tempos', 'rb')\n",
    "tempos = pickle.load(f)\n",
    "f.close()\n",
    "f = open('./data/downbeats', 'rb')\n",
    "downbeats = pickle.load(f)\n",
    "f.close()"
   ]
  },
  {
   "cell_type": "code",
   "execution_count": 11,
   "metadata": {},
   "outputs": [
    {
     "name": "stdout",
     "output_type": "stream",
     "text": [
      "splitting testing set...\n"
     ]
    }
   ],
   "source": [
    "val_size = 500\n",
    "print('splitting testing set...')\n",
    "val_melody_framewise = melody_framewise[:val_size]\n",
    "val_chord_groundtruth_idx = chord_groundtruth_idx[:val_size]\n",
    "\n",
    "val_chord = torch.from_numpy(chord_onehot[:val_size]).float()\n",
    "val_melody = torch.from_numpy(melody[:val_size]).float()\n",
    "val_length = torch.from_numpy(length[:val_size])\n",
    "\n"
   ]
  },
  {
   "cell_type": "code",
   "execution_count": 2,
   "metadata": {},
   "outputs": [
    {
     "name": "stdout",
     "output_type": "stream",
     "text": [
      "building model...\n"
     ]
    },
    {
     "ename": "NameError",
     "evalue": "name 'MusicCVAE' is not defined",
     "output_type": "error",
     "traceback": [
      "\u001b[0;31m---------------------------------------------------------------------------\u001b[0m",
      "\u001b[0;31mNameError\u001b[0m                                 Traceback (most recent call last)",
      "\u001b[0;32m<ipython-input-2-a7031390f7cd>\u001b[0m in \u001b[0;36m<module>\u001b[0;34m\u001b[0m\n\u001b[1;32m      2\u001b[0m \u001b[0mdevice\u001b[0m \u001b[0;34m=\u001b[0m \u001b[0;34m'cpu'\u001b[0m\u001b[0;34m\u001b[0m\u001b[0;34m\u001b[0m\u001b[0m\n\u001b[1;32m      3\u001b[0m \u001b[0mprint\u001b[0m\u001b[0;34m(\u001b[0m\u001b[0;34m'building model...'\u001b[0m\u001b[0;34m)\u001b[0m\u001b[0;34m\u001b[0m\u001b[0;34m\u001b[0m\u001b[0m\n\u001b[0;32m----> 4\u001b[0;31m \u001b[0mmodel\u001b[0m \u001b[0;34m=\u001b[0m \u001b[0mMusicCVAE\u001b[0m\u001b[0;34m(\u001b[0m\u001b[0mteacher_forcing\u001b[0m \u001b[0;34m=\u001b[0m \u001b[0;32mFalse\u001b[0m\u001b[0;34m,\u001b[0m \u001b[0meps_i\u001b[0m\u001b[0;34m=\u001b[0m\u001b[0;36m0\u001b[0m\u001b[0;34m,\u001b[0m \u001b[0mdevice\u001b[0m \u001b[0;34m=\u001b[0m \u001b[0mdevice\u001b[0m\u001b[0;34m)\u001b[0m\u001b[0;34m.\u001b[0m\u001b[0mto\u001b[0m\u001b[0;34m(\u001b[0m\u001b[0mdevice\u001b[0m\u001b[0;34m)\u001b[0m\u001b[0;34m\u001b[0m\u001b[0;34m\u001b[0m\u001b[0m\n\u001b[0m\u001b[1;32m      5\u001b[0m \u001b[0mmodel\u001b[0m\u001b[0;34m.\u001b[0m\u001b[0mload_state_dict\u001b[0m\u001b[0;34m(\u001b[0m\u001b[0mtorch\u001b[0m\u001b[0;34m.\u001b[0m\u001b[0mload\u001b[0m\u001b[0;34m(\u001b[0m\u001b[0;34m'output_models/model_music_cvae.pth'\u001b[0m\u001b[0;34m,\u001b[0m\u001b[0mmap_location\u001b[0m\u001b[0;34m=\u001b[0m\u001b[0;34m'cpu'\u001b[0m\u001b[0;34m)\u001b[0m\u001b[0;34m)\u001b[0m\u001b[0;34m\u001b[0m\u001b[0;34m\u001b[0m\u001b[0m\n\u001b[1;32m      6\u001b[0m \u001b[0;31m# print(model)\u001b[0m\u001b[0;34m\u001b[0m\u001b[0;34m\u001b[0m\u001b[0;34m\u001b[0m\u001b[0m\n",
      "\u001b[0;31mNameError\u001b[0m: name 'MusicCVAE' is not defined"
     ]
    }
   ],
   "source": [
    "# Load model\n",
    "device = 'cpu'\n",
    "print('building model...')\n",
    "model = MusicCVAE(teacher_forcing = False, eps_i=0, device = device).to(device)\n",
    "model.load_state_dict(torch.load('output_models/model_music_cvae.pth',map_location='cpu'))\n",
    "# print(model)\n",
    "model.eval()\n",
    "# val_length, val_melody = val_length.to(device), val_melody.to(device)"
   ]
  },
  {
   "cell_type": "code",
   "execution_count": 17,
   "metadata": {},
   "outputs": [
    {
     "name": "stdout",
     "output_type": "stream",
     "text": [
      "tensor([[7.8061e-01, 8.2400e-02, 2.7196e-07,  ..., 1.6833e-05, 1.1789e-05,\n",
      "         1.2932e-04],\n",
      "        [3.8444e-01, 3.0605e-01, 1.1131e-06,  ..., 7.1804e-05, 2.6794e-05,\n",
      "         9.4035e-04],\n",
      "        [1.5823e-02, 6.1488e-01, 2.5380e-04,  ..., 3.2379e-05, 1.6504e-07,\n",
      "         5.3221e-06],\n",
      "        ...,\n",
      "        [1.7560e-01, 1.5253e-01, 1.2453e-04,  ..., 3.6389e-04, 6.6480e-05,\n",
      "         7.2749e-05],\n",
      "        [3.0434e-01, 1.4277e-01, 1.7128e-04,  ..., 1.7303e-04, 1.4144e-05,\n",
      "         3.7537e-05],\n",
      "        [1.8439e-01, 1.6375e-01, 1.9197e-04,  ..., 3.2182e-04, 5.1014e-05,\n",
      "         1.9522e-04]], grad_fn=<SelectBackward>)\n",
      "tensor([ 0,  0,  1,  1,  1,  1,  1,  1, 64, 64, 80, 80, 80, 80, 24, 24, 41,  3,\n",
      "         1,  1])\n",
      "tensor([[[6.3299e-01, 1.0944e-01, 4.9832e-06,  ..., 2.5885e-05,\n",
      "          9.5352e-06, 9.5390e-05],\n",
      "         [3.7281e-01, 3.1074e-01, 1.8170e-06,  ..., 6.6280e-05,\n",
      "          2.0818e-05, 6.1877e-04],\n",
      "         [2.3459e-02, 6.3046e-01, 1.7700e-05,  ..., 3.5878e-05,\n",
      "          4.8738e-07, 2.4569e-06],\n",
      "         ...,\n",
      "         [1.2172e-01, 1.9735e-01, 6.1848e-05,  ..., 1.5512e-04,\n",
      "          5.3029e-05, 7.3146e-05],\n",
      "         [3.1447e-01, 1.9355e-01, 2.0382e-05,  ..., 1.1869e-04,\n",
      "          2.6048e-05, 2.1637e-05],\n",
      "         [1.2879e-01, 2.0180e-01, 2.8397e-05,  ..., 1.8022e-04,\n",
      "          7.5022e-05, 1.9151e-04]]], grad_fn=<SoftmaxBackward>)\n",
      "tensor([ 0,  0,  1,  1,  1,  1,  1,  1, 64, 64, 56, 80, 80, 80, 24, 24, 41,  3,\n",
      "         1,  1])\n"
     ]
    }
   ],
   "source": [
    "####\n",
    "bs = 500\n",
    "index = 8\n",
    "torch.manual_seed(0)\n",
    "input_melody_seqs = val_melody\n",
    "length = val_length\n",
    "\n",
    "model.batch_size = bs\n",
    "model.eps_i = 0\n",
    "z = torch.randn(bs,256).to(device)\n",
    "melody_token = model.melody_embedding(input_melody_seqs,length)\n",
    "# print('mt',melody_token.shape)\n",
    "# melody_token =  torch.randn((bs,512))\n",
    "_, samples = model.decode(z, melody_token, None, input_melody_seqs)\n",
    "print(samples[index])\n",
    "logits = torch.max(samples[index][:20],-1)\n",
    "gen_chord_index = logits.indices\n",
    "print(gen_chord_index)\n",
    "\n",
    "####\n",
    "bs2 = 1\n",
    "\n",
    "model.batch_size = bs2\n",
    "input_melody_seqs_ = input_melody_seqs[index].unsqueeze(0)\n",
    "length_ = length[index].unsqueeze(0)\n",
    "\n",
    "z_ = z[index].unsqueeze(0)\n",
    "melody_token_ = model.melody_embedding(input_melody_seqs_,length_)\n",
    "# melody_token_ = melody_token[index].unsqueeze(0)\n",
    "_, sample = model.decode(z_, melody_token_, None, input_melody_seqs_)\n",
    "print(sample)\n",
    "logits = torch.max(sample[0][:20],-1)\n",
    "gen_chord_index = logits.indices\n",
    "print(gen_chord_index)"
   ]
  },
  {
   "cell_type": "code",
   "execution_count": null,
   "metadata": {},
   "outputs": [],
   "source": []
  },
  {
   "cell_type": "code",
   "execution_count": 41,
   "metadata": {},
   "outputs": [
    {
     "name": "stdout",
     "output_type": "stream",
     "text": [
      "tensor([45])\n",
      "melody_token shape torch.Size([1, 2048])\n",
      "chord pred shape torch.Size([272, 96])\n",
      "max logits torch.return_types.max(\n",
      "values=tensor([0.6693, 0.4054, 0.5454, 0.4418, 0.6465, 0.5897, 0.6137, 0.5543, 0.4828,\n",
      "        0.4988, 0.2487, 0.1944, 0.2405, 0.3051, 0.5003, 0.5920, 0.6189, 0.2741,\n",
      "        0.5901, 0.5341, 0.4599, 0.3289, 0.8804, 0.6911, 0.5834, 0.5803, 0.5518,\n",
      "        0.5102, 0.4037, 0.4790, 0.2629, 0.2515, 0.6533, 0.5627, 0.6228, 0.5999,\n",
      "        0.6073, 0.4902, 0.4047, 0.3381, 0.5386, 0.5615, 0.3913, 0.3364, 0.4714],\n",
      "       grad_fn=<MaxBackward0>),\n",
      "indices=tensor([ 0,  1,  1,  1,  1,  1,  1,  1, 64, 64, 80, 80, 80, 80, 24, 24, 41,  3,\n",
      "         1,  1, 56, 56,  1,  1,  1,  1,  1,  1, 64, 64, 80, 56,  1,  1, 41, 41,\n",
      "         1,  1,  0,  1,  1,  1,  1,  1,  0]))\n"
     ]
    },
    {
     "data": {
      "text/plain": [
       "[<matplotlib.lines.Line2D at 0x7ff0f71bc4d0>]"
      ]
     },
     "execution_count": 41,
     "metadata": {},
     "output_type": "execute_result"
    },
    {
     "data": {
      "image/png": "[encoded data removed]",
      "text/plain": [
       "<Figure size 432x288 with 1 Axes>"
      ]
     },
     "metadata": {
      "needs_background": "light"
     },
     "output_type": "display_data"
    }
   ],
   "source": [
    "# Sampconductorne song\n",
    "# torch.manual_seed(0)\n",
    "i = 8\n",
    "sample_melody = val_melody[i].unsqueeze(0)\n",
    "sample_length = val_length[i].unsqueeze(0)\n",
    "sample_chord = val_chord[i]\n",
    "sample_melody_framewise = np.expand_dims(val_melody_framewise[i],axis=0)\n",
    "sample_chord_groundtruth_idx = np.expand_dims(val_chord_groundtruth_idx[i],axis=0)\n",
    "sample_tempo = [tempos[i]]\n",
    "sample_downbeat = [downbeats[i]]\n",
    "\n",
    "print(sample_length)\n",
    "\n",
    "# bs = 1\n",
    "# model.batch_size = bs\n",
    "# torch.manual_seed(0)\n",
    "latent_size = 256\n",
    "z = z_\n",
    "\n",
    "# for k in range(10):\n",
    "melody_token = model.melody_embedding(sample_melody,sample_length)\n",
    "print('melody_token shape',melody_token.shape)\n",
    "\n",
    "output_seq, chord_pred = model.decode(z, melody_token, None, sample_melody)\n",
    "print('chord pred shape',chord_pred[0].shape)\n",
    "\n",
    "logits = torch.max(chord_pred[0][:sample_length[0]],-1)\n",
    "gen_chord_index = logits.indices\n",
    "print('max logits',logits)\n",
    "# print('max index',gen_chord_index)\n",
    "\n",
    "\n",
    "surprisingness = -np.log(torch.max(chord_pred[:,:sample_length],2).values.squeeze().detach().numpy())\n",
    "\n",
    "fig, ax = plt.subplots()\n",
    "ax.plot(surprisingness)\n"
   ]
  },
  {
   "cell_type": "code",
   "execution_count": 69,
   "metadata": {},
   "outputs": [
    {
     "data": {
      "text/plain": [
       "40"
      ]
     },
     "execution_count": 69,
     "metadata": {},
     "output_type": "execute_result"
    }
   ],
   "source": [
    "logits = top_k_top_p_filtering(distribution, top_k=3)\n",
    "probs = F.softmax(logits, dim=-1)\n",
    "# probs\n",
    "idx = torch.multinomial(probs, 1).item()\n",
    "# idx"
   ]
  },
  {
   "cell_type": "code",
   "execution_count": 163,
   "metadata": {},
   "outputs": [],
   "source": [
    "i = 50"
   ]
  },
  {
   "cell_type": "code",
   "execution_count": 59,
   "metadata": {},
   "outputs": [
    {
     "name": "stdout",
     "output_type": "stream",
     "text": [
      "chord_label ['C', 'E', 'G']\n",
      "chord_label ['C', 'E', 'G']\n",
      "chord_label ['C', 'E', 'G']\n",
      "chord_label ['C', 'E', 'G']\n",
      "chord_label ['C', 'E', 'G']\n",
      "chord_label ['C', 'E', 'G']\n",
      "chord_label ['C', 'E', 'G']\n",
      "chord_label ['C', 'E', 'G']\n",
      "chord_label ['C', 'E', 'G']\n",
      "chord_label ['C', 'E', 'G']\n",
      "chord_label ['C', 'E', 'G']\n",
      "chord_label ['C', 'E', 'G']\n",
      "chord_label ['C', 'E', 'G']\n",
      "chord_label ['C', 'E', 'G']\n",
      "chord_label ['C', 'E', 'G']\n",
      "chord_label ['C', 'E', 'G']\n",
      "chord_label ['C', 'E', 'G']\n",
      "chord_label ['C', 'E', 'G']\n",
      "chord_label ['C', 'E', 'G']\n",
      "chord_label ['C', 'E', 'G']\n",
      "chord_label ['C', 'E', 'G']\n",
      "chord_label ['C', 'E', 'G']\n",
      "chord_label ['C', 'E', 'G']\n",
      "chord_label ['C', 'E', 'G']\n",
      "chord_label ['C', 'E', 'G']\n",
      "chord_label ['C', 'E', 'G']\n",
      "chord_label ['C', 'E', 'G']\n",
      "chord_label ['C', 'E', 'G']\n",
      "chord_label ['C', 'E', 'G']\n",
      "chord_label ['C', 'E', 'G']\n",
      "chord_label ['C', 'E', 'G']\n",
      "chord_label ['C', 'E', 'G']\n",
      "chord_label ['C', 'E', 'G']\n"
     ]
    }
   ],
   "source": [
    "chord_note = []\n",
    "tonal_distance_by_seq = [0]\n",
    "\n",
    "for t in gen_chord_index:\n",
    "    chord_label = chord962note(t)\n",
    "    chord_note.append(note2number(chord962note(t)))\n",
    "\n",
    "    print('chord_label',chord_label)\n"
   ]
  },
  {
   "cell_type": "code",
   "execution_count": 42,
   "metadata": {},
   "outputs": [
    {
     "name": "stdout",
     "output_type": "stream",
     "text": [
      "proceed chord decode...\n",
      "accompany_pianoroll shape (1, 272, 128)\n",
      "augment chord into frame base...\n",
      "accompany_pianoroll frame shape: (1, 13056, 128)\n",
      "groundtruth_pianoroll frame shape: (1, 13056, 128)\n",
      "write pianoroll...\n",
      "Finished!\n"
     ]
    }
   ],
   "source": [
    "########## Random sampling ###########\n",
    "# Proceed chord decode\n",
    "\n",
    "print('proceed chord decode...')\n",
    "joint_prob = samples[i].unsqueeze(0).cpu().detach().numpy()\n",
    "\n",
    "# Append argmax index to get pianoroll array\n",
    "accompany_pianoroll = argmax2pianoroll(joint_prob)\n",
    "\n",
    "# augment chord into frame base\n",
    "BEAT_RESOLUTION = 24\n",
    "BEAT_PER_CHORD = 2\n",
    "\n",
    "accompany_pianoroll_framewise, sample_chord_groundtruth_framewise = sequence2frame(accompany_pianoroll, sample_chord_groundtruth_idx)\n",
    "\n",
    "# length into frame base\n",
    "sample_length_framewise = sample_length * BEAT_RESOLUTION * BEAT_PER_CHORD\n",
    "\n",
    "# write pianoroll\n",
    "result_dir = 'results/music_cvae_ar_test'\n",
    "filename = str(i)\n",
    "write_one_pianoroll(result_dir, filename, sample_melody_framewise, accompany_pianoroll_framewise, sample_chord_groundtruth_framewise, sample_length_framewise, sample_tempo, sample_downbeat)\n"
   ]
  },
  {
   "cell_type": "code",
   "execution_count": 44,
   "metadata": {},
   "outputs": [
    {
     "data": {
      "text/plain": [
       "(1, 272, 96)"
      ]
     },
     "execution_count": 44,
     "metadata": {},
     "output_type": "execute_result"
    }
   ],
   "source": [
    "joint_prob.shape"
   ]
  },
  {
   "cell_type": "code",
   "execution_count": null,
   "metadata": {},
   "outputs": [],
   "source": []
  },
  {
   "cell_type": "code",
   "execution_count": null,
   "metadata": {},
   "outputs": [],
   "source": []
  }
 ],
 "metadata": {
  "kernelspec": {
   "display_name": "Python 3",
   "language": "python",
   "name": "python3"
  },
  "language_info": {
   "codemirror_mode": {
    "name": "ipython",
    "version": 3
   },
   "file_extension": ".py",
   "mimetype": "text/x-python",
   "name": "python",
   "nbconvert_exporter": "python",
   "pygments_lexer": "ipython3",
   "version": "3.7.9"
  }
 },
 "nbformat": 4,
 "nbformat_minor": 4
}

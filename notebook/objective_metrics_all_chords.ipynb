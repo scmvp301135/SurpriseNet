{
 "cells": [
  {
   "cell_type": "code",
   "execution_count": 2,
   "metadata": {},
   "outputs": [],
   "source": [
    "import os\n",
    "os.chdir('..')s"
   ]
  },
  {
   "cell_type": "code",
   "execution_count": null,
   "metadata": {},
   "outputs": [],
   "source": [
    "pwd"
   ]
  },
  {
   "cell_type": "code",
   "execution_count": 3,
   "metadata": {},
   "outputs": [],
   "source": [
    "import numpy as np\n",
    "import torch \n",
    "from tonal import tonal_centroid, chord482note, chord962note, note2number\n",
    "import matplotlib.pyplot as plt\n",
    "from tqdm import tqdm\n",
    "from utils import *"
   ]
  },
  {
   "cell_type": "code",
   "execution_count": null,
   "metadata": {},
   "outputs": [],
   "source": [
    "# melody = np.load('./data/melody_baseline.npy')\n",
    "# chord = np.load('./data/chord_indices.npy')\n",
    "# chord_onehot = np.load('./data/chord_onehot.npy')\n",
    "# length = np.load('./data/length.npy')"
   ]
  },
  {
   "cell_type": "code",
   "execution_count": 54,
   "metadata": {},
   "outputs": [],
   "source": [
    "chord_sequence = np.random.rand(14,633)\n",
    "melody_sequence = np.random.randint(2, size=(14,576))\n",
    "chord_num = 633"
   ]
  },
  {
   "cell_type": "code",
   "execution_count": 43,
   "metadata": {},
   "outputs": [
    {
     "data": {
      "text/plain": [
       "(14, 576)"
      ]
     },
     "execution_count": 43,
     "metadata": {},
     "output_type": "execute_result"
    }
   ],
   "source": [
    "melody_sequence.shape"
   ]
  },
  {
   "cell_type": "code",
   "execution_count": 38,
   "metadata": {},
   "outputs": [
    {
     "name": "stdout",
     "output_type": "stream",
     "text": [
      "2.639043329713257\n"
     ]
    }
   ],
   "source": [
    "def my_argmax(a):\n",
    "    rows = np.where(a == a.max(axis=1)[:, None])[0]\n",
    "    rows_multiple_max = rows[:-1][rows[:-1] == rows[1:]]\n",
    "    my_argmax = a.argmax(axis=1)\n",
    "    my_argmax[rows_multiple_max] = -1\n",
    "    return my_argmax\n",
    "\n",
    "# chord histogram entropy\n",
    "# def CHE_and_CC(chord_sequence, chord_num = 96):\n",
    "chord_index = np.argmax(chord_sequence, axis=1)\n",
    "\n",
    "chord_statistics = np.asarray([0 for i in range(chord_num)])\n",
    "for i in range(chord_index.shape[0]):\n",
    "    chord_statistics[chord_index[i]] += 1\n",
    "\n",
    "CC = 0\n",
    "for i in chord_statistics:\n",
    "    if i != 0:\n",
    "        CC += 1\n",
    "sequence_length = chord_index.shape[0]\n",
    "chord_statistics = chord_statistics / sequence_length\n",
    "\n",
    "# calculate entropy\n",
    "H = 0\n",
    "H = sum([H + - p_i * np.log(p_i+1e-6) for p_i in chord_statistics])\n",
    "\n",
    "print(H)\n",
    "#     return H, CC\n",
    "\n"
   ]
  },
  {
   "cell_type": "code",
   "execution_count": 39,
   "metadata": {},
   "outputs": [
    {
     "name": "stdout",
     "output_type": "stream",
     "text": [
      "1.2420647360775772\n"
     ]
    }
   ],
   "source": [
    "# chord tonal distance\n",
    "# def CTD(chord_sequence, chord_num = 96):\n",
    "chord_index = np.argmax(chord_sequence, axis=1)\n",
    "chord_note = []\n",
    "\n",
    "for i in chord_index:\n",
    "    chord_note.append(note2number(pianoroll_to_note(INDICES_TO_PIANOROLL[i])))\n",
    "        \n",
    "y = 0\n",
    "\n",
    "for n in range(len(chord_note) - 1):\n",
    "    y += np.sqrt(np.sum((np.asarray(tonal_centroid(chord_note[n+1])) - np.asarray(tonal_centroid(chord_note[n]))) ** 2))\n",
    "\n",
    "print( y / (len(chord_note) - 1))"
   ]
  },
  {
   "cell_type": "code",
   "execution_count": null,
   "metadata": {},
   "outputs": [],
   "source": []
  },
  {
   "cell_type": "code",
   "execution_count": 50,
   "metadata": {},
   "outputs": [
    {
     "ename": "ValueError",
     "evalue": "cannot reshape array of size 8064 into shape (32256,12)",
     "output_type": "error",
     "traceback": [
      "\u001b[0;31m---------------------------------------------------------------------------\u001b[0m",
      "\u001b[0;31mValueError\u001b[0m                                Traceback (most recent call last)",
      "\u001b[0;32m<ipython-input-50-5515d4a6f192>\u001b[0m in \u001b[0;36m<module>\u001b[0;34m\u001b[0m\n\u001b[1;32m      7\u001b[0m     \u001b[0mchord_note\u001b[0m\u001b[0;34m.\u001b[0m\u001b[0mappend\u001b[0m\u001b[0;34m(\u001b[0m\u001b[0mnote2number\u001b[0m\u001b[0;34m(\u001b[0m\u001b[0mpianoroll_to_note\u001b[0m\u001b[0;34m(\u001b[0m\u001b[0mINDICES_TO_PIANOROLL\u001b[0m\u001b[0;34m[\u001b[0m\u001b[0mi\u001b[0m\u001b[0;34m]\u001b[0m\u001b[0;34m)\u001b[0m\u001b[0;34m)\u001b[0m\u001b[0;34m)\u001b[0m\u001b[0;34m\u001b[0m\u001b[0;34m\u001b[0m\u001b[0m\n\u001b[1;32m      8\u001b[0m \u001b[0;34m\u001b[0m\u001b[0m\n\u001b[0;32m----> 9\u001b[0;31m \u001b[0mmelody_sequence\u001b[0m \u001b[0;34m=\u001b[0m \u001b[0mmelody_sequence\u001b[0m\u001b[0;34m.\u001b[0m\u001b[0mreshape\u001b[0m\u001b[0;34m(\u001b[0m\u001b[0;34m(\u001b[0m\u001b[0mmelody_sequence\u001b[0m\u001b[0;34m.\u001b[0m\u001b[0mshape\u001b[0m\u001b[0;34m[\u001b[0m\u001b[0;36m0\u001b[0m\u001b[0;34m]\u001b[0m\u001b[0;34m*\u001b[0m\u001b[0;36m48\u001b[0m\u001b[0;34m,\u001b[0m \u001b[0;36m12\u001b[0m\u001b[0;34m)\u001b[0m\u001b[0;34m)\u001b[0m\u001b[0;34m\u001b[0m\u001b[0;34m\u001b[0m\u001b[0m\n\u001b[0m\u001b[1;32m     10\u001b[0m \u001b[0mmelody_index\u001b[0m \u001b[0;34m=\u001b[0m \u001b[0mmy_argmax\u001b[0m\u001b[0;34m(\u001b[0m\u001b[0mmelody_sequence\u001b[0m\u001b[0;34m)\u001b[0m\u001b[0;34m\u001b[0m\u001b[0;34m\u001b[0m\u001b[0m\n\u001b[1;32m     11\u001b[0m \u001b[0mmelody_index\u001b[0m \u001b[0;34m=\u001b[0m \u001b[0mmelody_index\u001b[0m\u001b[0;34m.\u001b[0m\u001b[0mreshape\u001b[0m\u001b[0;34m(\u001b[0m\u001b[0;34m(\u001b[0m\u001b[0;34m-\u001b[0m\u001b[0;36m1\u001b[0m\u001b[0;34m,\u001b[0m \u001b[0;36m48\u001b[0m\u001b[0;34m)\u001b[0m\u001b[0;34m)\u001b[0m\u001b[0;34m\u001b[0m\u001b[0;34m\u001b[0m\u001b[0m\n",
      "\u001b[0;31mValueError\u001b[0m: cannot reshape array of size 8064 into shape (32256,12)"
     ]
    }
   ],
   "source": [
    "\n",
    "# Chord tone to non-chord tone ratio\n",
    "# def CTnCTR(melody_sequence, chord_sequence, chord_num = 96):\n",
    "chord_index = np.argmax(chord_sequence, axis=1)\n",
    "chord_note = []\n",
    "\n",
    "for i in chord_index:\n",
    "    chord_note.append(note2number(pianoroll_to_note(INDICES_TO_PIANOROLL[i])))\n",
    "\n",
    "melody_sequence = melody_sequence.reshape((melody_sequence.shape[0]*48, 12))\n",
    "melody_index = my_argmax(melody_sequence)\n",
    "melody_index = melody_index.reshape((-1, 48))\n",
    "\n",
    "c = 0\n",
    "p = 0\n",
    "n = 0\n",
    "for melody_m, chord_m in zip(melody_index, chord_note):\n",
    "    for i in range(len(melody_m)):\n",
    "        m = melody_m[i]\n",
    "        if m != -1:\n",
    "            if m in chord_m:\n",
    "                c += 1\n",
    "            else:\n",
    "                n += 1\n",
    "                for j in range(i, len(melody_m)):\n",
    "                    if melody_m[j] != -1:\n",
    "                        if melody_m[j] != melody_m[i]:\n",
    "                            if melody_m[j] in chord_m and abs(melody_m[i]-melody_m[j]) <= 2:\n",
    "                                p += 1\n",
    "                            break\n",
    "if (c+n) == 0:\n",
    "    print(0)\n",
    "    \n",
    "print((c+p)/(c+n))\n",
    "\n",
    "\n"
   ]
  },
  {
   "cell_type": "code",
   "execution_count": 27,
   "metadata": {},
   "outputs": [
    {
     "data": {
      "text/plain": [
       "torch.Size([672, 12])"
      ]
     },
     "execution_count": 27,
     "metadata": {},
     "output_type": "execute_result"
    }
   ],
   "source": [
    "melody_sequence"
   ]
  },
  {
   "cell_type": "code",
   "execution_count": 46,
   "metadata": {},
   "outputs": [
    {
     "name": "stdout",
     "output_type": "stream",
     "text": [
      "0.25\n"
     ]
    }
   ],
   "source": [
    "# Pitch consonance score\n",
    "# def PCS(melody_sequence,chord_sequence, chord_num = 96):\n",
    "chord_index = np.argmax(chord_sequence, axis=1)\n",
    "chord_note = []\n",
    "\n",
    "for i in chord_index:\n",
    "    chord_note.append(note2number(pianoroll_to_note(INDICES_TO_PIANOROLL[i])))\n",
    "\n",
    "melody_sequence = melody_sequence.reshape((melody_sequence.shape[0] * 48, 12))\n",
    "melody_index = my_argmax(melody_sequence)\n",
    "melody_index = melody_index.reshape((-1, 48))\n",
    "\n",
    "score = 0\n",
    "count = 0\n",
    "for melody_m, chord_m in zip(melody_index, chord_note):\n",
    "    for m in melody_m:\n",
    "        if m != -1:\n",
    "            for c in chord_m:\n",
    "                # unison, maj, minor 3rd, perfect 5th, maj, minor 6,\n",
    "                if abs(m - c) == 0 or abs(m - c) == 3 or abs(m - c) == 4 or abs(m - c) == 7 or abs(m - c) == 8 or abs(m - c) == 9 or abs(m - c) == 5:\n",
    "                    if abs(m - c) == 5:\n",
    "                        count += 1\n",
    "                    else:\n",
    "                        count += 1\n",
    "                        score += 1\n",
    "                else:\n",
    "                    count += 1\n",
    "                    score += -1\n",
    "if count == 0:\n",
    "    print(0)\n",
    "print(score/count)\n",
    "\n"
   ]
  },
  {
   "cell_type": "code",
   "execution_count": 55,
   "metadata": {},
   "outputs": [
    {
     "name": "stdout",
     "output_type": "stream",
     "text": [
      "0.9787658773652741\n"
     ]
    }
   ],
   "source": [
    "# melody_sequence-chord tonal distance\n",
    "\n",
    "# def MCTD(melody_sequence, chord_sequence, chord_num = 96):\n",
    "chord_index = np.argmax(chord_sequence, axis=1)\n",
    "chord_note = []\n",
    "\n",
    "for i in chord_index:\n",
    "    chord_note.append(note2number(pianoroll_to_note(INDICES_TO_PIANOROLL[i])))\n",
    "\n",
    "melody_sequence = melody_sequence.reshape((melody_sequence.shape[0] * 48, 12))\n",
    "melody_index = my_argmax(melody_sequence)\n",
    "melody_index = melody_index.reshape((-1, 48))\n",
    "\n",
    "y = 0\n",
    "count = 0\n",
    "for melody_m, chord_m in zip(melody_index, chord_note):\n",
    "    for m in melody_m:\n",
    "        if m != -1:\n",
    "            y += np.sqrt(np.sum((np.asarray(tonal_centroid([m])) - np.asarray(tonal_centroid(chord_m)))) ** 2)\n",
    "            count += 1\n",
    "            \n",
    "if count == 0:\n",
    "    print(0)\n",
    "\n",
    "print(y/count)"
   ]
  },
  {
   "cell_type": "code",
   "execution_count": null,
   "metadata": {},
   "outputs": [],
   "source": [
    "a = torch.Tensor([0.25,0.21,0.18,0.2])\n",
    "F.softmax(a)"
   ]
  },
  {
   "cell_type": "code",
   "execution_count": null,
   "metadata": {},
   "outputs": [],
   "source": []
  }
 ],
 "metadata": {
  "kernelspec": {
   "display_name": "Python 3",
   "language": "python",
   "name": "python3"
  },
  "language_info": {
   "codemirror_mode": {
    "name": "ipython",
    "version": 3
   },
   "file_extension": ".py",
   "mimetype": "text/x-python",
   "name": "python",
   "nbconvert_exporter": "python",
   "pygments_lexer": "ipython3",
   "version": "3.7.9"
  }
 },
 "nbformat": 4,
 "nbformat_minor": 4
}

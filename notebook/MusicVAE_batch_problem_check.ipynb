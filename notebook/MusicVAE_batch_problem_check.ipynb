{
 "cells": [
  {
   "cell_type": "code",
   "execution_count": 1,
   "metadata": {},
   "outputs": [],
   "source": [
    "import os\n",
    "os.chdir('..')"
   ]
  },
  {
   "cell_type": "code",
   "execution_count": 2,
   "metadata": {},
   "outputs": [
    {
     "data": {
      "text/plain": [
       "'/mnt/md1/user_victor/automatic_melody_harmonization'"
      ]
     },
     "execution_count": 2,
     "metadata": {},
     "output_type": "execute_result"
    }
   ],
   "source": [
    "pwd"
   ]
  },
  {
   "cell_type": "code",
   "execution_count": 3,
   "metadata": {},
   "outputs": [],
   "source": [
    "from tonal import pianoroll2number, joint_prob2pianoroll96\n",
    "from tonal import tonal_centroid, chord482note, chord962note, note2number\n",
    "import numpy as np\n",
    "import torch\n",
    "from torch.utils.data import DataLoader, Dataset\n",
    "import torch.nn as nn\n",
    "import torch.nn.functional as F\n",
    "import torch.optim as optim\n",
    "from torch.nn.utils.rnn import pack_padded_sequence, pad_packed_sequence\n",
    "import pickle\n",
    "from model.MusicVAE_GRU import MusicVAE\n",
    "from decode import *\n",
    "import matplotlib.pyplot as plt"
   ]
  },
  {
   "cell_type": "code",
   "execution_count": 6,
   "metadata": {},
   "outputs": [],
   "source": [
    "melody_framewise = np.load('./data/melody_data.npy')\n",
    "chord_groundtruth_idx = np.load('./data/chord_groundtruth.npy')\n",
    "\n",
    "melody = np.load('./data/melody_baseline.npy')\n",
    "chord = np.load('./data/number_96.npy')\n",
    "chord_onehot = np.load('./data/onehot_96.npy')\n",
    "length = np.load('./data/length.npy')\n",
    "\n",
    "f = open('./data/tempos', 'rb')\n",
    "tempos = pickle.load(f)\n",
    "f.close()\n",
    "f = open('./data/downbeats', 'rb')\n",
    "downbeats = pickle.load(f)\n",
    "f.close()"
   ]
  },
  {
   "cell_type": "code",
   "execution_count": 7,
   "metadata": {},
   "outputs": [
    {
     "name": "stdout",
     "output_type": "stream",
     "text": [
      "splitting testing set...\n"
     ]
    }
   ],
   "source": [
    "val_size = 500\n",
    "print('splitting testing set...')\n",
    "val_melody_framewise = melody_framewise[:val_size]\n",
    "val_chord_groundtruth_idx = chord_groundtruth_idx[:val_size]\n",
    "\n",
    "val_chord = torch.from_numpy(chord_onehot[:val_size]).float()\n",
    "val_melody = torch.from_numpy(melody[:val_size]).float()\n",
    "val_length = torch.from_numpy(length[:val_size])\n",
    "\n"
   ]
  },
  {
   "cell_type": "code",
   "execution_count": 6,
   "metadata": {},
   "outputs": [
    {
     "name": "stdout",
     "output_type": "stream",
     "text": [
      "building model...\n"
     ]
    },
    {
     "data": {
      "text/plain": [
       "MusicVAE(\n",
       "  (encoder): GRU(96, 512, num_layers=2, batch_first=True, bidirectional=True)\n",
       "  (hidden2mean): Linear(in_features=2048, out_features=32, bias=True)\n",
       "  (hidden2logv): Linear(in_features=2048, out_features=32, bias=True)\n",
       "  (latent2conductor_input): Linear(in_features=32, out_features=96, bias=True)\n",
       "  (latent2conductor_hidden): Linear(in_features=32, out_features=512, bias=True)\n",
       "  (dropout): Dropout(p=0.2, inplace=False)\n",
       "  (conductor): GRU(96, 512, num_layers=2, batch_first=True)\n",
       "  (decoder): GRU(608, 512, num_layers=2, batch_first=True)\n",
       "  (outputs2chord): Linear(in_features=512, out_features=96, bias=True)\n",
       ")"
      ]
     },
     "execution_count": 6,
     "metadata": {},
     "output_type": "execute_result"
    }
   ],
   "source": [
    "# Load model\n",
    "device = 'cpu'\n",
    "print('building model...')\n",
    "model = MusicVAE(teacher_forcing = False, eps_i=0, device = device).to(device)\n",
    "model.load_state_dict(torch.load('output_models/model_musicvae_gru.pth',map_location='cpu'))\n",
    "# print(model)\n",
    "model.eval()\n",
    "# val_length, val_melody = val_length.to(device), val_melody.to(device)"
   ]
  },
  {
   "cell_type": "code",
   "execution_count": 52,
   "metadata": {},
   "outputs": [
    {
     "data": {
      "text/plain": [
       "tensor(17)"
      ]
     },
     "execution_count": 52,
     "metadata": {},
     "output_type": "execute_result"
    }
   ],
   "source": [
    "val_length[0]"
   ]
  },
  {
   "cell_type": "code",
   "execution_count": 8,
   "metadata": {},
   "outputs": [],
   "source": [
    "## Multi Batch inference\n",
    "torch.manual_seed(0)\n",
    "model.batch_size = 500\n",
    "z = torch.randn(500,32).to(device)\n",
    "_, samples = model.decode(z, None)"
   ]
  },
  {
   "cell_type": "code",
   "execution_count": 15,
   "metadata": {},
   "outputs": [
    {
     "data": {
      "text/plain": [
       "tensor([-0.1292, -0.0546,  0.4083,  1.1264,  1.9351,  1.0077,  1.0046, -0.4335,\n",
       "        -1.2426,  1.2846,  0.2438,  0.5304, -0.0145, -2.2357,  1.4660, -1.2191,\n",
       "         0.6442,  3.9300, -0.1244,  0.2953,  0.3827, -0.5497, -0.9940,  1.3459,\n",
       "         1.9457, -1.2904, -2.3495, -2.0689,  0.9094, -0.6946,  1.9595, -1.1038])"
      ]
     },
     "execution_count": 15,
     "metadata": {},
     "output_type": "execute_result"
    }
   ],
   "source": [
    "z[10]"
   ]
  },
  {
   "cell_type": "code",
   "execution_count": 14,
   "metadata": {},
   "outputs": [
    {
     "data": {
      "text/plain": [
       "tensor([ 1,  0, 80, 80, 80, 80, 80, 80,  1,  1, 80, 80, 80, 80, 80, 80,  0,  1,\n",
       "        80, 80])"
      ]
     },
     "execution_count": 14,
     "metadata": {},
     "output_type": "execute_result"
    }
   ],
   "source": [
    "logits = torch.max(samples[10][:20],-1)\n",
    "gen_chord_index = logits.indices\n",
    "gen_chord_index"
   ]
  },
  {
   "cell_type": "code",
   "execution_count": 20,
   "metadata": {},
   "outputs": [],
   "source": [
    "## Single Batch inference\n",
    "model.batch_size = 1\n",
    "z_ = z[10].unsqueeze(0)\n",
    "_, sample = model.decode(z_, None)"
   ]
  },
  {
   "cell_type": "code",
   "execution_count": 21,
   "metadata": {},
   "outputs": [
    {
     "data": {
      "text/plain": [
       "tensor([ 1,  0, 80, 80, 80, 80, 80, 80,  1,  1, 80, 80, 80, 80, 80, 80,  0,  1,\n",
       "        80, 80])"
      ]
     },
     "execution_count": 21,
     "metadata": {},
     "output_type": "execute_result"
    }
   ],
   "source": [
    "logits = torch.max(sample[0][:20],-1)\n",
    "gen_chord_index = logits.indices\n",
    "gen_chord_index"
   ]
  }
 ],
 "metadata": {
  "kernelspec": {
   "display_name": "Python 3",
   "language": "python",
   "name": "python3"
  },
  "language_info": {
   "codemirror_mode": {
    "name": "ipython",
    "version": 3
   },
   "file_extension": ".py",
   "mimetype": "text/x-python",
   "name": "python",
   "nbconvert_exporter": "python",
   "pygments_lexer": "ipython3",
   "version": "3.7.9"
  }
 },
 "nbformat": 4,
 "nbformat_minor": 4
}

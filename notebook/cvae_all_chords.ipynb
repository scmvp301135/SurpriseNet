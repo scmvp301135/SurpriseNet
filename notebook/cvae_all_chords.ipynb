{
 "cells": [
  {
   "cell_type": "code",
   "execution_count": 3,
   "metadata": {},
   "outputs": [],
   "source": [
    "import os\n",
    "os.chdir('..')"
   ]
  },
  {
   "cell_type": "code",
   "execution_count": 4,
   "metadata": {},
   "outputs": [
    {
     "data": {
      "text/plain": [
       "'/mnt/md1/user_victor/automatic_melody_harmonization'"
      ]
     },
     "execution_count": 4,
     "metadata": {},
     "output_type": "execute_result"
    }
   ],
   "source": [
    "pwd"
   ]
  },
  {
   "cell_type": "code",
   "execution_count": 22,
   "metadata": {},
   "outputs": [],
   "source": [
    "import numpy as np\n",
    "import torch\n",
    "from torch.utils.data import DataLoader, Dataset\n",
    "import torch.nn as nn\n",
    "import torch.nn.functional as F\n",
    "import torch.optim as optim\n",
    "from torch.nn.utils.rnn import pack_padded_sequence, pad_packed_sequence\n",
    "import pickle\n",
    "from model.CVAE_all_chords import CVAE\n",
    "from decode import *\n",
    "import matplotlib.pyplot as plt\n",
    "from utils import *"
   ]
  },
  {
   "cell_type": "code",
   "execution_count": 6,
   "metadata": {},
   "outputs": [],
   "source": [
    "melody_framewise = np.load('./data/melody_data.npy')\n",
    "chord_groundtruth_idx = np.load('./data/chord_groundtruth.npy')\n",
    "\n",
    "melody = np.load('./data/melody_baseline.npy')\n",
    "# chord = np.load('./data/number_96.npy')\n",
    "# chord_onehot = np.load('./data/onehot_96.npy')\n",
    "chord_onehot = np.load('./data/chord_onehot.npy')\n",
    "length = np.load('./data/length.npy')\n",
    "\n",
    "f = open('./data/tempos', 'rb')\n",
    "tempos = pickle.load(f)\n",
    "f.close()\n",
    "f = open('./data/downbeats', 'rb')\n",
    "downbeats = pickle.load(f)\n",
    "f.close()"
   ]
  },
  {
   "cell_type": "code",
   "execution_count": 17,
   "metadata": {},
   "outputs": [
    {
     "name": "stdout",
     "output_type": "stream",
     "text": [
      "splitting testing set...\n"
     ]
    }
   ],
   "source": [
    "val_size = 500\n",
    "print('splitting testing set...')\n",
    "val_melody_framewise = melody_framewise[:val_size]\n",
    "val_chord_groundtruth_idx = chord_groundtruth_idx[:val_size]\n",
    "\n",
    "val_chord = torch.from_numpy(chord_onehot[:val_size]).float()\n",
    "val_melody = torch.from_numpy(melody[:val_size]).float()\n",
    "val_length = length[:val_size]\n",
    "\n"
   ]
  },
  {
   "cell_type": "code",
   "execution_count": null,
   "metadata": {},
   "outputs": [],
   "source": []
  },
  {
   "cell_type": "code",
   "execution_count": 20,
   "metadata": {},
   "outputs": [
    {
     "name": "stdout",
     "output_type": "stream",
     "text": [
      "building model...\n",
      "CVAE(\n",
      "  (encoder): LSTM(633, 256, num_layers=2, batch_first=True, bidirectional=True)\n",
      "  (encoder_output2mean): Linear(in_features=512, out_features=16, bias=True)\n",
      "  (encoder_output2logv): Linear(in_features=512, out_features=16, bias=True)\n",
      "  (latent2decoder_input): Linear(in_features=592, out_features=128, bias=True)\n",
      "  (decoder): LSTM(128, 256, num_layers=2, batch_first=True, dropout=0.2, bidirectional=True)\n",
      "  (outputs2chord): Linear(in_features=512, out_features=633, bias=True)\n",
      ")\n"
     ]
    }
   ],
   "source": [
    "# Load model\n",
    "device = 'cpu'\n",
    "print('building model...')\n",
    "with torch.no_grad():\n",
    "    model = CVAE(device = device).to(device)\n",
    "    model.load_state_dict(torch.load('output_models/model_cvae_all_chords.pth'))\n",
    "    print(model)\n",
    "    model.eval()\n",
    "val_length, val_melody = val_length.to(device), val_melody.to(device)"
   ]
  },
  {
   "cell_type": "code",
   "execution_count": null,
   "metadata": {},
   "outputs": [],
   "source": []
  },
  {
   "cell_type": "code",
   "execution_count": 37,
   "metadata": {},
   "outputs": [
    {
     "name": "stdout",
     "output_type": "stream",
     "text": [
      "tensor([8])\n",
      "chord pred shape torch.Size([272, 633])\n",
      "max logits torch.return_types.max(\n",
      "values=tensor([0.2851, 0.3017, 0.1581, 0.1386, 0.1078, 0.1003, 0.1651, 0.3977],\n",
      "       grad_fn=<MaxBackward0>),\n",
      "indices=tensor([191, 191, 265, 265, 341, 234, 234,   0]))\n"
     ]
    }
   ],
   "source": [
    "# Sampconductorne song\n",
    "# torch.manual_seed(0)\n",
    "song_index = 140\n",
    "sample_melody = val_melody[song_index].unsqueeze(0)\n",
    "sample_length = val_length[song_index].unsqueeze(0)\n",
    "sample_chord = val_chord[song_index]\n",
    "sample_melody_framewise = np.expand_dims(val_melody_framewise[song_index],axis=0)\n",
    "sample_chord_groundtruth_idx = np.expand_dims(val_chord_groundtruth_idx[song_index],axis=0)\n",
    "sample_tempo = [tempos[song_index]]\n",
    "sample_downbeat = [downbeats[song_index]]\n",
    "\n",
    "print(sample_length)\n",
    "\n",
    "# bs = 1\n",
    "# model.batch_size = bs\n",
    "# torch.manual_seed(0)\n",
    "latent_size = 16\n",
    "z = torch.randn(1,272,latent_size)\n",
    "z = torch.cat([z,sample_melody],dim=-1)\n",
    "\n",
    "output_seq, chord_pred = model.decode(z)\n",
    "print('chord pred shape',chord_pred[0].shape)\n",
    "\n",
    "logits = torch.max(chord_pred[0][:sample_length[0]],-1)\n",
    "gen_chord_index = logits.indices\n",
    "print('max logits',logits)\n",
    "\n"
   ]
  },
  {
   "cell_type": "code",
   "execution_count": 38,
   "metadata": {},
   "outputs": [
    {
     "name": "stdout",
     "output_type": "stream",
     "text": [
      "proceed chord decode...\n",
      "generate_pianoroll shape (1, 272, 128)\n",
      "augment chord into frame base...\n",
      "accompany_pianoroll frame shape: (1, 13056, 128)\n",
      "groundtruth_pianoroll frame shape: (1, 13056, 128)\n",
      "write pianoroll...\n",
      "Finished!\n"
     ]
    }
   ],
   "source": [
    "########## Random sampling ###########\n",
    "# Proceed chord decode\n",
    "print('proceed chord decode...')\n",
    "joint_prob = chord_pred.cpu().detach().numpy()\n",
    "\n",
    "# Append argmax index to get pianoroll array\n",
    "accompany_pianoroll = argmax2pianoroll_all(joint_prob)\n",
    "\n",
    "# # augment chord into frame base\n",
    "BEAT_RESOLUTION = 24\n",
    "BEAT_PER_CHORD = 2\n",
    "\n",
    "accompany_pianoroll_framewise, sample_chord_groundtruth_framewise = sequence2frame(accompany_pianoroll, sample_chord_groundtruth_idx)\n",
    "\n",
    "# # length into frame base\n",
    "sample_length_framewise = sample_length * BEAT_RESOLUTION * BEAT_PER_CHORD\n",
    "\n",
    "# write pianoroll\n",
    "result_dir = 'results/cvae_all_chords_test'\n",
    "filename = str(song_index)\n",
    "write_one_pianoroll(result_dir, filename, sample_melody_framewise, accompany_pianoroll_framewise, sample_chord_groundtruth_framewise, sample_length_framewise, sample_tempo, sample_downbeat)\n"
   ]
  },
  {
   "cell_type": "code",
   "execution_count": 39,
   "metadata": {},
   "outputs": [
    {
     "data": {
      "text/plain": [
       "(1, 272, 633)"
      ]
     },
     "execution_count": 39,
     "metadata": {},
     "output_type": "execute_result"
    }
   ],
   "source": [
    "joint_prob.shape"
   ]
  },
  {
   "cell_type": "code",
   "execution_count": null,
   "metadata": {},
   "outputs": [],
   "source": []
  },
  {
   "cell_type": "code",
   "execution_count": null,
   "metadata": {},
   "outputs": [],
   "source": []
  }
 ],
 "metadata": {
  "kernelspec": {
   "display_name": "Python 3",
   "language": "python",
   "name": "python3"
  },
  "language_info": {
   "codemirror_mode": {
    "name": "ipython",
    "version": 3
   },
   "file_extension": ".py",
   "mimetype": "text/x-python",
   "name": "python",
   "nbconvert_exporter": "python",
   "pygments_lexer": "ipython3",
   "version": "3.7.9"
  }
 },
 "nbformat": 4,
 "nbformat_minor": 4
}

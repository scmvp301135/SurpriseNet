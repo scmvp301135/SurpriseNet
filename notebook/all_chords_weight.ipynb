{
 "cells": [
  {
   "cell_type": "code",
   "execution_count": 1,
   "metadata": {},
   "outputs": [],
   "source": [
    "import os\n",
    "os.chdir('..')"
   ]
  },
  {
   "cell_type": "code",
   "execution_count": 2,
   "metadata": {},
   "outputs": [
    {
     "data": {
      "text/plain": [
       "'/mnt/md1/user_victor/automatic_melody_harmonization'"
      ]
     },
     "execution_count": 2,
     "metadata": {},
     "output_type": "execute_result"
    }
   ],
   "source": [
    "pwd"
   ]
  },
  {
   "cell_type": "code",
   "execution_count": 3,
   "metadata": {},
   "outputs": [],
   "source": [
    "from tonal import symbol2number96, roman2romantrain, sec2sectrain, borrowed2borrowedtrain, pianoroll2number, number2onehot, \\\n",
    "symbol2onehot96, roman2romantrainonehot, sec2sectrainonehot, borrowed2borrowedtrainonehot\n",
    "import numpy as np\n",
    "import pickle"
   ]
  },
  {
   "cell_type": "code",
   "execution_count": 8,
   "metadata": {},
   "outputs": [],
   "source": [
    "chord_indices = np.load('./data/chord_indices.npy')"
   ]
  },
  {
   "cell_type": "code",
   "execution_count": 7,
   "metadata": {},
   "outputs": [],
   "source": [
    "# Chord symbol data per 2 beats\n",
    "f = open('./data/symbol_data_2_beat', 'rb')\n",
    "symbol_data = pickle.load(f)\n",
    "f.close()"
   ]
  },
  {
   "cell_type": "code",
   "execution_count": null,
   "metadata": {},
   "outputs": [],
   "source": []
  },
  {
   "cell_type": "code",
   "execution_count": 23,
   "metadata": {},
   "outputs": [
    {
     "name": "stdout",
     "output_type": "stream",
     "text": [
      "change symbol to number 633 and prepare roman data...\n"
     ]
    }
   ],
   "source": [
    "\n",
    "# Loss weighting array\n",
    "weight_chord = [1000 for i in range(633)]\n",
    "\n",
    "print('change symbol to number 633 and prepare roman data...')\n",
    "\n",
    "for chord_idx_seq in chord_indices:\n",
    "    # Blank Sequence unit\n",
    "    pre = np.array([0])\n",
    "\n",
    "    for i in range(len(chord_seq)):\n",
    "        \n",
    "        # if some beat is none, pad 0 to sequence array and one hot array\n",
    "        if chord_idx_seq[i][0] == 0 :\n",
    "            weight_chord[pre[0]] += 1\n",
    "            \n",
    "        else:\n",
    "            # Simplify chord\n",
    "            chord_idx = chord_idx_seq[i]\n",
    "            weight_chord[chord_idx[0]] += 1\n",
    "            \n",
    "            # Update previous one hot\n",
    "            pre = chord_idx\n",
    "\n",
    "# Calculate balancing weight array\n",
    "def cal_weight(weight):\n",
    "    total = 0\n",
    "    for i in range(len(weight)):\n",
    "        weight[i] = 1 / weight[i]\n",
    "    for i in range(len(weight)):\n",
    "        total += weight[i]\n",
    "    for i in range(len(weight)):\n",
    "        weight[i] = weight[i] * len(weight) / total\n",
    "\n",
    "    return np.asarray(weight)\n",
    "\n",
    "weight_chord = cal_weight(weight_chord)\n",
    "np.save('./data/all_chords_weight',weight_chord)"
   ]
  },
  {
   "cell_type": "code",
   "execution_count": 22,
   "metadata": {},
   "outputs": [
    {
     "data": {
      "text/plain": [
       "(633,)"
      ]
     },
     "execution_count": 22,
     "metadata": {},
     "output_type": "execute_result"
    }
   ],
   "source": []
  },
  {
   "cell_type": "code",
   "execution_count": null,
   "metadata": {},
   "outputs": [],
   "source": []
  },
  {
   "cell_type": "code",
   "execution_count": null,
   "metadata": {},
   "outputs": [],
   "source": []
  }
 ],
 "metadata": {
  "kernelspec": {
   "display_name": "Python 3",
   "language": "python",
   "name": "python3"
  },
  "language_info": {
   "codemirror_mode": {
    "name": "ipython",
    "version": 3
   },
   "file_extension": ".py",
   "mimetype": "text/x-python",
   "name": "python",
   "nbconvert_exporter": "python",
   "pygments_lexer": "ipython3",
   "version": "3.7.9"
  }
 },
 "nbformat": 4,
 "nbformat_minor": 4
}

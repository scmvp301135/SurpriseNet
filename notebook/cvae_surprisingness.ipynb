{
 "cells": [
  {
   "cell_type": "code",
   "execution_count": 2,
   "metadata": {},
   "outputs": [],
   "source": [
    "import os\n",
    "os.chdir('..')"
   ]
  },
  {
   "cell_type": "code",
   "execution_count": 3,
   "metadata": {},
   "outputs": [
    {
     "data": {
      "text/plain": [
       "'/mnt/md1/user_victor/automatic_melody_harmonization'"
      ]
     },
     "execution_count": 3,
     "metadata": {},
     "output_type": "execute_result"
    }
   ],
   "source": [
    "pwd"
   ]
  },
  {
   "cell_type": "code",
   "execution_count": 4,
   "metadata": {},
   "outputs": [],
   "source": [
    "from tonal import pianoroll2number, joint_prob2pianoroll96\n",
    "from tonal import tonal_centroid, chord482note, chord962note, note2number\n",
    "import numpy as np\n",
    "import torch\n",
    "from torch.utils.data import DataLoader, Dataset\n",
    "import torch.nn as nn\n",
    "import torch.nn.functional as F\n",
    "import torch.optim as optim\n",
    "from torch.nn.utils.rnn import pack_padded_sequence, pad_packed_sequence\n",
    "import pickle\n",
    "from model.CVAE_lstm_decoder import CVAE\n",
    "# from model.CTDCVAE_lstm_decoder_conv_prenet import CVAE\n",
    "from decode import *\n",
    "import matplotlib.pyplot as plt"
   ]
  },
  {
   "cell_type": "code",
   "execution_count": 5,
   "metadata": {},
   "outputs": [],
   "source": [
    "melody_framewise = np.load('./data/melody_data.npy')\n",
    "chord_groundtruth_idx = np.load('./data/chord_groundtruth.npy')\n",
    "\n",
    "melody = np.load('./data/melody_baseline.npy')\n",
    "chord = np.load('./data/number_96.npy')\n",
    "chord_onehot = np.load('./data/onehot_96.npy')\n",
    "length = np.load('./data/length.npy')\n",
    "\n",
    "f = open('./data/tempos', 'rb')\n",
    "tempos = pickle.load(f)\n",
    "f.close()\n",
    "f = open('./data/downbeats', 'rb')\n",
    "downbeats = pickle.load(f)\n",
    "f.close()"
   ]
  },
  {
   "cell_type": "code",
   "execution_count": 6,
   "metadata": {},
   "outputs": [
    {
     "name": "stdout",
     "output_type": "stream",
     "text": [
      "splitting testing set...\n"
     ]
    }
   ],
   "source": [
    "val_size = 500\n",
    "print('splitting testing set...')\n",
    "val_melody_framewise = melody_framewise[:val_size]\n",
    "val_chord_groundtruth_idx = chord_groundtruth_idx[:val_size]\n",
    "\n",
    "val_chord = torch.from_numpy(chord_onehot[:val_size]).float()\n",
    "val_melody = torch.from_numpy(melody[:val_size]).float()\n",
    "val_length = torch.from_numpy(length[:val_size])\n"
   ]
  },
  {
   "cell_type": "code",
   "execution_count": 8,
   "metadata": {},
   "outputs": [
    {
     "name": "stdout",
     "output_type": "stream",
     "text": [
      "building model...\n",
      "CVAE(\n",
      "  (encoder): LSTM(96, 256, num_layers=2, batch_first=True, bidirectional=True)\n",
      "  (encoder_output2mean): Linear(in_features=512, out_features=16, bias=True)\n",
      "  (encoder_output2logv): Linear(in_features=512, out_features=16, bias=True)\n",
      "  (latent2decoder_input): Linear(in_features=592, out_features=128, bias=True)\n",
      "  (decoder): LSTM(128, 256, num_layers=2, batch_first=True, dropout=0.2, bidirectional=True)\n",
      "  (outputs2chord): Linear(in_features=512, out_features=96, bias=True)\n",
      ")\n"
     ]
    }
   ],
   "source": [
    "# Load model\n",
    "device = 'cpu'\n",
    "print('building model...')\n",
    "model = CVAE(device = device).to(device)\n",
    "model.load_state_dict(torch.load('output_models/model_cvae_lstm_decoder.pth'))\n",
    "# model.load_state_dict(torch.load('output_models/model_ctdcvae_conv_prenet.pth'))\n",
    "print(model)\n",
    "model.eval()\n",
    "val_length, val_melody = val_length.to(device), val_melody.to(device)"
   ]
  },
  {
   "cell_type": "code",
   "execution_count": 57,
   "metadata": {},
   "outputs": [],
   "source": [
    "def top_k_top_p_filtering(logits, top_k=0, top_p=1.0, filter_value=-float(\"Inf\"), min_tokens_to_keep=1):\n",
    "    \"\"\" Filter a distribution of logits using top-k and/or nucleus (top-p) filtering\n",
    "        Args:\n",
    "            logits: logits distribution shape (batch size, vocabulary size)\n",
    "            if top_k > 0: keep only top k tokens with highest probability (top-k filtering).\n",
    "            if top_p < 1.0: keep the top tokens with cumulative probability >= top_p (nucleus filtering).\n",
    "                Nucleus filtering is described in Holtzman et al. (http://arxiv.org/abs/1904.09751)\n",
    "            Make sure we keep at least min_tokens_to_keep per batch example in the output\n",
    "        From: https://gist.github.com/thomwolf/1a5a29f6962089e871b94cbd09daf317\n",
    "    \"\"\"\n",
    "    if top_k > 0:\n",
    "        top_k = min(max(top_k, min_tokens_to_keep), logits.size(-1))  # Safety check\n",
    "        # Remove all tokens with a probability less than the last token of the top-k\n",
    "        indices_to_remove = logits < torch.topk(logits, top_k)[0][..., -1, None]\n",
    "        logits[indices_to_remove] = filter_value\n",
    "\n",
    "    if top_p < 1.0:\n",
    "        sorted_logits, sorted_indices = torch.sort(logits, descending=True)\n",
    "        cumulative_probs = torch.cumsum(F.softmax(sorted_logits, dim=-1), dim=-1)\n",
    "\n",
    "        # Remove tokens with cumulative probability above the threshold (token with 0 are kept)\n",
    "        sorted_indices_to_remove = cumulative_probs > top_p\n",
    "        if min_tokens_to_keep > 1:\n",
    "            # Keep at least min_tokens_to_keep (set to min_tokens_to_keep-1 because we add the first one below)\n",
    "            sorted_indices_to_remove[..., :min_tokens_to_keep] = 0\n",
    "        # Shift the indices to the right to keep also the first token above the threshold\n",
    "        sorted_indices_to_remove[..., 1:] = sorted_indices_to_remove[..., :-1].clone()\n",
    "        sorted_indices_to_remove[..., 0] = 0\n",
    "\n",
    "        # scatter sorted tensors to original indexing\n",
    "        indices_to_remove = sorted_indices_to_remove.scatter(1, sorted_indices, sorted_indices_to_remove)\n",
    "        logits[indices_to_remove] = filter_value\n",
    "    return logits"
   ]
  },
  {
   "cell_type": "code",
   "execution_count": 158,
   "metadata": {},
   "outputs": [
    {
     "name": "stdout",
     "output_type": "stream",
     "text": [
      "tensor(16)\n",
      "tensor([[ 0,  0,  0,  0, 56, 56, 56, 56, 73, 40, 40, 40, 40, 40,  0,  0]])\n"
     ]
    },
    {
     "data": {
      "text/plain": [
       "[<matplotlib.lines.Line2D at 0x7faa6410ea50>]"
      ]
     },
     "execution_count": 158,
     "metadata": {},
     "output_type": "execute_result"
    },
    {
     "data": {
      "image/png": "[encoded data removed]",
      "text/plain": [
       "<Figure size 432x288 with 1 Axes>"
      ]
     },
     "metadata": {
      "needs_background": "light"
     },
     "output_type": "display_data"
    }
   ],
   "source": [
    "# Sampling\n",
    "# torch.manual_seed(0)\n",
    "i = 50\n",
    "sample_melody = val_melody[i].unsqueeze(0)\n",
    "sample_length = val_length[i]\n",
    "sample_melody_framewise = np.expand_dims(val_melody_framewise[i],axis=0)\n",
    "sample_chord_groundtruth_idx = np.expand_dims(val_chord_groundtruth_idx[i],axis=0)\n",
    "sample_tempo = [tempos[i]]\n",
    "sample_downbeat = [downbeats[i]]\n",
    "\n",
    "print(sample_length)\n",
    "\n",
    "latent_size = 16\n",
    "\n",
    "# for k in range(10):\n",
    "latent = torch.randn(1,272,latent_size)\n",
    "z = torch.cat([latent,sample_melody], dim=-1)\n",
    "output, chord_pred = model.decode(z)\n",
    "\n",
    "gen_chord_index = torch.max(chord_pred[:,:sample_length],2).indices\n",
    "print(gen_chord_index)\n",
    "#     print(gen_chord_index.shape)\n",
    "\n",
    "surprisingness = -np.log(torch.max(chord_pred[:,:sample_length],2).values.squeeze().detach().numpy())\n",
    "\n",
    "fig, ax = plt.subplots()\n",
    "ax.plot(surprisingness)"
   ]
  },
  {
   "cell_type": "code",
   "execution_count": 159,
   "metadata": {},
   "outputs": [
    {
     "data": {
      "text/plain": [
       "tensor([[0.7563, 0.6361, 0.5276, 0.3415, 0.4923, 0.5031, 0.3815, 0.1819, 0.3118,\n",
       "         0.2231, 0.2619, 0.2630, 0.3275, 0.3016, 0.2576, 0.7465]],\n",
       "       grad_fn=<MaxBackward0>)"
      ]
     },
     "execution_count": 159,
     "metadata": {},
     "output_type": "execute_result"
    }
   ],
   "source": [
    "torch.max(chord_pred[:,:sample_length],2).values"
   ]
  },
  {
   "cell_type": "code",
   "execution_count": null,
   "metadata": {},
   "outputs": [],
   "source": []
  },
  {
   "cell_type": "code",
   "execution_count": 148,
   "metadata": {},
   "outputs": [
    {
     "name": "stdout",
     "output_type": "stream",
     "text": [
      "[0, 40, 56]\n",
      "['F', 'A', 'C']\n"
     ]
    },
    {
     "data": {
      "image/png": "[encoded data removed]",
      "text/plain": [
       "<Figure size 432x288 with 1 Axes>"
      ]
     },
     "metadata": {
      "needs_background": "light"
     },
     "output_type": "display_data"
    }
   ],
   "source": [
    "distribution = chord_pred[:,:sample_length].squeeze()[2].detach().numpy()\n",
    "\n",
    "fig, ax = plt.subplots()\n",
    "ax.plot(distribution)\n",
    "\n",
    "print([x for x in range(96) if distribution[i] > 0.1])\n",
    "print(chord962note(40))"
   ]
  },
  {
   "cell_type": "code",
   "execution_count": 162,
   "metadata": {},
   "outputs": [
    {
     "data": {
      "text/plain": [
       "[<matplotlib.lines.Line2D at 0x7faa53cbc450>]"
      ]
     },
     "execution_count": 162,
     "metadata": {},
     "output_type": "execute_result"
    },
    {
     "data": {
      "image/png": "[encoded data removed]",
      "text/plain": [
       "<Figure size 432x288 with 1 Axes>"
      ]
     },
     "metadata": {
      "needs_background": "light"
     },
     "output_type": "display_data"
    }
   ],
   "source": [
    "## Markov chain\n",
    "def create_transition_matrix(seq,states):\n",
    "    \n",
    "    num_state = len(states) #number of states\n",
    "    M = [[0]*num_state for _ in range(num_state)]\n",
    "    \n",
    "    # Convert seq to index seq\n",
    "    index_seq = [states.index(i) for i in seq]\n",
    "\n",
    "    for (i,j) in zip(index_seq,index_seq[1:]):\n",
    "        M[i][j] += 1\n",
    "\n",
    "    #now convert to probabilities:\n",
    "    for row in M:\n",
    "        s = sum(row)\n",
    "        if s > 0:\n",
    "            row[:] = [f/s for f in row]\n",
    "            \n",
    "    return np.array(M)\n",
    "\n",
    "states = [x for x in range(96)]\n",
    "seq = gen_chord_index.squeeze().detach().numpy()\n",
    "\n",
    "N = len(seq)\n",
    "\n",
    "t = range(1,N)\n",
    "surprisingness_seq = [0]\n",
    "\n",
    "for n in t:\n",
    "    \n",
    "    transition_matrix = create_transition_matrix(seq[:n],states).transpose()\n",
    "    current = seq[n]\n",
    "    i_ = states.index(current)\n",
    "\n",
    "    previous = seq[n - 1]\n",
    "    j_ = states.index(previous)\n",
    "\n",
    "    surprisingness = -np.log(transition_matrix[i_][j_] + 1e-2)\n",
    "    surprisingness_seq.append(surprisingness)\n",
    "\n",
    "# Plot Surprisingness\n",
    "surprisingness_seq[1] = 0\n",
    "fig, ax = plt.subplots()\n",
    "ax.plot(range(N),surprisingness_seq)"
   ]
  },
  {
   "cell_type": "code",
   "execution_count": 69,
   "metadata": {},
   "outputs": [
    {
     "data": {
      "text/plain": [
       "40"
      ]
     },
     "execution_count": 69,
     "metadata": {},
     "output_type": "execute_result"
    }
   ],
   "source": [
    "logits = top_k_top_p_filtering(distribution, top_k=3)\n",
    "probs = F.softmax(logits, dim=-1)\n",
    "# probs\n",
    "idx = torch.multinomial(probs, 1).item()\n",
    "# idx"
   ]
  },
  {
   "cell_type": "code",
   "execution_count": 163,
   "metadata": {},
   "outputs": [],
   "source": [
    "i = 50"
   ]
  },
  {
   "cell_type": "code",
   "execution_count": 101,
   "metadata": {},
   "outputs": [
    {
     "name": "stdout",
     "output_type": "stream",
     "text": [
      "chord_label ['C', 'E', 'G']\n",
      "chord_label ['C', 'E', 'G']\n",
      "chord_label ['G', 'B', 'D']\n",
      "chord_label ['C', 'E', 'G']\n",
      "chord_label ['C', 'E', 'G']\n",
      "chord_label ['C', 'E', 'G']\n",
      "chord_label ['C', 'E', 'G']\n",
      "chord_label ['C', 'E', 'G']\n",
      "chord_label ['F', 'A', 'C']\n",
      "chord_label ['C', 'E', 'G']\n",
      "chord_label ['C', 'E', 'G']\n",
      "chord_label ['C', 'E', 'G']\n",
      "chord_label ['C', 'E', 'G']\n",
      "chord_label ['C', 'E', 'G']\n",
      "chord_label ['C', 'E', 'G']\n",
      "chord_label ['C', 'E', 'G']\n",
      "chord_label ['C', 'E', 'G']\n",
      "chord_label ['C', 'E', 'G']\n",
      "chord_label ['C', 'E', 'G']\n",
      "chord_label ['F', 'A', 'C']\n",
      "chord_label ['C', 'E', 'G']\n",
      "chord_label ['C', 'E', 'G']\n",
      "chord_label ['G', 'B', 'D']\n",
      "chord_label ['C', 'E', 'G']\n",
      "chord_label ['F', 'A', 'C']\n",
      "chord_label ['F', 'A', 'C']\n",
      "chord_label ['F', 'A', 'C']\n",
      "chord_label ['C', 'E', 'G']\n",
      "chord_label ['C', 'E', 'G']\n",
      "chord_label ['C', 'E', 'G']\n",
      "chord_label ['C', 'E', 'G']\n",
      "chord_label ['C', 'E', 'G']\n",
      "chord_label ['C', 'E', 'G']\n"
     ]
    }
   ],
   "source": [
    "chord_note = []\n",
    "tonal_distance_by_seq = [0]\n",
    "\n",
    "for t in gen_chord_index[0]:\n",
    "    chord_label = chord962note(t)\n",
    "    chord_note.append(note2number(chord962note(t)))\n",
    "\n",
    "    print('chord_label',chord_label)\n"
   ]
  },
  {
   "cell_type": "code",
   "execution_count": 164,
   "metadata": {},
   "outputs": [
    {
     "name": "stdout",
     "output_type": "stream",
     "text": [
      "proceed chord decode...\n",
      "accompany_pianoroll shape (1, 272, 128)\n",
      "augment chord into frame base...\n",
      "accompany_pianoroll frame shape: (1, 13056, 128)\n",
      "groundtruth_pianoroll frame shape: (1, 13056, 128)\n",
      "write pianoroll...\n",
      "Finished!\n"
     ]
    }
   ],
   "source": [
    "########## Random sampling ###########\n",
    "# Proceed chord decode\n",
    "print('proceed chord decode...')\n",
    "joint_prob = chord_pred.cpu().detach().numpy()\n",
    "\n",
    "# Append argmax index to get pianoroll array\n",
    "accompany_pianoroll = argmax2pianoroll(joint_prob)\n",
    "\n",
    "# augment chord into frame base\n",
    "BEAT_RESOLUTION = 24\n",
    "BEAT_PER_CHORD = 2\n",
    "\n",
    "accompany_pianoroll_framewise, sample_chord_groundtruth_framewise = sequence2frame(accompany_pianoroll, sample_chord_groundtruth_idx)\n",
    "\n",
    "# length into frame base\n",
    "sample_length_framewise = sample_length * BEAT_RESOLUTION * BEAT_PER_CHORD\n",
    "\n",
    "# write pianoroll\n",
    "result_dir = 'results/cvae_lstm_decoder_test'\n",
    "filename = str(i)\n",
    "write_one_pianoroll(result_dir, filename, sample_melody_framewise, accompany_pianoroll_framewise, sample_chord_groundtruth_framewise, sample_length_framewise, sample_tempo, sample_downbeat)\n"
   ]
  },
  {
   "cell_type": "code",
   "execution_count": 37,
   "metadata": {},
   "outputs": [
    {
     "data": {
      "text/plain": [
       "(1, 13056, 272, 128)"
      ]
     },
     "execution_count": 37,
     "metadata": {},
     "output_type": "execute_result"
    }
   ],
   "source": [
    "sample_chord_groundtruth_framewise.shape"
   ]
  },
  {
   "cell_type": "code",
   "execution_count": null,
   "metadata": {},
   "outputs": [],
   "source": []
  }
 ],
 "metadata": {
  "kernelspec": {
   "display_name": "Python 3",
   "language": "python",
   "name": "python3"
  },
  "language_info": {
   "codemirror_mode": {
    "name": "ipython",
    "version": 3
   },
   "file_extension": ".py",
   "mimetype": "text/x-python",
   "name": "python",
   "nbconvert_exporter": "python",
   "pygments_lexer": "ipython3",
   "version": "3.7.9"
  }
 },
 "nbformat": 4,
 "nbformat_minor": 4
}

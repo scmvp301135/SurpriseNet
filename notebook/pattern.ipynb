{
 "cells": [
  {
   "cell_type": "code",
   "execution_count": 31,
   "metadata": {},
   "outputs": [],
   "source": [
    "import time\n",
    "import random\n",
    "import numpy as np"
   ]
  },
  {
   "cell_type": "code",
   "execution_count": 52,
   "metadata": {},
   "outputs": [],
   "source": [
    "D = [[1,1],[1,3],[2,1],[2,2],[2,3],[3,2]]\n",
    "Q = random.sample(D,len(D))"
   ]
  },
  {
   "cell_type": "code",
   "execution_count": 101,
   "metadata": {},
   "outputs": [
    {
     "name": "stdout",
     "output_type": "stream",
     "text": [
      "[[1, 1], [1, 3], [2, 1], [2, 2], [2, 3], [3, 2]]\n",
      "[[1, 1], [1, 3], [2, 1], [2, 2], [2, 3], [3, 2]]\n"
     ]
    }
   ],
   "source": [
    "D = sorted(D)\n",
    "print(D)\n",
    "Q = sorted(Q)\n",
    "start = end = Q\n",
    "print(Q)"
   ]
  },
  {
   "cell_type": "code",
   "execution_count": null,
   "metadata": {},
   "outputs": [],
   "source": []
  },
  {
   "cell_type": "code",
   "execution_count": 102,
   "metadata": {},
   "outputs": [
    {
     "name": "stdout",
     "output_type": "stream",
     "text": [
      "[0, 2] 1 0 [1, 1]\n",
      "[1, 0] 2 0 [1, 1]\n",
      "[1, 1] 3 0 [1, 1]\n",
      "[1, 2] 4 0 [1, 1]\n",
      "[2, 1] 5 0 [1, 1]\n",
      "[1, -2] 2 1 [1, 3]\n",
      "[1, -1] 3 1 [1, 3]\n",
      "[1, 0] 4 1 [1, 3]\n",
      "[2, -1] 5 1 [1, 3]\n",
      "[0, 1] 3 2 [2, 1]\n",
      "[0, 2] 4 2 [2, 1]\n",
      "[1, 1] 5 2 [2, 1]\n",
      "[0, 1] 4 3 [2, 2]\n",
      "[1, 0] 5 3 [2, 2]\n",
      "[1, -1] 5 4 [2, 3]\n"
     ]
    }
   ],
   "source": [
    "## Find vector table\n",
    "i = 1\n",
    "j = 0\n",
    "length = len(start)\n",
    "table = []\n",
    "vectors = []\n",
    "while j < length:\n",
    "    i = j + 1\n",
    "    while i < length:\n",
    "        vector = [end[i][0]-start[j][0], end[i][1]-start[j][1]]\n",
    "        print(vector,i,j,start[j])\n",
    "        vectors.append(vector)\n",
    "        table.append([vector,start[j]])\n",
    "        i += 1\n",
    "    j += 1\n",
    "    \n",
    "    "
   ]
  },
  {
   "cell_type": "code",
   "execution_count": 99,
   "metadata": {},
   "outputs": [
    {
     "name": "stdout",
     "output_type": "stream",
     "text": [
      "[[[0, 1], [2, 1]], [[0, 1], [2, 2]], [[0, 2], [1, 1]], [[0, 2], [2, 1]], [[1, -2], [1, 3]], [[1, -1], [1, 3]], [[1, -1], [2, 3]], [[1, 0], [1, 1]], [[1, 0], [1, 3]], [[1, 0], [2, 2]], [[1, 1], [1, 1]], [[1, 1], [2, 1]], [[1, 2], [1, 1]], [[2, -1], [1, 3]], [[2, 1], [1, 1]]]\n"
     ]
    }
   ],
   "source": [
    "table = sorted(table)\n",
    "print(table)"
   ]
  },
  {
   "cell_type": "code",
   "execution_count": 100,
   "metadata": {},
   "outputs": [
    {
     "data": {
      "text/plain": [
       "[[[0, 1], [2, 1]],\n",
       " [[0, 1], [2, 2]],\n",
       " [[0, 2], [1, 1]],\n",
       " [[0, 2], [2, 1]],\n",
       " [[1, -2], [1, 3]],\n",
       " [[1, -1], [1, 3]],\n",
       " [[1, -1], [2, 3]],\n",
       " [[1, 0], [1, 1]],\n",
       " [[1, 0], [1, 3]],\n",
       " [[1, 0], [2, 2]],\n",
       " [[1, 1], [1, 1]],\n",
       " [[1, 1], [2, 1]],\n",
       " [[1, 2], [1, 1]],\n",
       " [[2, -1], [1, 3]],\n",
       " [[2, 1], [1, 1]]]"
      ]
     },
     "execution_count": 100,
     "metadata": {},
     "output_type": "execute_result"
    }
   ],
   "source": [
    "table"
   ]
  },
  {
   "cell_type": "code",
   "execution_count": 111,
   "metadata": {},
   "outputs": [
    {
     "data": {
      "text/plain": [
       "[[0, 2],\n",
       " [1, 0],\n",
       " [1, 1],\n",
       " [1, 2],\n",
       " [2, 1],\n",
       " [1, -2],\n",
       " [1, -1],\n",
       " [1, 0],\n",
       " [2, -1],\n",
       " [0, 1],\n",
       " [0, 2],\n",
       " [1, 1],\n",
       " [0, 1],\n",
       " [1, 0],\n",
       " [1, -1]]"
      ]
     },
     "execution_count": 111,
     "metadata": {},
     "output_type": "execute_result"
    }
   ],
   "source": [
    "vectors"
   ]
  },
  {
   "cell_type": "code",
   "execution_count": 122,
   "metadata": {},
   "outputs": [],
   "source": [
    "count_dict = {str(i):vectors.count(i) for i in vectors}\n",
    "\n",
    "    "
   ]
  },
  {
   "cell_type": "code",
   "execution_count": 124,
   "metadata": {},
   "outputs": [
    {
     "data": {
      "text/plain": [
       "{'[0, 2]': 2,\n",
       " '[1, 0]': 3,\n",
       " '[1, 1]': 2,\n",
       " '[1, 2]': 1,\n",
       " '[2, 1]': 1,\n",
       " '[1, -2]': 1,\n",
       " '[1, -1]': 2,\n",
       " '[2, -1]': 1,\n",
       " '[0, 1]': 2}"
      ]
     },
     "execution_count": 124,
     "metadata": {},
     "output_type": "execute_result"
    }
   ],
   "source": [
    "count_dict"
   ]
  },
  {
   "cell_type": "code",
   "execution_count": 126,
   "metadata": {},
   "outputs": [
    {
     "data": {
      "text/plain": [
       "3"
      ]
     },
     "execution_count": 126,
     "metadata": {},
     "output_type": "execute_result"
    }
   ],
   "source": [
    "max(count_dict.values())"
   ]
  },
  {
   "cell_type": "code",
   "execution_count": 187,
   "metadata": {},
   "outputs": [],
   "source": [
    "#### SIA algorithm\n",
    "class SIA():\n",
    "    \"\"\" \n",
    "    Find repeated patterns.\n",
    "\n",
    "    Parameters\n",
    "    ----------\n",
    "    input_seq : List [time,pitch].\n",
    "\n",
    "    Returns\n",
    "    -------\n",
    "    table : sorted list with all vectors.\n",
    "    \"\"\"\n",
    "    def __init__(self,input_seq):\n",
    "        self.input_seq = sorted(input_seq)\n",
    "        self.start = self.end = self.input_seq\n",
    "        self.table = []\n",
    "        self.vectors = []\n",
    "        self.count_dict = {}\n",
    "        \n",
    "        ## Find vector table\n",
    "        i = 1\n",
    "        j = 0\n",
    "        length = len(self.input_seq)\n",
    "        \n",
    "        # Create table\n",
    "        while j < length:\n",
    "            i = j + 1\n",
    "            while i < length:\n",
    "                vector = [self.end[i][0]-self.start[j][0], self.end[i][1]-self.start[j][1]]\n",
    "#                 print(i,j)\n",
    "#                 print(vector,i,j,self.start[j])\n",
    "                self.vectors.append(vector)\n",
    "                self.table.append([vector,self.start[j]])\n",
    "                i += 1\n",
    "            j += 1\n",
    "\n",
    "        self.table = sorted(self.table)\n",
    "        self.count_dict = {str(i):self.vectors.count(i) for i in self.vectors}\n",
    "    \n",
    "    ## Calculate max pattern\n",
    "    def max_pattern(self):\n",
    "        max_value = max(self.count_dict.values())\n",
    "        ratio = max_value / len(self.input_seq)\n",
    "        \n",
    "        return max_value, ratio"
   ]
  },
  {
   "cell_type": "code",
   "execution_count": 143,
   "metadata": {},
   "outputs": [],
   "source": [
    "input_seq = Q\n",
    "sia = SIA(Q)"
   ]
  },
  {
   "cell_type": "code",
   "execution_count": 144,
   "metadata": {},
   "outputs": [
    {
     "data": {
      "text/plain": [
       "[[[0, 1], [2, 1]],\n",
       " [[0, 1], [2, 2]],\n",
       " [[0, 2], [1, 1]],\n",
       " [[0, 2], [2, 1]],\n",
       " [[1, -2], [1, 3]],\n",
       " [[1, -1], [1, 3]],\n",
       " [[1, -1], [2, 3]],\n",
       " [[1, 0], [1, 1]],\n",
       " [[1, 0], [1, 3]],\n",
       " [[1, 0], [2, 2]],\n",
       " [[1, 1], [1, 1]],\n",
       " [[1, 1], [2, 1]],\n",
       " [[1, 2], [1, 1]],\n",
       " [[2, -1], [1, 3]],\n",
       " [[2, 1], [1, 1]]]"
      ]
     },
     "execution_count": 144,
     "metadata": {},
     "output_type": "execute_result"
    }
   ],
   "source": [
    "sia.table"
   ]
  },
  {
   "cell_type": "code",
   "execution_count": 145,
   "metadata": {},
   "outputs": [
    {
     "data": {
      "text/plain": [
       "(3, 0.5)"
      ]
     },
     "execution_count": 145,
     "metadata": {},
     "output_type": "execute_result"
    }
   ],
   "source": [
    "sia.max_pattern()"
   ]
  },
  {
   "cell_type": "code",
   "execution_count": 146,
   "metadata": {},
   "outputs": [
    {
     "data": {
      "text/plain": [
       "{'[0, 2]': 2,\n",
       " '[1, 0]': 3,\n",
       " '[1, 1]': 2,\n",
       " '[1, 2]': 1,\n",
       " '[2, 1]': 1,\n",
       " '[1, -2]': 1,\n",
       " '[1, -1]': 2,\n",
       " '[2, -1]': 1,\n",
       " '[0, 1]': 2}"
      ]
     },
     "execution_count": 146,
     "metadata": {},
     "output_type": "execute_result"
    }
   ],
   "source": [
    "sia.count_dict"
   ]
  },
  {
   "cell_type": "code",
   "execution_count": 152,
   "metadata": {},
   "outputs": [],
   "source": [
    "chord = np.load('../number_96.npy')\n",
    "chord_onehot = np.load('../onehot_96.npy')\n",
    "length = np.load('../length.npy')"
   ]
  },
  {
   "cell_type": "code",
   "execution_count": 153,
   "metadata": {},
   "outputs": [
    {
     "name": "stdout",
     "output_type": "stream",
     "text": [
      "(17430, 272, 1)\n",
      "(17430, 272, 96)\n",
      "(17430,)\n"
     ]
    }
   ],
   "source": [
    "print(chord.shape)\n",
    "print(chord_onehot.shape)\n",
    "print(length.shape)"
   ]
  },
  {
   "cell_type": "code",
   "execution_count": 196,
   "metadata": {},
   "outputs": [
    {
     "name": "stdout",
     "output_type": "stream",
     "text": [
      "[40, 40, 0, 0, 40, 40, 0, 0, 40, 40, 0, 0, 40, 40, 0, 0, 0]\n",
      "[[0, 40], [1, 40], [2, 0], [3, 0], [4, 40], [5, 40], [6, 0], [7, 0], [8, 40], [9, 40], [10, 0], [11, 0], [12, 40], [13, 40], [14, 0], [15, 0], [16, 0]]\n"
     ]
    }
   ],
   "source": [
    "i =0\n",
    "seq = chord[i][:length[i]].flatten().tolist()\n",
    "input_seq = [[i,seq[i]] for i in range(len(seq))]\n",
    "\n",
    "print(seq)\n",
    "print(input_seq)"
   ]
  },
  {
   "cell_type": "code",
   "execution_count": 197,
   "metadata": {},
   "outputs": [],
   "source": [
    "pattern = SIA(input_seq)"
   ]
  },
  {
   "cell_type": "code",
   "execution_count": 198,
   "metadata": {},
   "outputs": [
    {
     "data": {
      "text/plain": [
       "[[[1, -40], [1, 40]],\n",
       " [[1, -40], [5, 40]],\n",
       " [[1, -40], [9, 40]],\n",
       " [[1, -40], [13, 40]],\n",
       " [[1, 0], [0, 40]],\n",
       " [[1, 0], [2, 0]],\n",
       " [[1, 0], [4, 40]],\n",
       " [[1, 0], [6, 0]],\n",
       " [[1, 0], [8, 40]],\n",
       " [[1, 0], [10, 0]],\n",
       " [[1, 0], [12, 40]],\n",
       " [[1, 0], [14, 0]],\n",
       " [[1, 0], [15, 0]],\n",
       " [[1, 40], [3, 0]],\n",
       " [[1, 40], [7, 0]],\n",
       " [[1, 40], [11, 0]],\n",
       " [[2, -40], [0, 40]],\n",
       " [[2, -40], [1, 40]],\n",
       " [[2, -40], [4, 40]],\n",
       " [[2, -40], [5, 40]],\n",
       " [[2, -40], [8, 40]],\n",
       " [[2, -40], [9, 40]],\n",
       " [[2, -40], [12, 40]],\n",
       " [[2, -40], [13, 40]],\n",
       " [[2, 0], [14, 0]],\n",
       " [[2, 40], [2, 0]],\n",
       " [[2, 40], [3, 0]],\n",
       " [[2, 40], [6, 0]],\n",
       " [[2, 40], [7, 0]],\n",
       " [[2, 40], [10, 0]],\n",
       " [[2, 40], [11, 0]],\n",
       " [[3, -40], [0, 40]],\n",
       " [[3, -40], [4, 40]],\n",
       " [[3, -40], [8, 40]],\n",
       " [[3, -40], [12, 40]],\n",
       " [[3, -40], [13, 40]],\n",
       " [[3, 0], [1, 40]],\n",
       " [[3, 0], [3, 0]],\n",
       " [[3, 0], [5, 40]],\n",
       " [[3, 0], [7, 0]],\n",
       " [[3, 0], [9, 40]],\n",
       " [[3, 0], [11, 0]],\n",
       " [[3, 40], [2, 0]],\n",
       " [[3, 40], [6, 0]],\n",
       " [[3, 40], [10, 0]],\n",
       " [[4, -40], [12, 40]],\n",
       " [[4, 0], [0, 40]],\n",
       " [[4, 0], [1, 40]],\n",
       " [[4, 0], [2, 0]],\n",
       " [[4, 0], [3, 0]],\n",
       " [[4, 0], [4, 40]],\n",
       " [[4, 0], [5, 40]],\n",
       " [[4, 0], [6, 0]],\n",
       " [[4, 0], [7, 0]],\n",
       " [[4, 0], [8, 40]],\n",
       " [[4, 0], [9, 40]],\n",
       " [[4, 0], [10, 0]],\n",
       " [[4, 0], [11, 0]],\n",
       " [[5, -40], [1, 40]],\n",
       " [[5, -40], [5, 40]],\n",
       " [[5, -40], [9, 40]],\n",
       " [[5, 0], [0, 40]],\n",
       " [[5, 0], [2, 0]],\n",
       " [[5, 0], [4, 40]],\n",
       " [[5, 0], [6, 0]],\n",
       " [[5, 0], [8, 40]],\n",
       " [[5, 0], [10, 0]],\n",
       " [[5, 0], [11, 0]],\n",
       " [[5, 40], [3, 0]],\n",
       " [[5, 40], [7, 0]],\n",
       " [[6, -40], [0, 40]],\n",
       " [[6, -40], [1, 40]],\n",
       " [[6, -40], [4, 40]],\n",
       " [[6, -40], [5, 40]],\n",
       " [[6, -40], [8, 40]],\n",
       " [[6, -40], [9, 40]],\n",
       " [[6, 0], [10, 0]],\n",
       " [[6, 40], [2, 0]],\n",
       " [[6, 40], [3, 0]],\n",
       " [[6, 40], [6, 0]],\n",
       " [[6, 40], [7, 0]],\n",
       " [[7, -40], [0, 40]],\n",
       " [[7, -40], [4, 40]],\n",
       " [[7, -40], [8, 40]],\n",
       " [[7, -40], [9, 40]],\n",
       " [[7, 0], [1, 40]],\n",
       " [[7, 0], [3, 0]],\n",
       " [[7, 0], [5, 40]],\n",
       " [[7, 0], [7, 0]],\n",
       " [[7, 40], [2, 0]],\n",
       " [[7, 40], [6, 0]],\n",
       " [[8, -40], [8, 40]],\n",
       " [[8, 0], [0, 40]],\n",
       " [[8, 0], [1, 40]],\n",
       " [[8, 0], [2, 0]],\n",
       " [[8, 0], [3, 0]],\n",
       " [[8, 0], [4, 40]],\n",
       " [[8, 0], [5, 40]],\n",
       " [[8, 0], [6, 0]],\n",
       " [[8, 0], [7, 0]],\n",
       " [[9, -40], [1, 40]],\n",
       " [[9, -40], [5, 40]],\n",
       " [[9, 0], [0, 40]],\n",
       " [[9, 0], [2, 0]],\n",
       " [[9, 0], [4, 40]],\n",
       " [[9, 0], [6, 0]],\n",
       " [[9, 0], [7, 0]],\n",
       " [[9, 40], [3, 0]],\n",
       " [[10, -40], [0, 40]],\n",
       " [[10, -40], [1, 40]],\n",
       " [[10, -40], [4, 40]],\n",
       " [[10, -40], [5, 40]],\n",
       " [[10, 0], [6, 0]],\n",
       " [[10, 40], [2, 0]],\n",
       " [[10, 40], [3, 0]],\n",
       " [[11, -40], [0, 40]],\n",
       " [[11, -40], [4, 40]],\n",
       " [[11, -40], [5, 40]],\n",
       " [[11, 0], [1, 40]],\n",
       " [[11, 0], [3, 0]],\n",
       " [[11, 40], [2, 0]],\n",
       " [[12, -40], [4, 40]],\n",
       " [[12, 0], [0, 40]],\n",
       " [[12, 0], [1, 40]],\n",
       " [[12, 0], [2, 0]],\n",
       " [[12, 0], [3, 0]],\n",
       " [[13, -40], [1, 40]],\n",
       " [[13, 0], [0, 40]],\n",
       " [[13, 0], [2, 0]],\n",
       " [[13, 0], [3, 0]],\n",
       " [[14, -40], [0, 40]],\n",
       " [[14, -40], [1, 40]],\n",
       " [[14, 0], [2, 0]],\n",
       " [[15, -40], [0, 40]],\n",
       " [[15, -40], [1, 40]],\n",
       " [[16, -40], [0, 40]]]"
      ]
     },
     "execution_count": 198,
     "metadata": {},
     "output_type": "execute_result"
    }
   ],
   "source": [
    "pattern.table"
   ]
  },
  {
   "cell_type": "code",
   "execution_count": 199,
   "metadata": {},
   "outputs": [
    {
     "data": {
      "text/plain": [
       "{'[1, 0]': 9,\n",
       " '[2, -40]': 8,\n",
       " '[3, -40]': 5,\n",
       " '[4, 0]': 12,\n",
       " '[5, 0]': 7,\n",
       " '[6, -40]': 6,\n",
       " '[7, -40]': 4,\n",
       " '[8, 0]': 8,\n",
       " '[9, 0]': 5,\n",
       " '[10, -40]': 4,\n",
       " '[11, -40]': 3,\n",
       " '[12, 0]': 4,\n",
       " '[13, 0]': 3,\n",
       " '[14, -40]': 2,\n",
       " '[15, -40]': 2,\n",
       " '[16, -40]': 1,\n",
       " '[1, -40]': 4,\n",
       " '[3, 0]': 6,\n",
       " '[5, -40]': 3,\n",
       " '[7, 0]': 4,\n",
       " '[9, -40]': 2,\n",
       " '[11, 0]': 2,\n",
       " '[13, -40]': 1,\n",
       " '[2, 40]': 6,\n",
       " '[3, 40]': 3,\n",
       " '[6, 40]': 4,\n",
       " '[7, 40]': 2,\n",
       " '[10, 40]': 2,\n",
       " '[11, 40]': 1,\n",
       " '[14, 0]': 1,\n",
       " '[1, 40]': 3,\n",
       " '[5, 40]': 2,\n",
       " '[9, 40]': 1,\n",
       " '[12, -40]': 1,\n",
       " '[10, 0]': 1,\n",
       " '[8, -40]': 1,\n",
       " '[6, 0]': 1,\n",
       " '[4, -40]': 1,\n",
       " '[2, 0]': 1}"
      ]
     },
     "execution_count": 199,
     "metadata": {},
     "output_type": "execute_result"
    }
   ],
   "source": [
    "pattern.count_dict"
   ]
  },
  {
   "cell_type": "code",
   "execution_count": 200,
   "metadata": {},
   "outputs": [
    {
     "data": {
      "text/plain": [
       "(12, 0.7058823529411765)"
      ]
     },
     "execution_count": 200,
     "metadata": {},
     "output_type": "execute_result"
    }
   ],
   "source": [
    "pattern.max_pattern()"
   ]
  },
  {
   "cell_type": "code",
   "execution_count": null,
   "metadata": {},
   "outputs": [],
   "source": []
  }
 ],
 "metadata": {
  "kernelspec": {
   "display_name": "Python 3",
   "language": "python",
   "name": "python3"
  },
  "language_info": {
   "codemirror_mode": {
    "name": "ipython",
    "version": 3
   },
   "file_extension": ".py",
   "mimetype": "text/x-python",
   "name": "python",
   "nbconvert_exporter": "python",
   "pygments_lexer": "ipython3",
   "version": "3.7.9"
  }
 },
 "nbformat": 4,
 "nbformat_minor": 4
}

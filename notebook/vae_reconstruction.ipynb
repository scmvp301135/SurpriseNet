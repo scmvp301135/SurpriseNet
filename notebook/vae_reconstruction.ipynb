{
 "cells": [
  {
   "cell_type": "code",
   "execution_count": 3,
   "metadata": {},
   "outputs": [],
   "source": [
    "import os\n",
    "os.chdir('..')\n"
   ]
  },
  {
   "cell_type": "code",
   "execution_count": 9,
   "metadata": {},
   "outputs": [],
   "source": [
    "from tonal import pianoroll2number, joint_prob2pianoroll96\n",
    "import numpy as np\n",
    "import torch\n",
    "from torch.utils.data import DataLoader, Dataset\n",
    "import torch.nn as nn\n",
    "import torch.nn.functional as F\n",
    "import torch.optim as optim\n",
    "from torch.nn.utils.rnn import pack_padded_sequence, pad_packed_sequence\n",
    "from pypianoroll import Multitrack, Track\n",
    "import pypianoroll as pr\n",
    "import pickle\n",
    "from matplotlib import pyplot as plt\n",
    "import os\n",
    "import random\n",
    "from model.VAE import *"
   ]
  },
  {
   "cell_type": "code",
   "execution_count": 1,
   "metadata": {},
   "outputs": [
    {
     "data": {
      "text/plain": [
       "'/mnt/md1/user_victor/automatic_melody_harmonization/notebook'"
      ]
     },
     "execution_count": 1,
     "metadata": {},
     "output_type": "execute_result"
    }
   ],
   "source": [
    "pwd"
   ]
  },
  {
   "cell_type": "code",
   "execution_count": 13,
   "metadata": {},
   "outputs": [
    {
     "name": "stdout",
     "output_type": "stream",
     "text": [
      "loading data...\n",
      "splitting testing set...\n"
     ]
    }
   ],
   "source": [
    "# device = torch.device('cuda:1')\n",
    "device = 'cpu'\n",
    "val_size = 500\n",
    "\n",
    "# Load data\n",
    "print('loading data...')\n",
    "# melody_data = np.load('./melody_data.npy')\n",
    "# chord_groundtruth = np.load('./chord_groundtruth.npy')\n",
    "chord_onehot = np.load('./onehot_96.npy')\n",
    "\n",
    "# melody = np.load('./melody_baseline.npy')\n",
    "lengths = np.load('./length.npy')\n",
    "\n",
    "f = open('tempos', 'rb')\n",
    "tempos = pickle.load(f)\n",
    "f.close()\n",
    "f = open('downbeats', 'rb')\n",
    "downbeats = pickle.load(f)\n",
    "f.close()\n",
    "\n",
    "print('splitting testing set...')\n",
    "# melody_data = melody_data[:val_size]\n",
    "# chord_groundtruth = chord_groundtruth[:val_size]\n",
    "\n",
    "# val_melody = torch.from_numpy(melody[:val_size]).float()\n",
    "val_chord = torch.from_numpy(chord_onehot[:val_size]).float()\n",
    "val_length = torch.from_numpy(lengths[:val_size])\n",
    "\n",
    "tempos = tempos[:val_size]\n",
    "downbeats = downbeats[:val_size]\n"
   ]
  },
  {
   "cell_type": "code",
   "execution_count": 4,
   "metadata": {},
   "outputs": [],
   "source": [
    "\n"
   ]
  },
  {
   "cell_type": "code",
   "execution_count": 14,
   "metadata": {},
   "outputs": [
    {
     "name": "stdout",
     "output_type": "stream",
     "text": [
      "building model...\n"
     ]
    }
   ],
   "source": [
    "\n",
    "# Load model\n",
    "print('building model...')\n",
    "model = VAE(device = device).to(device)\n",
    "model.load_state_dict(torch.load('output_models/model_vae.pth'))\n",
    "\n",
    "model.eval()\n",
    "chord, length = val_chord.to(device), val_length.to(device)\n",
    "\n",
    "# Prediction\n",
    "chord_pred, _, mu, log_var, input_x = model(chord,length)"
   ]
  },
  {
   "cell_type": "code",
   "execution_count": 21,
   "metadata": {},
   "outputs": [
    {
     "data": {
      "text/plain": [
       "array([[2.5184202e-06, 1.5244591e-17, 6.2841087e-12, ..., 1.9881743e-10,\n",
       "        5.2519209e-16, 2.7624528e-12],\n",
       "       [1.1105512e-06, 2.3133952e-25, 1.0876592e-18, ..., 6.2585478e-17,\n",
       "        1.2020495e-22, 9.6774623e-18],\n",
       "       [9.4075078e-01, 2.2639604e-06, 8.4427300e-13, ..., 5.3348527e-11,\n",
       "        2.5747914e-11, 5.7785014e-12],\n",
       "       ...,\n",
       "       [4.2970033e-04, 4.5616929e-14, 1.1828368e-16, ..., 1.6002414e-15,\n",
       "        5.4371147e-17, 1.0034591e-15],\n",
       "       [1.2148623e-04, 5.7152498e-01, 2.0806915e-06, ..., 3.8566970e-05,\n",
       "        1.2229836e-07, 3.8555108e-08],\n",
       "       [1.0333993e-05, 9.7323483e-01, 7.9513729e-09, ..., 1.4840099e-06,\n",
       "        2.7465873e-11, 3.0970768e-12]], dtype=float32)"
      ]
     },
     "execution_count": 21,
     "metadata": {},
     "output_type": "execute_result"
    }
   ],
   "source": [
    "chord_pred[0]"
   ]
  },
  {
   "cell_type": "code",
   "execution_count": 16,
   "metadata": {},
   "outputs": [
    {
     "data": {
      "text/plain": [
       "torch.Size([500, 272, 96])"
      ]
     },
     "execution_count": 16,
     "metadata": {},
     "output_type": "execute_result"
    }
   ],
   "source": [
    "chord.shape"
   ]
  },
  {
   "cell_type": "code",
   "execution_count": 17,
   "metadata": {},
   "outputs": [
    {
     "data": {
      "text/plain": [
       "tensor([[0., 0., 0.,  ..., 0., 0., 0.],\n",
       "        [0., 0., 0.,  ..., 0., 0., 0.],\n",
       "        [1., 0., 0.,  ..., 0., 0., 0.],\n",
       "        ...,\n",
       "        [0., 0., 0.,  ..., 0., 0., 0.],\n",
       "        [0., 0., 0.,  ..., 0., 0., 0.],\n",
       "        [0., 0., 0.,  ..., 0., 0., 0.]])"
      ]
     },
     "execution_count": 17,
     "metadata": {},
     "output_type": "execute_result"
    }
   ],
   "source": [
    "chord[0]"
   ]
  },
  {
   "cell_type": "code",
   "execution_count": 19,
   "metadata": {},
   "outputs": [
    {
     "name": "stdout",
     "output_type": "stream",
     "text": [
      "proceed chord decode...\n",
      "(500, 272, 128)\n"
     ]
    }
   ],
   "source": [
    "# Proceed chord decode\n",
    "print('proceed chord decode...')\n",
    "chord_pred = chord_pred.cpu().detach().numpy()\n",
    "# melody = melody.reshape(val_size, 272, 48, 12)\n",
    "# melody = melody.cpu().detach().numpy()\n",
    "length = length.cpu().detach().numpy()\n",
    "joint_prob = chord_pred\n",
    "\n",
    "# Append argmax index to get pianoroll array\n",
    "chord_pianoroll = []\n",
    "for song in joint_prob:\n",
    "    pianoroll = []\n",
    "    for beat in song:\n",
    "        pianoroll.append(joint_prob2pianoroll96(beat))\n",
    "    chord_pianoroll.append(pianoroll)\n",
    "\n",
    "chord_pianoroll = np.asarray(chord_pianoroll)\n",
    "\n",
    "accompany_pianoroll = chord_pianoroll * 100\n",
    "print(chord_pianoroll.shape)"
   ]
  },
  {
   "cell_type": "code",
   "execution_count": 20,
   "metadata": {},
   "outputs": [
    {
     "data": {
      "text/plain": [
       "array([[0, 0, 0, ..., 0, 0, 0],\n",
       "       [0, 0, 0, ..., 0, 0, 0],\n",
       "       [0, 0, 0, ..., 0, 0, 0],\n",
       "       ...,\n",
       "       [0, 0, 0, ..., 0, 0, 0],\n",
       "       [0, 0, 0, ..., 0, 0, 0],\n",
       "       [0, 0, 0, ..., 0, 0, 0]])"
      ]
     },
     "execution_count": 20,
     "metadata": {},
     "output_type": "execute_result"
    }
   ],
   "source": []
  },
  {
   "cell_type": "code",
   "execution_count": null,
   "metadata": {},
   "outputs": [],
   "source": []
  }
 ],
 "metadata": {
  "kernelspec": {
   "display_name": "Python 3",
   "language": "python",
   "name": "python3"
  },
  "language_info": {
   "codemirror_mode": {
    "name": "ipython",
    "version": 3
   },
   "file_extension": ".py",
   "mimetype": "text/x-python",
   "name": "python",
   "nbconvert_exporter": "python",
   "pygments_lexer": "ipython3",
   "version": "3.7.9"
  }
 },
 "nbformat": 4,
 "nbformat_minor": 4
}
